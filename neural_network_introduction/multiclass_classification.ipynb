{
 "cells": [
  {
   "cell_type": "markdown",
   "metadata": {
    "collapsed": true,
    "pycharm": {
     "name": "#%% md\n"
    }
   },
   "source": [
    "## Classifying news-wires a multiclass classification:\n",
    "This problem is a instance of multiclass classification\n",
    "because each data point should be classified into one category ,\n",
    "the problem is more specifically an instance of single label multiclass\n",
    "classification.\n",
    "\n",
    "### Reuters dataset\n"
   ]
  },
  {
   "cell_type": "code",
   "execution_count": 1,
   "outputs": [
    {
     "name": "stderr",
     "output_type": "stream",
     "text": [
      "2021-08-07 14:03:39.657036: W tensorflow/stream_executor/platform/default/dso_loader.cc:64] Could not load dynamic library 'libcudart.so.11.0'; dlerror: libcudart.so.11.0: cannot open shared object file: No such file or directory\n",
      "2021-08-07 14:03:39.657060: I tensorflow/stream_executor/cuda/cudart_stub.cc:29] Ignore above cudart dlerror if you do not have a GPU set up on your machine.\n",
      "/home/mgrdich/.local/share/virtualenvs/deep_learning_python-pzRhtxR0/lib/python3.8/site-packages/tensorflow/python/keras/datasets/reuters.py:143: VisibleDeprecationWarning: Creating an ndarray from ragged nested sequences (which is a list-or-tuple of lists-or-tuples-or ndarrays with different lengths or shapes) is deprecated. If you meant to do this, you must specify 'dtype=object' when creating the ndarray\n",
      "  x_train, y_train = np.array(xs[:idx]), np.array(labels[:idx])\n",
      "/home/mgrdich/.local/share/virtualenvs/deep_learning_python-pzRhtxR0/lib/python3.8/site-packages/tensorflow/python/keras/datasets/reuters.py:144: VisibleDeprecationWarning: Creating an ndarray from ragged nested sequences (which is a list-or-tuple of lists-or-tuples-or ndarrays with different lengths or shapes) is deprecated. If you meant to do this, you must specify 'dtype=object' when creating the ndarray\n",
      "  x_test, y_test = np.array(xs[idx:]), np.array(labels[idx:])\n"
     ]
    },
    {
     "name": "stdout",
     "output_type": "stream",
     "text": [
      "8982\n",
      "2246\n"
     ]
    }
   ],
   "source": [
    "from tensorflow.keras.datasets import reuters\n",
    "(train_data,train_labels) , (test_data, test_labels) = reuters.load_data(\n",
    "    num_words=10000\n",
    ")\n",
    "\n",
    "print(len(train_data))\n",
    "print(len(test_data))"
   ],
   "metadata": {
    "collapsed": false,
    "pycharm": {
     "name": "#%%\n"
    }
   }
  },
  {
   "cell_type": "markdown",
   "source": [
    "### Decoding news-wires back to text\n",
    "\n"
   ],
   "metadata": {
    "collapsed": false,
    "pycharm": {
     "name": "#%% md\n"
    }
   }
  },
  {
   "cell_type": "code",
   "execution_count": 2,
   "outputs": [
    {
     "name": "stdout",
     "output_type": "stream",
     "text": [
      "???saidasaresultofitsdecemberacquisitionofspacecoitexpectsearningspersharein1987of115to130dlrspershareupfrom70ctsin1986thecompanysaidpretaxnetshouldrisetonineto10mlndlrsfromsixmlndlrsin1986andrentaloperationrevenuesto19to22mlndlrsfrom125mlndlrsitsaidcashflowpersharethisyearshouldbe250tothreedlrsreuter3\n"
     ]
    }
   ],
   "source": [
    "word_index = reuters.get_word_index()\n",
    "reverse_word_index = {v: k for k, v in word_index.items()}\n",
    "decoded_newswire = ''.join([\n",
    "    reverse_word_index.get(i-3,'?') for i in train_data[0]\n",
    "])\n",
    "print(decoded_newswire)"
   ],
   "metadata": {
    "collapsed": false,
    "pycharm": {
     "name": "#%%\n"
    }
   }
  },
  {
   "cell_type": "markdown",
   "source": [
    "the label associated with an example is an integer between `0-45` topic index"
   ],
   "metadata": {
    "collapsed": false,
    "pycharm": {
     "name": "#%% md\n"
    }
   }
  },
  {
   "cell_type": "code",
   "execution_count": 3,
   "outputs": [
    {
     "name": "stdout",
     "output_type": "stream",
     "text": [
      "to\n"
     ]
    }
   ],
   "source": [
    "train_labels[0]\n",
    "print(reverse_word_index[train_labels[0]])\n",
    "# probably not decoded this way\n"
   ],
   "metadata": {
    "collapsed": false,
    "pycharm": {
     "name": "#%%\n"
    }
   }
  },
  {
   "cell_type": "code",
   "execution_count": 4,
   "outputs": [],
   "source": [
    "# vectorized\n",
    "from util.functions import vectorize_sequences\n",
    "x_train = vectorize_sequences(train_data,10000)\n",
    "x_test = vectorize_sequences(test_data,10000)\n",
    "\n",
    "# OR categorical encoding\n",
    "from tensorflow.keras.utils import to_categorical\n",
    "one_hot_train_labels = to_categorical(train_labels)\n",
    "one_hot_test_labels = to_categorical(test_labels)\n"
   ],
   "metadata": {
    "collapsed": false,
    "pycharm": {
     "name": "#%%\n"
    }
   }
  },
  {
   "cell_type": "markdown",
   "source": [
    "### Building your Network\n",
    "But there is a new constraint here: the number of output classes has gone from 2 to 46. The\n",
    "dimensionality of the output space is much larger.\n",
    "\n",
    "In Stack of `Dense` Layers like you've been using each layer can only access information\n",
    "present in the output the previous layer"
   ],
   "metadata": {
    "collapsed": false,
    "pycharm": {
     "name": "#%% md\n"
    }
   }
  },
  {
   "cell_type": "code",
   "execution_count": 5,
   "outputs": [
    {
     "name": "stderr",
     "output_type": "stream",
     "text": [
      "2021-08-07 14:03:41.613191: I tensorflow/stream_executor/platform/default/dso_loader.cc:53] Successfully opened dynamic library libcuda.so.1\n",
      "2021-08-07 14:03:41.658896: I tensorflow/stream_executor/cuda/cuda_gpu_executor.cc:937] successful NUMA node read from SysFS had negative value (-1), but there must be at least one NUMA node, so returning NUMA node zero\n",
      "2021-08-07 14:03:41.659286: I tensorflow/core/common_runtime/gpu/gpu_device.cc:1733] Found device 0 with properties: \n",
      "pciBusID: 0000:01:00.0 name: GeForce GTX 950M computeCapability: 5.0\n",
      "coreClock: 1.124GHz coreCount: 5 deviceMemorySize: 3.95GiB deviceMemoryBandwidth: 29.83GiB/s\n",
      "2021-08-07 14:03:41.659404: W tensorflow/stream_executor/platform/default/dso_loader.cc:64] Could not load dynamic library 'libcudart.so.11.0'; dlerror: libcudart.so.11.0: cannot open shared object file: No such file or directory\n",
      "2021-08-07 14:03:41.659460: W tensorflow/stream_executor/platform/default/dso_loader.cc:64] Could not load dynamic library 'libcublas.so.11'; dlerror: libcublas.so.11: cannot open shared object file: No such file or directory\n",
      "2021-08-07 14:03:41.659510: W tensorflow/stream_executor/platform/default/dso_loader.cc:64] Could not load dynamic library 'libcublasLt.so.11'; dlerror: libcublasLt.so.11: cannot open shared object file: No such file or directory\n",
      "2021-08-07 14:03:41.659559: W tensorflow/stream_executor/platform/default/dso_loader.cc:64] Could not load dynamic library 'libcufft.so.10'; dlerror: libcufft.so.10: cannot open shared object file: No such file or directory\n",
      "2021-08-07 14:03:41.659624: W tensorflow/stream_executor/platform/default/dso_loader.cc:64] Could not load dynamic library 'libcurand.so.10'; dlerror: libcurand.so.10: cannot open shared object file: No such file or directory\n",
      "2021-08-07 14:03:41.659674: W tensorflow/stream_executor/platform/default/dso_loader.cc:64] Could not load dynamic library 'libcusolver.so.11'; dlerror: libcusolver.so.11: cannot open shared object file: No such file or directory\n",
      "2021-08-07 14:03:41.659722: W tensorflow/stream_executor/platform/default/dso_loader.cc:64] Could not load dynamic library 'libcusparse.so.11'; dlerror: libcusparse.so.11: cannot open shared object file: No such file or directory\n",
      "2021-08-07 14:03:41.659772: W tensorflow/stream_executor/platform/default/dso_loader.cc:64] Could not load dynamic library 'libcudnn.so.8'; dlerror: libcudnn.so.8: cannot open shared object file: No such file or directory\n",
      "2021-08-07 14:03:41.659781: W tensorflow/core/common_runtime/gpu/gpu_device.cc:1766] Cannot dlopen some GPU libraries. Please make sure the missing libraries mentioned above are installed properly if you would like to use GPU. Follow the guide at https://www.tensorflow.org/install/gpu for how to download and setup the required libraries for your platform.\n",
      "Skipping registering GPU devices...\n",
      "2021-08-07 14:03:41.660503: I tensorflow/core/platform/cpu_feature_guard.cc:142] This TensorFlow binary is optimized with oneAPI Deep Neural Network Library (oneDNN) to use the following CPU instructions in performance-critical operations:  AVX2 FMA\n",
      "To enable them in other operations, rebuild TensorFlow with the appropriate compiler flags.\n",
      "2021-08-07 14:03:41.660801: I tensorflow/core/common_runtime/gpu/gpu_device.cc:1258] Device interconnect StreamExecutor with strength 1 edge matrix:\n",
      "2021-08-07 14:03:41.660814: I tensorflow/core/common_runtime/gpu/gpu_device.cc:1264]      \n"
     ]
    }
   ],
   "source": [
    "from tensorflow.keras import models , layers\n",
    "model = models.Sequential()\n",
    "model.add(layers.Dense(64,activation='relu', input_shape=(10000,)))\n",
    "model.add(layers.Dense(64,activation='relu'))\n",
    "model.add(layers.Dense(46,activation='softmax'))"
   ],
   "metadata": {
    "collapsed": false,
    "pycharm": {
     "name": "#%%\n"
    }
   }
  },
  {
   "cell_type": "markdown",
   "source": [
    "There are two things two know about this architecture\n",
    "* You end the network with a dense layer of size 46. Each entry in this vec-\n",
    "tor (each dimension) will encode a different output class.\n",
    "* The last layer uses `softmax` activation , the network will output\n",
    "`probability Distribution` over `46` different output classes\n",
    "`output[i]` is the probability that the sample belongs to class `i`. The scores\n",
    "`46` will sum to `1`.\n",
    "\n",
    "`categorical_crossentropy` . It measures the distance between two probability distributions"
   ],
   "metadata": {
    "collapsed": false,
    "pycharm": {
     "name": "#%% md\n"
    }
   }
  },
  {
   "cell_type": "code",
   "execution_count": 6,
   "outputs": [],
   "source": [
    "model.compile(optimizer='rmsprop',\n",
    "              loss='categorical_crossentropy',\n",
    "              metrics=['accuracy']\n",
    "              )"
   ],
   "metadata": {
    "collapsed": false,
    "pycharm": {
     "name": "#%%\n"
    }
   }
  },
  {
   "cell_type": "markdown",
   "source": [
    "### Validating you approach\n"
   ],
   "metadata": {
    "collapsed": false,
    "pycharm": {
     "name": "#%% md\n"
    }
   }
  },
  {
   "cell_type": "code",
   "execution_count": 7,
   "outputs": [],
   "source": [
    "x_val = x_train[:1000]\n",
    "partial_x_train = x_train[1000:]\n",
    "\n",
    "y_val = one_hot_train_labels[:1000]\n",
    "partial_y_train = one_hot_train_labels[1000:]"
   ],
   "metadata": {
    "collapsed": false,
    "pycharm": {
     "name": "#%%\n"
    }
   }
  },
  {
   "cell_type": "code",
   "execution_count": 8,
   "outputs": [
    {
     "name": "stderr",
     "output_type": "stream",
     "text": [
      "2021-08-07 14:03:42.071749: W tensorflow/core/framework/cpu_allocator_impl.cc:80] Allocation of 319280000 exceeds 10% of free system memory.\n",
      "2021-08-07 14:03:42.324585: I tensorflow/compiler/mlir/mlir_graph_optimization_pass.cc:176] None of the MLIR Optimization Passes are enabled (registered 2)\n",
      "2021-08-07 14:03:42.325073: I tensorflow/core/platform/profile_utils/cpu_utils.cc:114] CPU Frequency: 2599990000 Hz\n"
     ]
    },
    {
     "name": "stdout",
     "output_type": "stream",
     "text": [
      "Epoch 1/20\n",
      "16/16 [==============================] - 1s 29ms/step - loss: 2.6371 - accuracy: 0.5381 - val_loss: 1.7197 - val_accuracy: 0.6590\b\b\b\b\b\b\b\b\b\b\b\b\b\b\b\b\b\b\b\b\b\b\b\b\b\b\b\b\b\b\b\b\b\b\b\b\b\b\b\b\b\b\b\b\b\b\b\b\b\b\b\b\b\b\b\b\b\b\b\b\b\b\b\b\b\b\b\b\b\b\b\b\b\b\b\b\b\b\b\b\b\b\b\b\b\b\b\b\b\b\b\b\b\b\b\b\b\b\b\b\b\b\b\b\b\b\b\b\b\b\b\b\b\b\b\b\b\b\b\b\b\b\b\b\b\b\b\b\b\b\b\b\b\b\b\b\b\b\b\b\b\b\b\b\b\b\b\b\b\b\b\b\b\b\b\b\b\b\b\b\b\b\b\b\b\b\b\b\b\b\b\b\b\b\b\b\b\b\b\b\b\b\b\b\b\b\b\b\b\b\b\b\b\b\b\b\b\b\b\b\b\b\b\b\b\b\b\b\b\b\b\b\b\b\b\b\b\b\b\b\b\b\b\b\b\b\b\b\b\b\b\b\b\b\b\b\b\b\b\b\b\b\b\b\b\b\b\b\b\b\b\b\b\b\b\b\b\b\b\b\b\b\b\b\b\b\b\b\b\b\b\b\b\b\b\b\b\b\b\b\b\b\b\b\b\b\b\b\b\b\b\b\b\b\b\b\b\b\b\b\b\b\b\b\b\b\b\b\b\b\b\b\b\b\b\b\b\b\b\b\b\b\b\b\b\b\b\b\b\b\b\b\b\b\b\b\b\b\b\b\b\b\b\b\b\b\b\b\b\b\b\b\b\b\b\b\b\b\b\b\b\b\b\n",
      "Epoch 2/20\n",
      "16/16 [==============================] - 0s 18ms/step - loss: 1.4051 - accuracy: 0.7127 - val_loss: 1.3008 - val_accuracy: 0.7210\b\b\b\b\b\b\b\b\b\b\b\b\b\b\b\b\b\b\b\b\b\b\b\b\b\b\b\b\b\b\b\b\b\b\b\b\b\b\b\b\b\b\b\b\b\b\b\b\b\b\b\b\b\b\b\b\b\b\b\b\b\b\b\b\b\b\b\b\b\b\b\b\b\b\b\b\b\b\b\b\b\b\b\b\b\b\b\b\b\b\b\b\b\b\b\b\b\b\b\b\b\b\b\b\b\b\b\b\b\b\b\b\b\b\b\b\b\b\b\b\b\b\b\b\b\b\b\b\b\b\b\b\b\b\b\b\b\b\b\b\b\b\b\b\b\b\b\b\b\b\b\b\b\b\b\b\b\b\b\b\b\b\b\b\b\b\b\b\b\b\b\b\b\b\b\b\b\b\b\b\b\b\b\b\b\b\b\b\b\b\b\b\b\b\b\b\b\b\b\b\b\b\b\b\b\b\b\b\b\b\b\b\b\b\b\b\b\b\b\b\b\b\b\b\b\b\b\b\b\b\b\b\b\b\b\b\b\b\b\b\b\b\b\b\b\b\b\b\b\b\b\b\b\b\b\b\b\b\b\b\b\b\b\b\b\b\b\b\b\b\b\b\b\b\b\b\b\b\b\b\b\b\b\b\b\b\b\b\b\b\b\b\b\b\b\b\b\b\b\b\b\b\b\b\b\b\b\b\b\b\b\b\b\b\b\b\b\b\b\b\b\b\b\b\b\b\b\b\b\b\b\b\b\b\b\b\b\b\b\b\b\b\b\b\b\b\b\b\b\b\b\b\b\b\b\b\b\b\b\b\b\b\b\n",
      "Epoch 3/20\n",
      "16/16 [==============================] - 0s 18ms/step - loss: 1.0485 - accuracy: 0.7777 - val_loss: 1.1285 - val_accuracy: 0.7560\b\b\b\b\b\b\b\b\b\b\b\b\b\b\b\b\b\b\b\b\b\b\b\b\b\b\b\b\b\b\b\b\b\b\b\b\b\b\b\b\b\b\b\b\b\b\b\b\b\b\b\b\b\b\b\b\b\b\b\b\b\b\b\b\b\b\b\b\b\b\b\b\b\b\b\b\b\b\b\b\b\b\b\b\b\b\b\b\b\b\b\b\b\b\b\b\b\b\b\b\b\b\b\b\b\b\b\b\b\b\b\b\b\b\b\b\b\b\b\b\b\b\b\b\b\b\b\b\b\b\b\b\b\b\b\b\b\b\b\b\b\b\b\b\b\b\b\b\b\b\b\b\b\b\b\b\b\b\b\b\b\b\b\b\b\b\b\b\b\b\b\b\b\b\b\b\b\b\b\b\b\b\b\b\b\b\b\b\b\b\b\b\b\b\b\b\b\b\b\b\b\b\b\b\b\b\b\b\b\b\b\b\b\b\b\b\b\b\b\b\b\b\b\b\b\b\b\b\b\b\b\b\b\b\b\b\b\b\b\b\b\b\b\b\b\b\b\b\b\b\b\b\b\b\b\b\b\b\b\b\b\b\b\b\b\b\b\b\b\b\b\b\b\b\b\b\b\b\b\b\b\b\b\b\b\b\b\b\b\b\b\b\b\b\b\b\b\b\b\b\b\b\b\b\b\b\b\b\b\b\b\b\b\b\b\b\b\b\b\b\b\b\b\b\b\b\b\b\b\b\b\b\b\b\b\b\b\b\b\b\b\b\b\b\b\b\b\b\b\b\b\b\b\b\b\b\b\b\b\b\b\b\b\n",
      "Epoch 4/20\n",
      "16/16 [==============================] - 0s 17ms/step - loss: 0.8364 - accuracy: 0.8213 - val_loss: 1.0773 - val_accuracy: 0.7590\b\b\b\b\b\b\b\b\b\b\b\b\b\b\b\b\b\b\b\b\b\b\b\b\b\b\b\b\b\b\b\b\b\b\b\b\b\b\b\b\b\b\b\b\b\b\b\b\b\b\b\b\b\b\b\b\b\b\b\b\b\b\b\b\b\b\b\b\b\b\b\b\b\b\b\b\b\b\b\b\b\b\b\b\b\b\b\b\b\b\b\b\b\b\b\b\b\b\b\b\b\b\b\b\b\b\b\b\b\b\b\b\b\b\b\b\b\b\b\b\b\b\b\b\b\b\b\b\b\b\b\b\b\b\b\b\b\b\b\b\b\b\b\b\b\b\b\b\b\b\b\b\b\b\b\b\b\b\b\b\b\b\b\b\b\b\b\b\b\b\b\b\b\b\b\b\b\b\b\b\b\b\b\b\b\b\b\b\b\b\b\b\b\b\b\b\b\b\b\b\b\b\b\b\b\b\b\b\b\b\b\b\b\b\b\b\b\b\b\b\b\b\b\b\b\b\b\b\b\b\b\b\b\b\b\b\b\b\b\b\b\b\b\b\b\b\b\b\b\b\b\b\b\b\b\b\b\b\b\b\b\b\b\b\b\b\b\b\b\b\b\b\b\b\b\b\b\b\b\b\b\b\b\b\b\b\b\b\b\b\b\b\b\b\b\b\b\b\b\b\b\b\b\b\b\b\b\b\b\b\b\b\b\b\b\b\b\b\b\b\b\b\b\b\b\b\b\b\b\b\b\b\b\b\b\b\b\b\b\b\b\b\b\b\b\b\b\b\b\b\b\b\b\b\b\b\b\b\b\b\b\b\b\n",
      "Epoch 5/20\n",
      "16/16 [==============================] - 0s 17ms/step - loss: 0.6807 - accuracy: 0.8520 - val_loss: 0.9861 - val_accuracy: 0.7860\b\b\b\b\b\b\b\b\b\b\b\b\b\b\b\b\b\b\b\b\b\b\b\b\b\b\b\b\b\b\b\b\b\b\b\b\b\b\b\b\b\b\b\b\b\b\b\b\b\b\b\b\b\b\b\b\b\b\b\b\b\b\b\b\b\b\b\b\b\b\b\b\b\b\b\b\b\b\b\b\b\b\b\b\b\b\b\b\b\b\b\b\b\b\b\b\b\b\b\b\b\b\b\b\b\b\b\b\b\b\b\b\b\b\b\b\b\b\b\b\b\b\b\b\b\b\b\b\b\b\b\b\b\b\b\b\b\b\b\b\b\b\b\b\b\b\b\b\b\b\b\b\b\b\b\b\b\b\b\b\b\b\b\b\b\b\b\b\b\b\b\b\b\b\b\b\b\b\b\b\b\b\b\b\b\b\b\b\b\b\b\b\b\b\b\b\b\b\b\b\b\b\b\b\b\b\b\b\b\b\b\b\b\b\b\b\b\b\b\b\b\b\b\b\b\b\b\b\b\b\b\b\b\b\b\b\b\b\b\b\b\b\b\b\b\b\b\b\b\b\b\b\b\b\b\b\b\b\b\b\b\b\b\b\b\b\b\b\b\b\b\b\b\b\b\b\b\b\b\b\b\n",
      "Epoch 6/20\n",
      "16/16 [==============================] - 0s 16ms/step - loss: 0.5468 - accuracy: 0.8822 - val_loss: 0.9388 - val_accuracy: 0.8030\b\b\b\b\b\b\b\b\b\b\b\b\b\b\b\b\b\b\b\b\b\b\b\b\b\b\b\b\b\b\b\b\b\b\b\b\b\b\b\b\b\b\b\b\b\b\b\b\b\b\b\b\b\b\b\b\b\b\b\b\b\b\b\b\b\b\b\b\b\b\b\b\b\b\b\b\b\b\b\b\b\b\b\b\b\b\b\b\b\b\b\b\b\b\b\b\b\b\b\b\b\b\b\b\b\b\b\b\b\b\b\b\b\b\b\b\b\b\b\b\b\b\b\b\b\b\b\b\b\b\b\b\b\b\b\b\b\b\b\b\b\b\b\b\b\b\b\b\b\b\b\b\b\b\b\b\b\b\b\b\b\b\b\b\b\b\b\b\b\b\b\b\b\b\b\b\b\b\b\b\b\b\b\b\b\b\b\b\b\b\b\b\b\b\b\b\b\b\b\b\b\b\b\b\b\b\b\b\b\b\b\b\b\b\b\b\b\b\b\b\b\b\b\b\b\b\b\b\b\b\b\b\b\b\b\b\b\b\b\b\b\b\b\b\b\b\b\b\b\b\b\b\b\b\b\b\b\b\b\b\b\b\b\b\b\b\b\b\b\b\b\b\b\b\b\b\b\b\b\b\b\n",
      "Epoch 7/20\n",
      "16/16 [==============================] - 0s 18ms/step - loss: 0.4445 - accuracy: 0.9044 - val_loss: 0.9181 - val_accuracy: 0.8160\b\b\b\b\b\b\b\b\b\b\b\b\b\b\b\b\b\b\b\b\b\b\b\b\b\b\b\b\b\b\b\b\b\b\b\b\b\b\b\b\b\b\b\b\b\b\b\b\b\b\b\b\b\b\b\b\b\b\b\b\b\b\b\b\b\b\b\b\b\b\b\b\b\b\b\b\b\b\b\b\b\b\b\b\b\b\b\b\b\b\b\b\b\b\b\b\b\b\b\b\b\b\b\b\b\b\b\b\b\b\b\b\b\b\b\b\b\b\b\b\b\b\b\b\b\b\b\b\b\b\b\b\b\b\b\b\b\b\b\b\b\b\b\b\b\b\b\b\b\b\b\b\b\b\b\b\b\b\b\b\b\b\b\b\b\b\b\b\b\b\b\b\b\b\b\b\b\b\b\b\b\b\b\b\b\b\b\b\b\b\b\b\b\b\b\b\b\b\b\b\b\b\b\b\b\b\b\b\b\b\b\b\b\b\b\b\b\b\b\b\b\b\b\b\b\b\b\b\b\b\b\b\b\b\b\b\b\b\b\b\b\b\b\b\b\b\b\b\b\b\b\b\b\b\b\b\b\b\b\b\b\b\b\b\b\b\b\b\b\b\b\b\b\b\b\b\b\b\b\b\b\b\b\b\b\b\b\b\b\b\b\b\b\b\b\b\b\b\b\b\b\b\b\b\b\b\b\b\b\b\b\b\b\b\b\b\b\b\b\b\b\b\b\b\b\b\b\b\b\b\b\b\b\b\b\b\b\b\b\b\b\b\b\b\b\b\b\b\b\b\b\b\b\b\b\b\b\b\b\b\b\b\b\n",
      "Epoch 8/20\n",
      "16/16 [==============================] - 0s 17ms/step - loss: 0.3651 - accuracy: 0.9237 - val_loss: 0.9178 - val_accuracy: 0.8070\b\b\b\b\b\b\b\b\b\b\b\b\b\b\b\b\b\b\b\b\b\b\b\b\b\b\b\b\b\b\b\b\b\b\b\b\b\b\b\b\b\b\b\b\b\b\b\b\b\b\b\b\b\b\b\b\b\b\b\b\b\b\b\b\b\b\b\b\b\b\b\b\b\b\b\b\b\b\b\b\b\b\b\b\b\b\b\b\b\b\b\b\b\b\b\b\b\b\b\b\b\b\b\b\b\b\b\b\b\b\b\b\b\b\b\b\b\b\b\b\b\b\b\b\b\b\b\b\b\b\b\b\b\b\b\b\b\b\b\b\b\b\b\b\b\b\b\b\b\b\b\b\b\b\b\b\b\b\b\b\b\b\b\b\b\b\b\b\b\b\b\b\b\b\b\b\b\b\b\b\b\b\b\b\b\b\b\b\b\b\b\b\b\b\b\b\b\b\b\b\b\b\b\b\b\b\b\b\b\b\b\b\b\b\b\b\b\b\b\b\b\b\b\b\b\b\b\b\b\b\b\b\b\b\b\b\b\b\b\b\b\b\b\b\b\b\b\b\b\b\b\b\b\b\b\b\b\b\b\b\b\b\b\b\b\b\b\b\b\b\b\b\b\b\b\b\b\b\b\b\b\n",
      "Epoch 9/20\n",
      "16/16 [==============================] - 0s 19ms/step - loss: 0.3010 - accuracy: 0.9361 - val_loss: 0.9384 - val_accuracy: 0.8000\b\b\b\b\b\b\b\b\b\b\b\b\b\b\b\b\b\b\b\b\b\b\b\b\b\b\b\b\b\b\b\b\b\b\b\b\b\b\b\b\b\b\b\b\b\b\b\b\b\b\b\b\b\b\b\b\b\b\b\b\b\b\b\b\b\b\b\b\b\b\b\b\b\b\b\b\b\b\b\b\b\b\b\b\b\b\b\b\b\b\b\b\b\b\b\b\b\b\b\b\b\b\b\b\b\b\b\b\b\b\b\b\b\b\b\b\b\b\b\b\b\b\b\b\b\b\b\b\b\b\b\b\b\b\b\b\b\b\b\b\b\b\b\b\b\b\b\b\b\b\b\b\b\b\b\b\b\b\b\b\b\b\b\b\b\b\b\b\b\b\b\b\b\b\b\b\b\b\b\b\b\b\b\b\b\b\b\b\b\b\b\b\b\b\b\b\b\b\b\b\b\b\b\b\b\b\b\b\b\b\b\b\b\b\b\b\b\b\b\b\b\b\b\b\b\b\b\b\b\b\b\b\b\b\b\b\b\b\b\b\b\b\b\b\b\b\b\b\b\b\b\b\b\b\b\b\b\b\b\b\b\b\b\b\b\b\b\b\b\b\b\b\b\b\b\b\b\b\b\b\b\b\b\b\b\b\b\b\b\b\b\b\b\b\b\b\b\b\b\b\b\b\b\b\b\b\b\b\b\b\b\b\b\b\b\b\b\b\b\b\b\b\b\b\b\b\b\b\b\b\b\b\b\b\b\b\b\b\b\b\b\b\b\b\b\b\b\b\b\b\b\b\b\b\b\b\b\b\b\b\b\b\b\n",
      "Epoch 10/20\n",
      "16/16 [==============================] - 0s 16ms/step - loss: 0.2538 - accuracy: 0.9420 - val_loss: 0.9291 - val_accuracy: 0.8050\b\b\b\b\b\b\b\b\b\b\b\b\b\b\b\b\b\b\b\b\b\b\b\b\b\b\b\b\b\b\b\b\b\b\b\b\b\b\b\b\b\b\b\b\b\b\b\b\b\b\b\b\b\b\b\b\b\b\b\b\b\b\b\b\b\b\b\b\b\b\b\b\b\b\b\b\b\b\b\b\b\b\b\b\b\b\b\b\b\b\b\b\b\b\b\b\b\b\b\b\b\b\b\b\b\b\b\b\b\b\b\b\b\b\b\b\b\b\b\b\b\b\b\b\b\b\b\b\b\b\b\b\b\b\b\b\b\b\b\b\b\b\b\b\b\b\b\b\b\b\b\b\b\b\b\b\b\b\b\b\b\b\b\b\b\b\b\b\b\b\b\b\b\b\b\b\b\b\b\b\b\b\b\b\b\b\b\b\b\b\b\b\b\b\b\b\b\b\b\b\b\b\b\b\b\b\b\b\b\b\b\b\b\b\b\b\b\b\b\b\b\b\b\b\b\b\b\b\b\b\b\b\b\b\b\b\b\b\b\b\b\b\b\b\b\b\b\b\b\b\b\b\b\b\b\b\b\b\b\b\b\b\b\b\b\b\b\b\b\b\b\b\b\b\b\b\b\b\b\b\b\n",
      "Epoch 11/20\n",
      "16/16 [==============================] - 0s 17ms/step - loss: 0.2134 - accuracy: 0.9489 - val_loss: 0.9263 - val_accuracy: 0.8080\b\b\b\b\b\b\b\b\b\b\b\b\b\b\b\b\b\b\b\b\b\b\b\b\b\b\b\b\b\b\b\b\b\b\b\b\b\b\b\b\b\b\b\b\b\b\b\b\b\b\b\b\b\b\b\b\b\b\b\b\b\b\b\b\b\b\b\b\b\b\b\b\b\b\b\b\b\b\b\b\b\b\b\b\b\b\b\b\b\b\b\b\b\b\b\b\b\b\b\b\b\b\b\b\b\b\b\b\b\b\b\b\b\b\b\b\b\b\b\b\b\b\b\b\b\b\b\b\b\b\b\b\b\b\b\b\b\b\b\b\b\b\b\b\b\b\b\b\b\b\b\b\b\b\b\b\b\b\b\b\b\b\b\b\b\b\b\b\b\b\b\b\b\b\b\b\b\b\b\b\b\b\b\b\b\b\b\b\b\b\b\b\b\b\b\b\b\b\b\b\b\b\b\b\b\b\b\b\b\b\b\b\b\b\b\b\b\b\b\b\b\b\b\b\b\b\b\b\b\b\b\b\b\b\b\b\b\b\b\b\b\b\b\b\b\b\b\b\b\b\b\b\b\b\b\b\b\b\b\b\b\b\b\b\b\b\b\b\b\b\b\b\b\b\b\b\b\b\b\b\b\n",
      "Epoch 12/20\n",
      "16/16 [==============================] - 0s 17ms/step - loss: 0.1899 - accuracy: 0.9500 - val_loss: 0.9503 - val_accuracy: 0.8100\b\b\b\b\b\b\b\b\b\b\b\b\b\b\b\b\b\b\b\b\b\b\b\b\b\b\b\b\b\b\b\b\b\b\b\b\b\b\b\b\b\b\b\b\b\b\b\b\b\b\b\b\b\b\b\b\b\b\b\b\b\b\b\b\b\b\b\b\b\b\b\b\b\b\b\b\b\b\b\b\b\b\b\b\b\b\b\b\b\b\b\b\b\b\b\b\b\b\b\b\b\b\b\b\b\b\b\b\b\b\b\b\b\b\b\b\b\b\b\b\b\b\b\b\b\b\b\b\b\b\b\b\b\b\b\b\b\b\b\b\b\b\b\b\b\b\b\b\b\b\b\b\b\b\b\b\b\b\b\b\b\b\b\b\b\b\b\b\b\b\b\b\b\b\b\b\b\b\b\b\b\b\b\b\b\b\b\b\b\b\b\b\b\b\b\b\b\b\b\b\b\b\b\b\b\b\b\b\b\b\b\b\b\b\b\b\b\b\b\b\b\b\b\b\b\b\b\b\b\b\b\b\b\b\b\b\b\b\b\b\b\b\b\b\b\b\b\b\b\b\b\b\b\b\b\b\b\b\b\b\b\b\b\b\b\b\b\b\b\b\b\b\b\b\b\b\b\b\b\b\b\b\b\b\b\b\b\b\b\b\b\b\b\b\b\b\b\b\b\b\b\b\b\b\b\b\b\b\b\b\b\b\b\b\b\b\b\b\b\b\b\b\b\b\b\b\b\b\b\b\b\b\b\b\b\b\b\b\b\b\b\b\b\b\b\b\b\b\b\b\b\b\b\b\b\b\b\b\b\b\b\b\b\n",
      "Epoch 13/20\n",
      "16/16 [==============================] - 0s 16ms/step - loss: 0.1732 - accuracy: 0.9530 - val_loss: 0.9552 - val_accuracy: 0.8100\b\b\b\b\b\b\b\b\b\b\b\b\b\b\b\b\b\b\b\b\b\b\b\b\b\b\b\b\b\b\b\b\b\b\b\b\b\b\b\b\b\b\b\b\b\b\b\b\b\b\b\b\b\b\b\b\b\b\b\b\b\b\b\b\b\b\b\b\b\b\b\b\b\b\b\b\b\b\b\b\b\b\b\b\b\b\b\b\b\b\b\b\b\b\b\b\b\b\b\b\b\b\b\b\b\b\b\b\b\b\b\b\b\b\b\b\b\b\b\b\b\b\b\b\b\b\b\b\b\b\b\b\b\b\b\b\b\b\b\b\b\b\b\b\b\b\b\b\b\b\b\b\b\b\b\b\b\b\b\b\b\b\b\b\b\b\b\b\b\b\b\b\b\b\b\b\b\b\b\b\b\b\b\b\b\b\b\b\b\b\b\b\b\b\b\b\b\b\b\b\b\b\b\b\b\b\b\b\b\b\b\b\b\b\b\b\b\b\b\b\b\b\b\b\b\b\b\b\b\b\b\b\b\b\b\b\b\b\b\b\b\b\b\b\b\b\b\b\b\b\b\b\b\b\b\b\b\b\b\b\b\b\b\b\b\b\b\b\b\b\b\b\b\b\b\b\b\b\b\b\b\n",
      "Epoch 14/20\n",
      "16/16 [==============================] - 0s 17ms/step - loss: 0.1530 - accuracy: 0.9543 - val_loss: 1.0118 - val_accuracy: 0.7920\b\b\b\b\b\b\b\b\b\b\b\b\b\b\b\b\b\b\b\b\b\b\b\b\b\b\b\b\b\b\b\b\b\b\b\b\b\b\b\b\b\b\b\b\b\b\b\b\b\b\b\b\b\b\b\b\b\b\b\b\b\b\b\b\b\b\b\b\b\b\b\b\b\b\b\b\b\b\b\b\b\b\b\b\b\b\b\b\b\b\b\b\b\b\b\b\b\b\b\b\b\b\b\b\b\b\b\b\b\b\b\b\b\b\b\b\b\b\b\b\b\b\b\b\b\b\b\b\b\b\b\b\b\b\b\b\b\b\b\b\b\b\b\b\b\b\b\b\b\b\b\b\b\b\b\b\b\b\b\b\b\b\b\b\b\b\b\b\b\b\b\b\b\b\b\b\b\b\b\b\b\b\b\b\b\b\b\b\b\b\b\b\b\b\b\b\b\b\b\b\b\b\b\b\b\b\b\b\b\b\b\b\b\b\b\b\b\b\b\b\b\b\b\b\b\b\b\b\b\b\b\b\b\b\b\b\b\b\b\b\b\b\b\b\b\b\b\b\b\b\b\b\b\b\b\b\b\b\b\b\b\b\b\b\b\b\b\b\b\b\b\b\b\b\b\b\b\b\b\b\b\n",
      "Epoch 15/20\n",
      "16/16 [==============================] - 0s 16ms/step - loss: 0.1414 - accuracy: 0.9564 - val_loss: 0.9924 - val_accuracy: 0.8050\b\b\b\b\b\b\b\b\b\b\b\b\b\b\b\b\b\b\b\b\b\b\b\b\b\b\b\b\b\b\b\b\b\b\b\b\b\b\b\b\b\b\b\b\b\b\b\b\b\b\b\b\b\b\b\b\b\b\b\b\b\b\b\b\b\b\b\b\b\b\b\b\b\b\b\b\b\b\b\b\b\b\b\b\b\b\b\b\b\b\b\b\b\b\b\b\b\b\b\b\b\b\b\b\b\b\b\b\b\b\b\b\b\b\b\b\b\b\b\b\b\b\b\b\b\b\b\b\b\b\b\b\b\b\b\b\b\b\b\b\b\b\b\b\b\b\b\b\b\b\b\b\b\b\b\b\b\b\b\b\b\b\b\b\b\b\b\b\b\b\b\b\b\b\b\b\b\b\b\b\b\b\b\b\b\b\b\b\b\b\b\b\b\b\b\b\b\b\b\b\b\b\b\b\b\b\b\b\b\b\b\b\b\b\b\b\b\b\b\b\b\b\b\b\b\b\b\b\b\b\b\b\b\b\b\b\b\b\b\b\b\b\b\b\b\b\b\b\b\b\b\b\b\b\b\b\b\b\b\b\b\b\b\b\b\b\b\b\b\b\b\b\b\b\b\b\b\b\b\b\b\n",
      "Epoch 16/20\n",
      "16/16 [==============================] - 0s 17ms/step - loss: 0.1373 - accuracy: 0.9563 - val_loss: 1.0048 - val_accuracy: 0.8130\b\b\b\b\b\b\b\b\b\b\b\b\b\b\b\b\b\b\b\b\b\b\b\b\b\b\b\b\b\b\b\b\b\b\b\b\b\b\b\b\b\b\b\b\b\b\b\b\b\b\b\b\b\b\b\b\b\b\b\b\b\b\b\b\b\b\b\b\b\b\b\b\b\b\b\b\b\b\b\b\b\b\b\b\b\b\b\b\b\b\b\b\b\b\b\b\b\b\b\b\b\b\b\b\b\b\b\b\b\b\b\b\b\b\b\b\b\b\b\b\b\b\b\b\b\b\b\b\b\b\b\b\b\b\b\b\b\b\b\b\b\b\b\b\b\b\b\b\b\b\b\b\b\b\b\b\b\b\b\b\b\b\b\b\b\b\b\b\b\b\b\b\b\b\b\b\b\b\b\b\b\b\b\b\b\b\b\b\b\b\b\b\b\b\b\b\b\b\b\b\b\b\b\b\b\b\b\b\b\b\b\b\b\b\b\b\b\b\b\b\b\b\b\b\b\b\b\b\b\b\b\b\b\b\b\b\b\b\b\b\b\b\b\b\b\b\b\b\b\b\b\b\b\b\b\b\b\b\b\b\b\b\b\b\b\b\b\b\b\b\b\b\b\b\b\b\b\b\b\b\b\n",
      "Epoch 17/20\n",
      "16/16 [==============================] - 0s 17ms/step - loss: 0.1266 - accuracy: 0.9575 - val_loss: 1.0308 - val_accuracy: 0.8030\b\b\b\b\b\b\b\b\b\b\b\b\b\b\b\b\b\b\b\b\b\b\b\b\b\b\b\b\b\b\b\b\b\b\b\b\b\b\b\b\b\b\b\b\b\b\b\b\b\b\b\b\b\b\b\b\b\b\b\b\b\b\b\b\b\b\b\b\b\b\b\b\b\b\b\b\b\b\b\b\b\b\b\b\b\b\b\b\b\b\b\b\b\b\b\b\b\b\b\b\b\b\b\b\b\b\b\b\b\b\b\b\b\b\b\b\b\b\b\b\b\b\b\b\b\b\b\b\b\b\b\b\b\b\b\b\b\b\b\b\b\b\b\b\b\b\b\b\b\b\b\b\b\b\b\b\b\b\b\b\b\b\b\b\b\b\b\b\b\b\b\b\b\b\b\b\b\b\b\b\b\b\b\b\b\b\b\b\b\b\b\b\b\b\b\b\b\b\b\b\b\b\b\b\b\b\b\b\b\b\b\b\b\b\b\b\b\b\b\b\b\b\b\b\b\b\b\b\b\b\b\b\b\b\b\b\b\b\b\b\b\b\b\b\b\b\b\b\b\b\b\b\b\b\b\b\b\b\b\b\b\b\b\b\b\b\b\b\b\b\b\b\b\b\b\b\b\b\b\b\b\n",
      "Epoch 18/20\n",
      "16/16 [==============================] - 0s 16ms/step - loss: 0.1220 - accuracy: 0.9562 - val_loss: 1.0379 - val_accuracy: 0.8110\b\b\b\b\b\b\b\b\b\b\b\b\b\b\b\b\b\b\b\b\b\b\b\b\b\b\b\b\b\b\b\b\b\b\b\b\b\b\b\b\b\b\b\b\b\b\b\b\b\b\b\b\b\b\b\b\b\b\b\b\b\b\b\b\b\b\b\b\b\b\b\b\b\b\b\b\b\b\b\b\b\b\b\b\b\b\b\b\b\b\b\b\b\b\b\b\b\b\b\b\b\b\b\b\b\b\b\b\b\b\b\b\b\b\b\b\b\b\b\b\b\b\b\b\b\b\b\b\b\b\b\b\b\b\b\b\b\b\b\b\b\b\b\b\b\b\b\b\b\b\b\b\b\b\b\b\b\b\b\b\b\b\b\b\b\b\b\b\b\b\b\b\b\b\b\b\b\b\b\b\b\b\b\b\b\b\b\b\b\b\b\b\b\b\b\b\b\b\b\b\b\b\b\b\b\b\b\b\b\b\b\b\b\b\b\b\b\b\b\b\b\b\b\b\b\b\b\b\b\b\b\b\b\b\b\b\b\b\b\b\b\b\b\b\b\b\b\b\b\b\b\b\b\b\b\b\b\b\b\b\b\b\b\b\b\b\b\b\b\b\b\b\b\b\b\b\b\b\b\b\b\n",
      "Epoch 19/20\n",
      "16/16 [==============================] - 0s 17ms/step - loss: 0.1200 - accuracy: 0.9562 - val_loss: 1.0568 - val_accuracy: 0.8020\b\b\b\b\b\b\b\b\b\b\b\b\b\b\b\b\b\b\b\b\b\b\b\b\b\b\b\b\b\b\b\b\b\b\b\b\b\b\b\b\b\b\b\b\b\b\b\b\b\b\b\b\b\b\b\b\b\b\b\b\b\b\b\b\b\b\b\b\b\b\b\b\b\b\b\b\b\b\b\b\b\b\b\b\b\b\b\b\b\b\b\b\b\b\b\b\b\b\b\b\b\b\b\b\b\b\b\b\b\b\b\b\b\b\b\b\b\b\b\b\b\b\b\b\b\b\b\b\b\b\b\b\b\b\b\b\b\b\b\b\b\b\b\b\b\b\b\b\b\b\b\b\b\b\b\b\b\b\b\b\b\b\b\b\b\b\b\b\b\b\b\b\b\b\b\b\b\b\b\b\b\b\b\b\b\b\b\b\b\b\b\b\b\b\b\b\b\b\b\b\b\b\b\b\b\b\b\b\b\b\b\b\b\b\b\b\b\b\b\b\b\b\b\b\b\b\b\b\b\b\b\b\b\b\b\b\b\b\b\b\b\b\b\b\b\b\b\b\b\b\b\b\b\b\b\b\b\b\b\b\b\b\b\b\b\b\b\b\b\b\b\b\b\b\b\b\b\b\b\b\b\n",
      "Epoch 20/20\n",
      "16/16 [==============================] - 0s 16ms/step - loss: 0.1141 - accuracy: 0.9563 - val_loss: 1.1051 - val_accuracy: 0.8010\b\b\b\b\b\b\b\b\b\b\b\b\b\b\b\b\b\b\b\b\b\b\b\b\b\b\b\b\b\b\b\b\b\b\b\b\b\b\b\b\b\b\b\b\b\b\b\b\b\b\b\b\b\b\b\b\b\b\b\b\b\b\b\b\b\b\b\b\b\b\b\b\b\b\b\b\b\b\b\b\b\b\b\b\b\b\b\b\b\b\b\b\b\b\b\b\b\b\b\b\b\b\b\b\b\b\b\b\b\b\b\b\b\b\b\b\b\b\b\b\b\b\b\b\b\b\b\b\b\b\b\b\b\b\b\b\b\b\b\b\b\b\b\b\b\b\b\b\b\b\b\b\b\b\b\b\b\b\b\b\b\b\b\b\b\b\b\b\b\b\b\b\b\b\b\b\b\b\b\b\b\b\b\b\b\b\b\b\b\b\b\b\b\b\b\b\b\b\b\b\b\b\b\b\b\b\b\b\b\b\b\b\b\b\b\b\b\b\b\b\b\b\b\b\b\b\b\b\b\b\b\b\b\b\b\b\b\b\b\b\b\b\b\b\b\b\b\b\b\b\b\b\b\b\b\b\b\b\b\b\b\b\b\b\b\b\b\b\b\b\b\b\b\b\b\b\b\b\b\b\b\n"
     ]
    }
   ],
   "source": [
    "history = model.fit(\n",
    "    partial_x_train,\n",
    "    partial_y_train,\n",
    "    epochs=20,\n",
    "    batch_size=512,\n",
    "    validation_data=(x_val,y_val)\n",
    ")"
   ],
   "metadata": {
    "collapsed": false,
    "pycharm": {
     "name": "#%%\n"
    }
   }
  },
  {
   "cell_type": "markdown",
   "source": [
    "### let's display the loss accuracy\n"
   ],
   "metadata": {
    "collapsed": false,
    "pycharm": {
     "name": "#%% md\n"
    }
   }
  },
  {
   "cell_type": "code",
   "execution_count": 9,
   "outputs": [
    {
     "data": {
      "text/plain": "<Figure size 432x288 with 1 Axes>",
      "image/png": "[encoded data removed]"
     },
     "metadata": {
      "needs_background": "light"
     },
     "output_type": "display_data"
    },
    {
     "data": {
      "text/plain": "<Figure size 432x288 with 1 Axes>",
      "image/png": "[encoded data removed]"
     },
     "metadata": {
      "needs_background": "light"
     },
     "output_type": "display_data"
    }
   ],
   "source": [
    "import matplotlib.pyplot as plt\n",
    "\n",
    "loss = history.history['loss']\n",
    "val_loss = history.history['val_loss']\n",
    "epochs = range(1,len(loss)+1)\n",
    "\n",
    "plt.plot(epochs,loss,'bo',label='Training loss')\n",
    "plt.plot(epochs,val_loss,'b',label='Validation loss')\n",
    "plt.title('Training and validation loss')\n",
    "plt.xlabel('Epochs')\n",
    "plt.ylabel('Loss')\n",
    "plt.legend()\n",
    "plt.show()\n",
    "\n",
    "plt.clf() # clears the figure\n",
    "\n",
    "\n",
    "acc = history.history['accuracy']\n",
    "val_acc = history.history['val_accuracy']\n",
    "\n",
    "plt.plot(epochs,acc,'bo',label='Training acc')\n",
    "plt.plot(epochs,val_acc,'b',label='Validation acc')\n",
    "plt.title('Training and validation loss')\n",
    "plt.xlabel('Epochs')\n",
    "plt.ylabel('Loss')\n",
    "plt.legend()\n",
    "plt.show()"
   ],
   "metadata": {
    "collapsed": false,
    "pycharm": {
     "name": "#%%\n"
    }
   }
  },
  {
   "cell_type": "markdown",
   "source": [
    "### The network begins to overfit after nine epochs.\n",
    "#### Let's train a new network from scratch for nine epochs and then evaluate it"
   ],
   "metadata": {
    "collapsed": false,
    "pycharm": {
     "name": "#%% md\n"
    }
   }
  },
  {
   "cell_type": "code",
   "execution_count": 10,
   "outputs": [
    {
     "name": "stderr",
     "output_type": "stream",
     "text": [
      "2021-08-07 14:03:49.197661: W tensorflow/core/framework/cpu_allocator_impl.cc:80] Allocation of 319280000 exceeds 10% of free system memory.\n"
     ]
    },
    {
     "name": "stdout",
     "output_type": "stream",
     "text": [
      "Epoch 1/9\n",
      "16/16 [==============================] - 1s 23ms/step - loss: 2.7374 - accuracy: 0.4763 - val_loss: 1.8402 - val_accuracy: 0.6350\b\b\b\b\b\b\b\b\b\b\b\b\b\b\b\b\b\b\b\b\b\b\b\b\b\b\b\b\b\b\b\b\b\b\b\b\b\b\b\b\b\b\b\b\b\b\b\b\b\b\b\b\b\b\b\b\b\b\b\b\b\b\b\b\b\b\b\b\b\b\b\b\b\b\b\b\b\b\b\b\b\b\b\b\b\b\b\b\b\b\b\b\b\b\b\b\b\b\b\b\b\b\b\b\b\b\b\b\b\b\b\b\b\b\b\b\b\b\b\b\b\b\b\b\b\b\b\b\b\b\b\b\b\b\b\b\b\b\b\b\b\b\b\b\b\b\b\b\b\b\b\b\b\b\b\b\b\b\b\b\b\b\b\b\b\b\b\b\b\b\b\b\b\b\b\b\b\b\b\b\b\b\b\b\b\b\b\b\b\b\b\b\b\b\b\b\b\b\b\b\b\b\b\b\b\b\b\b\b\b\b\b\b\b\b\b\b\b\b\b\b\b\b\b\b\b\b\b\b\b\b\b\b\b\b\b\b\b\b\b\b\b\b\b\b\b\b\b\b\b\b\b\b\b\b\b\b\b\b\b\b\b\b\b\b\b\b\b\b\b\b\b\b\b\b\b\b\b\b\b\b\n",
      "Epoch 2/9\n",
      "16/16 [==============================] - 0s 16ms/step - loss: 1.4738 - accuracy: 0.7067 - val_loss: 1.3371 - val_accuracy: 0.7080\b\b\b\b\b\b\b\b\b\b\b\b\b\b\b\b\b\b\b\b\b\b\b\b\b\b\b\b\b\b\b\b\b\b\b\b\b\b\b\b\b\b\b\b\b\b\b\b\b\b\b\b\b\b\b\b\b\b\b\b\b\b\b\b\b\b\b\b\b\b\b\b\b\b\b\b\b\b\b\b\b\b\b\b\b\b\b\b\b\b\b\b\b\b\b\b\b\b\b\b\b\b\b\b\b\b\b\b\b\b\b\b\b\b\b\b\b\b\b\b\b\b\b\b\b\b\b\b\b\b\b\b\b\b\b\b\b\b\b\b\b\b\b\b\b\b\b\b\b\b\b\b\b\b\b\b\b\b\b\b\b\b\b\b\b\b\b\b\b\b\b\b\b\b\b\b\b\b\b\b\b\b\b\b\b\b\b\b\b\b\b\b\b\b\b\b\b\b\b\b\b\b\b\b\b\b\b\b\b\b\b\b\b\b\b\b\b\b\b\b\b\b\b\b\b\b\b\b\b\b\b\b\b\b\b\b\b\b\b\b\b\b\b\b\b\b\b\b\b\b\b\b\b\b\b\b\b\b\b\b\b\b\b\b\b\b\b\b\b\b\b\b\b\b\b\b\b\b\b\b\b\n",
      "Epoch 3/9\n",
      "16/16 [==============================] - 0s 16ms/step - loss: 1.0543 - accuracy: 0.7851 - val_loss: 1.1257 - val_accuracy: 0.7460\b\b\b\b\b\b\b\b\b\b\b\b\b\b\b\b\b\b\b\b\b\b\b\b\b\b\b\b\b\b\b\b\b\b\b\b\b\b\b\b\b\b\b\b\b\b\b\b\b\b\b\b\b\b\b\b\b\b\b\b\b\b\b\b\b\b\b\b\b\b\b\b\b\b\b\b\b\b\b\b\b\b\b\b\b\b\b\b\b\b\b\b\b\b\b\b\b\b\b\b\b\b\b\b\b\b\b\b\b\b\b\b\b\b\b\b\b\b\b\b\b\b\b\b\b\b\b\b\b\b\b\b\b\b\b\b\b\b\b\b\b\b\b\b\b\b\b\b\b\b\b\b\b\b\b\b\b\b\b\b\b\b\b\b\b\b\b\b\b\b\b\b\b\b\b\b\b\b\b\b\b\b\b\b\b\b\b\b\b\b\b\b\b\b\b\b\b\b\b\b\b\b\b\b\b\b\b\b\b\b\b\b\b\b\b\b\b\b\b\b\b\b\b\b\b\b\b\b\b\b\b\b\b\b\b\b\b\b\b\b\b\b\b\b\b\b\b\b\b\b\b\b\b\b\b\b\b\b\b\b\b\b\b\b\b\b\b\b\b\b\b\b\b\b\b\b\b\b\b\b\b\n",
      "Epoch 4/9\n",
      "16/16 [==============================] - 0s 16ms/step - loss: 0.8191 - accuracy: 0.8295 - val_loss: 1.0108 - val_accuracy: 0.7850\b\b\b\b\b\b\b\b\b\b\b\b\b\b\b\b\b\b\b\b\b\b\b\b\b\b\b\b\b\b\b\b\b\b\b\b\b\b\b\b\b\b\b\b\b\b\b\b\b\b\b\b\b\b\b\b\b\b\b\b\b\b\b\b\b\b\b\b\b\b\b\b\b\b\b\b\b\b\b\b\b\b\b\b\b\b\b\b\b\b\b\b\b\b\b\b\b\b\b\b\b\b\b\b\b\b\b\b\b\b\b\b\b\b\b\b\b\b\b\b\b\b\b\b\b\b\b\b\b\b\b\b\b\b\b\b\b\b\b\b\b\b\b\b\b\b\b\b\b\b\b\b\b\b\b\b\b\b\b\b\b\b\b\b\b\b\b\b\b\b\b\b\b\b\b\b\b\b\b\b\b\b\b\b\b\b\b\b\b\b\b\b\b\b\b\b\b\b\b\b\b\b\b\b\b\b\b\b\b\b\b\b\b\b\b\b\b\b\b\b\b\b\b\b\b\b\b\b\b\b\b\b\b\b\b\b\b\b\b\b\b\b\b\b\b\b\b\b\b\b\b\b\b\b\b\b\b\b\b\b\b\b\b\b\b\b\b\b\b\b\b\b\b\b\b\b\b\b\b\b\b\n",
      "Epoch 5/9\n",
      "16/16 [==============================] - 0s 18ms/step - loss: 0.6518 - accuracy: 0.8612 - val_loss: 0.9457 - val_accuracy: 0.8070\b\b\b\b\b\b\b\b\b\b\b\b\b\b\b\b\b\b\b\b\b\b\b\b\b\b\b\b\b\b\b\b\b\b\b\b\b\b\b\b\b\b\b\b\b\b\b\b\b\b\b\b\b\b\b\b\b\b\b\b\b\b\b\b\b\b\b\b\b\b\b\b\b\b\b\b\b\b\b\b\b\b\b\b\b\b\b\b\b\b\b\b\b\b\b\b\b\b\b\b\b\b\b\b\b\b\b\b\b\b\b\b\b\b\b\b\b\b\b\b\b\b\b\b\b\b\b\b\b\b\b\b\b\b\b\b\b\b\b\b\b\b\b\b\b\b\b\b\b\b\b\b\b\b\b\b\b\b\b\b\b\b\b\b\b\b\b\b\b\b\b\b\b\b\b\b\b\b\b\b\b\b\b\b\b\b\b\b\b\b\b\b\b\b\b\b\b\b\b\b\b\b\b\b\b\b\b\b\b\b\b\b\b\b\b\b\b\b\b\b\b\b\b\b\b\b\b\b\b\b\b\b\b\b\b\b\b\b\b\b\b\b\b\b\b\b\b\b\b\b\b\b\b\b\b\b\b\b\b\b\b\b\b\b\b\b\b\b\b\b\b\b\b\b\b\b\b\b\b\b\b\b\b\b\b\b\b\b\b\b\b\b\b\b\b\b\b\b\b\b\b\b\b\b\b\b\b\b\b\b\b\b\b\b\b\b\b\b\b\b\b\b\b\b\b\b\b\b\b\b\b\b\b\b\b\b\b\b\b\b\b\b\b\b\b\b\b\b\b\b\b\b\b\b\b\b\b\b\b\b\b\b\b\n",
      "Epoch 6/9\n",
      "16/16 [==============================] - 0s 22ms/step - loss: 0.5229 - accuracy: 0.8915 - val_loss: 0.9092 - val_accuracy: 0.8110\b\b\b\b\b\b\b\b\b\b\b\b\b\b\b\b\b\b\b\b\b\b\b\b\b\b\b\b\b\b\b\b\b\b\b\b\b\b\b\b\b\b\b\b\b\b\b\b\b\b\b\b\b\b\b\b\b\b\b\b\b\b\b\b\b\b\b\b\b\b\b\b\b\b\b\b\b\b\b\b\b\b\b\b\b\b\b\b\b\b\b\b\b\b\b\b\b\b\b\b\b\b\b\b\b\b\b\b\b\b\b\b\b\b\b\b\b\b\b\b\b\b\b\b\b\b\b\b\b\b\b\b\b\b\b\b\b\b\b\b\b\b\b\b\b\b\b\b\b\b\b\b\b\b\b\b\b\b\b\b\b\b\b\b\b\b\b\b\b\b\b\b\b\b\b\b\b\b\b\b\b\b\b\b\b\b\b\b\b\b\b\b\b\b\b\b\b\b\b\b\b\b\b\b\b\b\b\b\b\b\b\b\b\b\b\b\b\b\b\b\b\b\b\b\b\b\b\b\b\b\b\b\b\b\b\b\b\b\b\b\b\b\b\b\b\b\b\b\b\b\b\b\b\b\b\b\b\b\b\b\b\b\b\b\b\b\b\b\b\b\b\b\b\b\b\b\b\b\b\b\b\b\b\b\b\b\b\b\b\b\b\b\b\b\b\b\b\b\b\b\b\b\b\b\b\b\b\b\b\b\b\b\b\b\b\b\b\b\b\b\b\b\b\b\b\b\b\b\b\b\b\b\b\b\b\b\b\b\b\b\b\b\b\b\b\b\b\b\b\b\b\b\b\b\b\b\b\b\b\b\b\b\b\b\b\b\b\b\b\b\b\b\b\b\b\b\b\b\b\b\b\b\b\b\b\b\b\b\b\b\b\b\b\b\b\b\b\b\b\b\b\b\b\b\b\b\b\b\b\b\b\b\b\b\b\b\b\b\b\b\b\b\b\b\b\b\b\b\b\b\b\b\b\b\b\b\b\b\b\b\b\b\b\b\b\n",
      "Epoch 7/9\n",
      "16/16 [==============================] - 0s 18ms/step - loss: 0.4206 - accuracy: 0.9132 - val_loss: 0.8945 - val_accuracy: 0.8150\b\b\b\b\b\b\b\b\b\b\b\b\b\b\b\b\b\b\b\b\b\b\b\b\b\b\b\b\b\b\b\b\b\b\b\b\b\b\b\b\b\b\b\b\b\b\b\b\b\b\b\b\b\b\b\b\b\b\b\b\b\b\b\b\b\b\b\b\b\b\b\b\b\b\b\b\b\b\b\b\b\b\b\b\b\b\b\b\b\b\b\b\b\b\b\b\b\b\b\b\b\b\b\b\b\b\b\b\b\b\b\b\b\b\b\b\b\b\b\b\b\b\b\b\b\b\b\b\b\b\b\b\b\b\b\b\b\b\b\b\b\b\b\b\b\b\b\b\b\b\b\b\b\b\b\b\b\b\b\b\b\b\b\b\b\b\b\b\b\b\b\b\b\b\b\b\b\b\b\b\b\b\b\b\b\b\b\b\b\b\b\b\b\b\b\b\b\b\b\b\b\b\b\b\b\b\b\b\b\b\b\b\b\b\b\b\b\b\b\b\b\b\b\b\b\b\b\b\b\b\b\b\b\b\b\b\b\b\b\b\b\b\b\b\b\b\b\b\b\b\b\b\b\b\b\b\b\b\b\b\b\b\b\b\b\b\b\b\b\b\b\b\b\b\b\b\b\b\b\b\b\b\b\b\b\b\b\b\b\b\b\b\b\b\b\b\b\b\b\b\b\b\b\b\b\b\b\b\b\b\b\b\b\b\b\b\b\b\b\b\b\b\b\b\b\b\b\b\b\b\b\b\b\b\b\b\b\b\b\b\b\b\b\b\b\b\b\b\b\b\b\b\b\b\b\b\b\b\b\b\b\b\b\n",
      "Epoch 8/9\n",
      "16/16 [==============================] - 0s 19ms/step - loss: 0.3435 - accuracy: 0.9280 - val_loss: 0.8865 - val_accuracy: 0.8140\b\b\b\b\b\b\b\b\b\b\b\b\b\b\b\b\b\b\b\b\b\b\b\b\b\b\b\b\b\b\b\b\b\b\b\b\b\b\b\b\b\b\b\b\b\b\b\b\b\b\b\b\b\b\b\b\b\b\b\b\b\b\b\b\b\b\b\b\b\b\b\b\b\b\b\b\b\b\b\b\b\b\b\b\b\b\b\b\b\b\b\b\b\b\b\b\b\b\b\b\b\b\b\b\b\b\b\b\b\b\b\b\b\b\b\b\b\b\b\b\b\b\b\b\b\b\b\b\b\b\b\b\b\b\b\b\b\b\b\b\b\b\b\b\b\b\b\b\b\b\b\b\b\b\b\b\b\b\b\b\b\b\b\b\b\b\b\b\b\b\b\b\b\b\b\b\b\b\b\b\b\b\b\b\b\b\b\b\b\b\b\b\b\b\b\b\b\b\b\b\b\b\b\b\b\b\b\b\b\b\b\b\b\b\b\b\b\b\b\b\b\b\b\b\b\b\b\b\b\b\b\b\b\b\b\b\b\b\b\b\b\b\b\b\b\b\b\b\b\b\b\b\b\b\b\b\b\b\b\b\b\b\b\b\b\b\b\b\b\b\b\b\b\b\b\b\b\b\b\b\b\b\b\b\b\b\b\b\b\b\b\b\b\b\b\b\b\b\b\b\b\b\b\b\b\b\b\b\b\b\b\b\b\b\b\b\b\b\b\b\b\b\b\b\b\b\b\b\b\b\b\b\b\b\b\b\b\b\b\b\b\b\b\b\b\b\b\b\b\b\b\b\b\b\b\b\b\b\b\b\b\b\b\n",
      "Epoch 9/9\n",
      "16/16 [==============================] - 0s 15ms/step - loss: 0.2834 - accuracy: 0.9387 - val_loss: 0.8987 - val_accuracy: 0.8140\b\b\b\b\b\b\b\b\b\b\b\b\b\b\b\b\b\b\b\b\b\b\b\b\b\b\b\b\b\b\b\b\b\b\b\b\b\b\b\b\b\b\b\b\b\b\b\b\b\b\b\b\b\b\b\b\b\b\b\b\b\b\b\b\b\b\b\b\b\b\b\b\b\b\b\b\b\b\b\b\b\b\b\b\b\b\b\b\b\b\b\b\b\b\b\b\b\b\b\b\b\b\b\b\b\b\b\b\b\b\b\b\b\b\b\b\b\b\b\b\b\b\b\b\b\b\b\b\b\b\b\b\b\b\b\b\b\b\b\b\b\b\b\b\b\b\b\b\b\b\b\b\b\b\b\b\b\b\b\b\b\b\b\b\b\b\b\b\b\b\b\b\b\b\b\b\b\b\b\b\b\b\b\b\b\b\b\b\b\b\b\b\b\b\b\b\b\b\b\b\b\b\b\b\b\b\b\b\b\b\b\b\b\b\b\b\b\b\b\b\b\b\b\b\b\b\b\b\b\b\b\b\b\b\b\b\b\b\b\b\b\b\b\b\b\b\b\b\b\b\b\b\b\b\b\b\b\b\b\b\b\b\b\b\b\b\b\b\b\b\b\b\b\b\b\b\b\b\b\b\b\n",
      "71/71 [==============================] - 0s 1ms/step - loss: 0.9891 - accuracy: 0.7863\b\b\b\b\b\b\b\b\b\b\b\b\b\b\b\b\b\b\b\b\b\b\b\b\b\b\b\b\b\b\b\b\b\b\b\b\b\b\b\b\b\b\b\b\b\b\b\b\b\b\b\b\b\b\b\b\b\b\b\b\b\b\b\b\b\b\b\b\b\b\b\b\b\b\b\b\b\b\b\b\b\b\b\b\b\b\b\b\b\b\b\b\b\b\b\b\b\b\b\b\b\b\b\b\b\b\b\b\b\b\b\b\b\b\b\b\b\b\b\b\b\b\b\b\b\b\b\b\b\b\b\b\b\b\b\b\b\b\b\b\b\b\b\b\b\b\b\b\b\b\b\b\b\b\b\b\b\b\b\b\n",
      "[0.9890936613082886, 0.7862867116928101]\n"
     ]
    }
   ],
   "source": [
    "# Retraining a model from scratch\n",
    "model = models.Sequential()\n",
    "model.add(layers.Dense(64,activation='relu',input_shape=(10000,)))\n",
    "model.add(layers.Dense(64,activation='relu'))\n",
    "model.add(layers.Dense(46,activation='softmax'))\n",
    "\n",
    "model.compile(optimizer='rmsprop',\n",
    "              loss='categorical_crossentropy',\n",
    "              metrics=['accuracy'])\n",
    "\n",
    "\n",
    "model.fit(partial_x_train,\n",
    "          partial_y_train,\n",
    "          epochs=9,\n",
    "          batch_size=512,\n",
    "          validation_data=(x_val, y_val))\n",
    "\n",
    "results = model.evaluate(x_test, one_hot_test_labels)\n",
    "\n",
    "print(results)\n"
   ],
   "metadata": {
    "collapsed": false,
    "pycharm": {
     "name": "#%%\n"
    }
   }
  },
  {
   "cell_type": "markdown",
   "source": [
    "This approach reaches an accuracy of 80% approximately , with binary classification\n",
    "problem the accuracy reached by a purely random classifier would be 50%\n",
    "but in this case is closer to 19%"
   ],
   "metadata": {
    "collapsed": false,
    "pycharm": {
     "name": "#%% md\n"
    }
   }
  },
  {
   "cell_type": "code",
   "execution_count": 11,
   "outputs": [
    {
     "name": "stdout",
     "output_type": "stream",
     "text": [
      "None\n",
      "0.19367764915405164\n"
     ]
    }
   ],
   "source": [
    "import copy\n",
    "import numpy as np\n",
    "test_labels_copy = copy.copy(test_labels)\n",
    "print(np.random.shuffle(test_labels_copy))\n",
    "#TODO ask this part\n",
    "hits_array = np.array(test_labels) == np.array(test_labels_copy)\n",
    "print(float(np.sum(hits_array)/len(test_labels)))"
   ],
   "metadata": {
    "collapsed": false,
    "pycharm": {
     "name": "#%%\n"
    }
   }
  },
  {
   "cell_type": "markdown",
   "source": [
    "## Getting prediction on the new data\n"
   ],
   "metadata": {
    "collapsed": false,
    "pycharm": {
     "name": "#%% md\n"
    }
   }
  },
  {
   "cell_type": "code",
   "execution_count": 12,
   "outputs": [
    {
     "name": "stdout",
     "output_type": "stream",
     "text": [
      "(46,)\n",
      "1.0000001\n",
      "3\n"
     ]
    }
   ],
   "source": [
    "predictions = model.predict(x_test)\n",
    "print(predictions[0].shape)\n",
    "\n",
    "# the coefficients in this vector is 1:\n",
    "print(np.sum(predictions[0]))\n",
    "\n",
    "# he largest entry is the predicted class—the class with the highest probability:\n",
    "\n",
    "print(np.argmax(predictions[0]))"
   ],
   "metadata": {
    "collapsed": false,
    "pycharm": {
     "name": "#%%\n"
    }
   }
  },
  {
   "cell_type": "markdown",
   "source": [
    "### Different way of handling labels and loss ??"
   ],
   "metadata": {
    "collapsed": false
   }
  },
  {
   "cell_type": "markdown",
   "source": [
    "### The importance of having sufficiently large intermediate layers\n",
    "the final outputs are 46-dimensional, you should\n",
    "avoid intermediate layers with many fewer than 46 hidden units\n",
    "\n"
   ],
   "metadata": {
    "collapsed": false,
    "pycharm": {
     "name": "#%% md\n"
    }
   }
  },
  {
   "cell_type": "code",
   "execution_count": 13,
   "outputs": [
    {
     "name": "stderr",
     "output_type": "stream",
     "text": [
      "2021-08-07 14:03:52.956492: W tensorflow/core/framework/cpu_allocator_impl.cc:80] Allocation of 319280000 exceeds 10% of free system memory.\n"
     ]
    },
    {
     "name": "stdout",
     "output_type": "stream",
     "text": [
      "Epoch 1/20\n",
      "63/63 [==============================] - 1s 10ms/step - loss: 1.7531 - accuracy: 0.6297 - val_loss: 1.2068 - val_accuracy: 0.7220\b\b\b\b\b\b\b\b\b\b\b\b\b\b\b\b\b\b\b\b\b\b\b\b\b\b\b\b\b\b\b\b\b\b\b\b\b\b\b\b\b\b\b\b\b\b\b\b\b\b\b\b\b\b\b\b\b\b\b\b\b\b\b\b\b\b\b\b\b\b\b\b\b\b\b\b\b\b\b\b\b\b\b\b\b\b\b\b\b\b\b\b\b\b\b\b\b\b\b\b\b\b\b\b\b\b\b\b\b\b\b\b\b\b\b\b\b\b\b\b\b\b\b\b\b\b\b\b\b\b\b\b\b\b\b\b\b\b\b\b\b\b\b\b\b\b\b\b\b\b\b\b\b\b\b\b\b\b\b\b\b\b\b\b\b\b\b\b\b\b\b\b\b\b\b\b\b\b\b\b\b\b\b\b\b\b\b\b\b\b\b\b\b\b\b\b\b\b\b\b\b\b\b\b\b\b\b\b\b\b\b\b\b\b\b\b\b\b\b\b\b\b\b\b\b\b\b\b\b\b\b\b\b\b\b\b\b\b\b\b\b\b\b\b\b\b\b\b\b\b\b\b\b\b\b\b\b\b\b\b\b\b\b\b\b\b\b\b\b\b\b\b\b\b\b\b\b\b\b\b\b\b\b\b\b\b\b\b\b\b\b\b\b\b\b\b\b\b\b\b\b\b\b\b\b\b\b\b\b\b\b\b\b\b\b\b\b\b\b\b\b\b\b\b\b\b\b\b\b\b\b\b\b\b\b\b\b\b\b\b\b\b\b\b\b\b\b\b\b\b\b\b\b\b\b\b\b\b\b\b\b\b\b\b\b\b\b\b\b\b\b\b\b\b\b\b\b\b\b\b\b\b\b\b\b\b\b\b\b\b\b\b\b\b\b\b\b\b\b\b\b\b\b\b\b\b\b\b\b\b\b\b\b\b\b\b\b\b\b\b\b\b\b\b\b\b\b\b\b\b\b\b\b\b\b\b\b\b\b\b\b\b\b\b\b\b\b\b\b\b\b\b\b\b\b\b\b\b\b\b\b\b\b\b\b\b\b\b\b\b\b\b\b\b\b\b\b\b\b\b\b\b\b\b\b\b\b\b\b\b\b\b\b\b\b\b\b\b\b\b\b\b\b\b\b\b\b\b\b\b\b\b\b\b\b\b\b\b\b\b\b\b\b\b\b\b\b\b\b\b\b\b\b\b\b\b\b\b\b\b\b\b\b\b\b\b\b\b\b\b\b\b\b\b\b\b\b\b\b\b\b\b\b\b\b\b\b\b\b\b\b\b\b\b\b\b\b\b\b\b\b\b\b\b\b\b\b\b\b\b\b\b\b\b\b\b\b\b\b\b\b\b\b\b\b\b\b\b\b\b\b\b\b\b\b\b\b\b\b\b\b\b\b\b\b\b\b\b\b\b\b\b\b\b\b\b\b\b\b\b\b\b\b\b\b\b\b\b\b\b\b\b\b\b\b\b\b\b\b\b\b\b\b\b\b\b\b\b\b\b\b\b\b\b\b\b\b\b\b\b\b\b\b\b\b\b\b\b\b\b\b\b\b\n",
      "Epoch 2/20\n",
      "63/63 [==============================] - 0s 7ms/step - loss: 0.9343 - accuracy: 0.7935 - val_loss: 0.9739 - val_accuracy: 0.7970\b\b\b\b\b\b\b\b\b\b\b\b\b\b\b\b\b\b\b\b\b\b\b\b\b\b\b\b\b\b\b\b\b\b\b\b\b\b\b\b\b\b\b\b\b\b\b\b\b\b\b\b\b\b\b\b\b\b\b\b\b\b\b\b\b\b\b\b\b\b\b\b\b\b\b\b\b\b\b\b\b\b\b\b\b\b\b\b\b\b\b\b\b\b\b\b\b\b\b\b\b\b\b\b\b\b\b\b\b\b\b\b\b\b\b\b\b\b\b\b\b\b\b\b\b\b\b\b\b\b\b\b\b\b\b\b\b\b\b\b\b\b\b\b\b\b\b\b\b\b\b\b\b\b\b\b\b\b\b\b\b\b\b\b\b\b\b\b\b\b\b\b\b\b\b\b\b\b\b\b\b\b\b\b\b\b\b\b\b\b\b\b\b\b\b\b\b\b\b\b\b\b\b\b\b\b\b\b\b\b\b\b\b\b\b\b\b\b\b\b\b\b\b\b\b\b\b\b\b\b\b\b\b\b\b\b\b\b\b\b\b\b\b\b\b\b\b\b\b\b\b\b\b\b\b\b\b\b\b\b\b\b\b\b\b\b\b\b\b\b\b\b\b\b\b\b\b\b\b\b\b\b\b\b\b\b\b\b\b\b\b\b\b\b\b\b\b\b\b\b\b\b\b\b\b\b\b\b\b\b\b\b\b\b\b\b\b\b\b\b\b\b\b\b\b\b\b\b\b\b\b\b\b\b\b\b\b\b\b\b\b\b\b\b\b\b\b\b\b\b\b\b\b\b\b\b\b\b\b\b\b\b\b\b\b\b\b\b\b\b\b\b\b\b\b\b\b\b\b\b\b\b\b\b\b\b\b\b\b\b\b\b\b\b\b\b\b\b\b\b\b\b\b\b\b\b\b\b\b\b\b\b\b\b\b\b\b\b\b\b\b\b\b\b\b\b\b\b\b\b\b\b\b\b\b\b\b\b\b\b\b\b\b\b\b\b\b\b\b\b\b\b\b\b\b\b\b\b\b\b\b\b\b\b\b\b\b\b\b\b\b\b\b\b\b\b\b\b\b\b\b\b\b\b\b\b\b\b\b\b\b\b\b\b\b\b\b\b\b\b\b\b\b\b\b\b\b\b\b\b\b\b\b\b\b\b\b\b\b\b\b\b\b\b\b\b\b\b\b\b\b\b\b\b\b\b\b\b\b\b\b\b\b\b\b\b\b\b\b\b\b\b\b\b\b\b\b\b\b\b\b\b\b\b\b\b\b\b\b\b\b\b\b\b\b\b\b\b\b\b\b\b\b\b\b\b\b\b\b\b\b\b\b\b\b\b\b\b\b\b\b\b\b\b\b\b\b\b\b\b\n",
      "Epoch 3/20\n",
      "63/63 [==============================] - 0s 7ms/step - loss: 0.6098 - accuracy: 0.8678 - val_loss: 0.9110 - val_accuracy: 0.8040\b\b\b\b\b\b\b\b\b\b\b\b\b\b\b\b\b\b\b\b\b\b\b\b\b\b\b\b\b\b\b\b\b\b\b\b\b\b\b\b\b\b\b\b\b\b\b\b\b\b\b\b\b\b\b\b\b\b\b\b\b\b\b\b\b\b\b\b\b\b\b\b\b\b\b\b\b\b\b\b\b\b\b\b\b\b\b\b\b\b\b\b\b\b\b\b\b\b\b\b\b\b\b\b\b\b\b\b\b\b\b\b\b\b\b\b\b\b\b\b\b\b\b\b\b\b\b\b\b\b\b\b\b\b\b\b\b\b\b\b\b\b\b\b\b\b\b\b\b\b\b\b\b\b\b\b\b\b\b\b\b\b\b\b\b\b\b\b\b\b\b\b\b\b\b\b\b\b\b\b\b\b\b\b\b\b\b\b\b\b\b\b\b\b\b\b\b\b\b\b\b\b\b\b\b\b\b\b\b\b\b\b\b\b\b\b\b\b\b\b\b\b\b\b\b\b\b\b\b\b\b\b\b\b\b\b\b\b\b\b\b\b\b\b\b\b\b\b\b\b\b\b\b\b\b\b\b\b\b\b\b\b\b\b\b\b\b\b\b\b\b\b\b\b\b\b\b\b\b\b\b\b\b\b\b\b\b\b\b\b\b\b\b\b\b\b\b\b\b\b\b\b\b\b\b\b\b\b\b\b\b\b\b\b\b\b\b\b\b\b\b\b\b\b\b\b\b\b\b\b\b\b\b\b\b\b\b\b\b\b\b\b\b\b\b\b\b\b\b\b\b\b\b\b\b\b\b\b\b\b\b\b\b\b\b\b\b\b\b\b\b\b\b\b\b\b\b\b\b\b\b\b\b\b\b\b\b\b\b\b\b\b\b\b\b\b\b\b\b\b\b\b\b\b\b\b\b\b\b\b\b\b\b\b\b\b\b\b\b\b\b\b\b\b\b\b\b\b\b\b\b\b\b\b\b\b\b\b\b\b\b\b\b\b\b\b\b\b\b\b\b\b\b\b\b\b\b\b\b\b\b\b\b\b\b\b\b\b\b\b\b\b\b\b\b\b\b\b\b\b\b\b\b\b\b\b\b\b\b\b\b\b\b\b\b\b\b\b\b\b\b\b\b\b\b\b\b\b\b\b\b\b\b\b\b\b\b\b\b\b\b\b\b\b\b\b\b\b\b\b\b\b\b\b\b\b\b\b\b\b\b\b\b\b\b\b\b\b\b\b\b\b\b\b\b\b\b\b\b\b\b\b\b\b\b\b\b\b\b\b\b\b\b\b\b\b\b\b\b\b\b\b\b\b\b\b\b\b\b\b\b\b\b\b\b\b\b\b\b\b\b\b\b\b\b\b\b\b\b\b\n",
      "Epoch 4/20\n",
      "63/63 [==============================] - 0s 7ms/step - loss: 0.4118 - accuracy: 0.9108 - val_loss: 0.8657 - val_accuracy: 0.8200\b\b\b\b\b\b\b\b\b\b\b\b\b\b\b\b\b\b\b\b\b\b\b\b\b\b\b\b\b\b\b\b\b\b\b\b\b\b\b\b\b\b\b\b\b\b\b\b\b\b\b\b\b\b\b\b\b\b\b\b\b\b\b\b\b\b\b\b\b\b\b\b\b\b\b\b\b\b\b\b\b\b\b\b\b\b\b\b\b\b\b\b\b\b\b\b\b\b\b\b\b\b\b\b\b\b\b\b\b\b\b\b\b\b\b\b\b\b\b\b\b\b\b\b\b\b\b\b\b\b\b\b\b\b\b\b\b\b\b\b\b\b\b\b\b\b\b\b\b\b\b\b\b\b\b\b\b\b\b\b\b\b\b\b\b\b\b\b\b\b\b\b\b\b\b\b\b\b\b\b\b\b\b\b\b\b\b\b\b\b\b\b\b\b\b\b\b\b\b\b\b\b\b\b\b\b\b\b\b\b\b\b\b\b\b\b\b\b\b\b\b\b\b\b\b\b\b\b\b\b\b\b\b\b\b\b\b\b\b\b\b\b\b\b\b\b\b\b\b\b\b\b\b\b\b\b\b\b\b\b\b\b\b\b\b\b\b\b\b\b\b\b\b\b\b\b\b\b\b\b\b\b\b\b\b\b\b\b\b\b\b\b\b\b\b\b\b\b\b\b\b\b\b\b\b\b\b\b\b\b\b\b\b\b\b\b\b\b\b\b\b\b\b\b\b\b\b\b\b\b\b\b\b\b\b\b\b\b\b\b\b\b\b\b\b\b\b\b\b\b\b\b\b\b\b\b\b\b\b\b\b\b\b\b\b\b\b\b\b\b\b\b\b\b\b\b\b\b\b\b\b\b\b\b\b\b\b\b\b\b\b\b\b\b\b\b\b\b\b\b\b\b\b\b\b\b\b\b\b\b\b\b\b\b\b\b\b\b\b\b\b\b\b\b\b\b\b\b\b\b\b\b\b\b\b\b\b\b\b\b\b\b\b\b\b\b\b\b\b\b\b\b\b\b\b\b\b\b\b\b\b\b\b\b\b\b\b\b\b\b\b\b\b\b\b\b\b\b\b\b\b\b\b\b\b\b\b\b\b\b\b\b\b\b\b\b\b\b\b\b\b\b\b\b\b\b\b\b\b\b\b\b\b\b\b\b\b\b\b\b\b\b\b\b\b\b\b\b\b\b\b\b\b\b\b\b\b\b\b\b\b\b\b\b\b\b\b\b\b\b\b\b\b\b\b\b\b\b\b\b\b\b\b\b\b\b\b\b\b\b\b\b\b\b\b\b\b\b\b\b\b\b\b\b\b\b\b\b\b\b\b\b\b\b\b\b\b\b\b\b\b\b\b\b\b\b\b\b\b\b\n",
      "Epoch 5/20\n",
      "63/63 [==============================] - 0s 7ms/step - loss: 0.2925 - accuracy: 0.9345 - val_loss: 0.9140 - val_accuracy: 0.8130\b\b\b\b\b\b\b\b\b\b\b\b\b\b\b\b\b\b\b\b\b\b\b\b\b\b\b\b\b\b\b\b\b\b\b\b\b\b\b\b\b\b\b\b\b\b\b\b\b\b\b\b\b\b\b\b\b\b\b\b\b\b\b\b\b\b\b\b\b\b\b\b\b\b\b\b\b\b\b\b\b\b\b\b\b\b\b\b\b\b\b\b\b\b\b\b\b\b\b\b\b\b\b\b\b\b\b\b\b\b\b\b\b\b\b\b\b\b\b\b\b\b\b\b\b\b\b\b\b\b\b\b\b\b\b\b\b\b\b\b\b\b\b\b\b\b\b\b\b\b\b\b\b\b\b\b\b\b\b\b\b\b\b\b\b\b\b\b\b\b\b\b\b\b\b\b\b\b\b\b\b\b\b\b\b\b\b\b\b\b\b\b\b\b\b\b\b\b\b\b\b\b\b\b\b\b\b\b\b\b\b\b\b\b\b\b\b\b\b\b\b\b\b\b\b\b\b\b\b\b\b\b\b\b\b\b\b\b\b\b\b\b\b\b\b\b\b\b\b\b\b\b\b\b\b\b\b\b\b\b\b\b\b\b\b\b\b\b\b\b\b\b\b\b\b\b\b\b\b\b\b\b\b\b\b\b\b\b\b\b\b\b\b\b\b\b\b\b\b\b\b\b\b\b\b\b\b\b\b\b\b\b\b\b\b\b\b\b\b\b\b\b\b\b\b\b\b\b\b\b\b\b\b\b\b\b\b\b\b\b\b\b\b\b\b\b\b\b\b\b\b\b\b\b\b\b\b\b\b\b\b\b\b\b\b\b\b\b\b\b\b\b\b\b\b\b\b\b\b\b\b\b\b\b\b\b\b\b\b\b\b\b\b\b\b\b\b\b\b\b\b\b\b\b\b\b\b\b\b\b\b\b\b\b\b\b\b\b\b\b\b\b\b\b\b\b\b\b\b\b\b\b\b\b\b\b\b\b\b\b\b\b\b\b\b\b\b\b\b\b\b\b\b\b\b\b\b\b\b\b\b\b\b\b\b\b\b\b\b\b\b\b\b\b\b\b\b\b\b\b\b\b\b\b\b\b\b\b\b\b\b\b\b\b\b\b\b\b\b\b\b\b\b\b\b\b\b\b\b\b\b\b\b\b\b\b\b\b\b\b\b\b\b\b\b\b\b\b\b\b\b\b\b\b\b\b\b\b\b\b\b\b\b\b\b\b\b\b\b\b\b\b\b\b\b\b\b\b\b\b\b\b\b\b\b\b\b\b\b\b\b\b\b\b\b\b\b\b\b\b\b\b\b\b\b\b\b\b\b\b\b\b\b\b\b\b\b\b\b\b\b\b\b\b\b\b\b\b\b\b\n",
      "Epoch 6/20\n",
      "63/63 [==============================] - 0s 7ms/step - loss: 0.2299 - accuracy: 0.9449 - val_loss: 0.9066 - val_accuracy: 0.8180\b\b\b\b\b\b\b\b\b\b\b\b\b\b\b\b\b\b\b\b\b\b\b\b\b\b\b\b\b\b\b\b\b\b\b\b\b\b\b\b\b\b\b\b\b\b\b\b\b\b\b\b\b\b\b\b\b\b\b\b\b\b\b\b\b\b\b\b\b\b\b\b\b\b\b\b\b\b\b\b\b\b\b\b\b\b\b\b\b\b\b\b\b\b\b\b\b\b\b\b\b\b\b\b\b\b\b\b\b\b\b\b\b\b\b\b\b\b\b\b\b\b\b\b\b\b\b\b\b\b\b\b\b\b\b\b\b\b\b\b\b\b\b\b\b\b\b\b\b\b\b\b\b\b\b\b\b\b\b\b\b\b\b\b\b\b\b\b\b\b\b\b\b\b\b\b\b\b\b\b\b\b\b\b\b\b\b\b\b\b\b\b\b\b\b\b\b\b\b\b\b\b\b\b\b\b\b\b\b\b\b\b\b\b\b\b\b\b\b\b\b\b\b\b\b\b\b\b\b\b\b\b\b\b\b\b\b\b\b\b\b\b\b\b\b\b\b\b\b\b\b\b\b\b\b\b\b\b\b\b\b\b\b\b\b\b\b\b\b\b\b\b\b\b\b\b\b\b\b\b\b\b\b\b\b\b\b\b\b\b\b\b\b\b\b\b\b\b\b\b\b\b\b\b\b\b\b\b\b\b\b\b\b\b\b\b\b\b\b\b\b\b\b\b\b\b\b\b\b\b\b\b\b\b\b\b\b\b\b\b\b\b\b\b\b\b\b\b\b\b\b\b\b\b\b\b\b\b\b\b\b\b\b\b\b\b\b\b\b\b\b\b\b\b\b\b\b\b\b\b\b\b\b\b\b\b\b\b\b\b\b\b\b\b\b\b\b\b\b\b\b\b\b\b\b\b\b\b\b\b\b\b\b\b\b\b\b\b\b\b\b\b\b\b\b\b\b\b\b\b\b\b\b\b\b\b\b\b\b\b\b\b\b\b\b\b\b\b\b\b\b\b\b\b\b\b\b\b\b\b\b\b\b\b\b\b\b\b\b\b\b\b\b\b\b\b\b\b\b\b\b\b\b\b\b\b\b\b\b\b\b\b\b\b\b\b\b\b\b\b\b\b\b\b\b\b\b\b\b\b\b\b\b\b\b\b\b\b\b\b\b\b\b\b\b\b\b\b\b\b\b\b\b\b\b\b\b\b\b\b\b\b\b\b\b\b\b\b\b\b\b\b\b\b\b\b\b\b\b\b\b\b\b\b\b\b\b\b\b\b\b\b\b\b\b\b\b\b\b\b\b\b\b\b\b\b\b\b\b\b\b\b\b\b\b\b\b\b\b\b\b\b\b\b\b\b\b\b\b\b\n",
      "Epoch 7/20\n",
      "63/63 [==============================] - 0s 7ms/step - loss: 0.1942 - accuracy: 0.9501 - val_loss: 0.9193 - val_accuracy: 0.8170\b\b\b\b\b\b\b\b\b\b\b\b\b\b\b\b\b\b\b\b\b\b\b\b\b\b\b\b\b\b\b\b\b\b\b\b\b\b\b\b\b\b\b\b\b\b\b\b\b\b\b\b\b\b\b\b\b\b\b\b\b\b\b\b\b\b\b\b\b\b\b\b\b\b\b\b\b\b\b\b\b\b\b\b\b\b\b\b\b\b\b\b\b\b\b\b\b\b\b\b\b\b\b\b\b\b\b\b\b\b\b\b\b\b\b\b\b\b\b\b\b\b\b\b\b\b\b\b\b\b\b\b\b\b\b\b\b\b\b\b\b\b\b\b\b\b\b\b\b\b\b\b\b\b\b\b\b\b\b\b\b\b\b\b\b\b\b\b\b\b\b\b\b\b\b\b\b\b\b\b\b\b\b\b\b\b\b\b\b\b\b\b\b\b\b\b\b\b\b\b\b\b\b\b\b\b\b\b\b\b\b\b\b\b\b\b\b\b\b\b\b\b\b\b\b\b\b\b\b\b\b\b\b\b\b\b\b\b\b\b\b\b\b\b\b\b\b\b\b\b\b\b\b\b\b\b\b\b\b\b\b\b\b\b\b\b\b\b\b\b\b\b\b\b\b\b\b\b\b\b\b\b\b\b\b\b\b\b\b\b\b\b\b\b\b\b\b\b\b\b\b\b\b\b\b\b\b\b\b\b\b\b\b\b\b\b\b\b\b\b\b\b\b\b\b\b\b\b\b\b\b\b\b\b\b\b\b\b\b\b\b\b\b\b\b\b\b\b\b\b\b\b\b\b\b\b\b\b\b\b\b\b\b\b\b\b\b\b\b\b\b\b\b\b\b\b\b\b\b\b\b\b\b\b\b\b\b\b\b\b\b\b\b\b\b\b\b\b\b\b\b\b\b\b\b\b\b\b\b\b\b\b\b\b\b\b\b\b\b\b\b\b\b\b\b\b\b\b\b\b\b\b\b\b\b\b\b\b\b\b\b\b\b\b\b\b\b\b\b\b\b\b\b\b\b\b\b\b\b\b\b\b\b\b\b\b\b\b\b\b\b\b\b\b\b\b\b\b\b\b\b\b\b\b\b\b\b\b\b\b\b\b\b\b\b\b\b\b\b\b\b\b\b\b\b\b\b\b\b\b\b\b\b\b\b\b\b\b\b\b\b\b\b\b\b\b\b\b\b\b\b\b\b\b\b\b\b\b\b\b\b\b\b\b\b\b\b\b\b\b\b\b\b\b\b\b\b\b\b\b\b\b\b\b\b\b\b\b\b\b\b\b\b\b\b\b\b\b\b\b\b\b\b\b\b\b\b\b\b\b\b\b\b\b\b\b\b\b\b\b\b\b\b\b\b\b\b\b\b\b\b\b\b\b\b\b\b\b\b\b\b\b\b\b\b\b\b\b\b\b\b\b\b\b\b\b\b\b\b\b\b\b\b\b\b\b\b\b\b\b\b\b\b\b\b\b\b\b\b\b\b\b\b\b\b\b\b\b\b\b\b\b\b\b\b\b\b\b\b\b\b\b\b\b\b\b\b\b\b\b\b\b\n",
      "Epoch 8/20\n",
      "63/63 [==============================] - 0s 8ms/step - loss: 0.1690 - accuracy: 0.9534 - val_loss: 1.0303 - val_accuracy: 0.8030\b\b\b\b\b\b\b\b\b\b\b\b\b\b\b\b\b\b\b\b\b\b\b\b\b\b\b\b\b\b\b\b\b\b\b\b\b\b\b\b\b\b\b\b\b\b\b\b\b\b\b\b\b\b\b\b\b\b\b\b\b\b\b\b\b\b\b\b\b\b\b\b\b\b\b\b\b\b\b\b\b\b\b\b\b\b\b\b\b\b\b\b\b\b\b\b\b\b\b\b\b\b\b\b\b\b\b\b\b\b\b\b\b\b\b\b\b\b\b\b\b\b\b\b\b\b\b\b\b\b\b\b\b\b\b\b\b\b\b\b\b\b\b\b\b\b\b\b\b\b\b\b\b\b\b\b\b\b\b\b\b\b\b\b\b\b\b\b\b\b\b\b\b\b\b\b\b\b\b\b\b\b\b\b\b\b\b\b\b\b\b\b\b\b\b\b\b\b\b\b\b\b\b\b\b\b\b\b\b\b\b\b\b\b\b\b\b\b\b\b\b\b\b\b\b\b\b\b\b\b\b\b\b\b\b\b\b\b\b\b\b\b\b\b\b\b\b\b\b\b\b\b\b\b\b\b\b\b\b\b\b\b\b\b\b\b\b\b\b\b\b\b\b\b\b\b\b\b\b\b\b\b\b\b\b\b\b\b\b\b\b\b\b\b\b\b\b\b\b\b\b\b\b\b\b\b\b\b\b\b\b\b\b\b\b\b\b\b\b\b\b\b\b\b\b\b\b\b\b\b\b\b\b\b\b\b\b\b\b\b\b\b\b\b\b\b\b\b\b\b\b\b\b\b\b\b\b\b\b\b\b\b\b\b\b\b\b\b\b\b\b\b\b\b\b\b\b\b\b\b\b\b\b\b\b\b\b\b\b\b\b\b\b\b\b\b\b\b\b\b\b\b\b\b\b\b\b\b\b\b\b\b\b\b\b\b\b\b\b\b\b\b\b\b\b\b\b\b\b\b\b\b\b\b\b\b\b\b\b\b\b\b\b\b\b\b\b\b\b\b\b\b\b\b\b\b\b\b\b\b\b\b\b\b\b\b\b\b\b\b\b\b\b\b\b\b\b\b\b\b\b\b\b\b\b\b\b\b\b\b\b\b\b\b\b\b\b\b\b\b\b\b\b\b\b\b\b\b\b\b\b\b\b\b\b\b\b\b\b\b\b\b\b\b\b\b\b\b\b\b\b\b\b\b\b\b\b\b\b\b\b\b\b\b\b\b\b\b\b\b\b\b\b\b\b\b\b\b\b\b\b\b\b\b\b\b\b\b\b\b\b\b\b\b\b\b\b\b\b\b\b\b\b\b\b\b\b\b\b\b\b\b\b\b\b\b\b\b\b\b\b\b\b\b\b\b\b\b\b\b\b\b\b\b\b\b\b\b\b\b\b\b\b\b\b\b\b\b\b\b\b\b\b\b\b\b\b\b\b\b\b\b\b\b\b\b\b\b\b\b\b\b\b\b\b\b\b\b\b\b\b\b\b\b\b\b\b\b\b\b\b\b\b\b\b\b\b\b\b\b\b\b\b\b\b\b\b\b\b\b\b\b\n",
      "Epoch 9/20\n",
      "63/63 [==============================] - 0s 8ms/step - loss: 0.1540 - accuracy: 0.9560 - val_loss: 1.0019 - val_accuracy: 0.8050\b\b\b\b\b\b\b\b\b\b\b\b\b\b\b\b\b\b\b\b\b\b\b\b\b\b\b\b\b\b\b\b\b\b\b\b\b\b\b\b\b\b\b\b\b\b\b\b\b\b\b\b\b\b\b\b\b\b\b\b\b\b\b\b\b\b\b\b\b\b\b\b\b\b\b\b\b\b\b\b\b\b\b\b\b\b\b\b\b\b\b\b\b\b\b\b\b\b\b\b\b\b\b\b\b\b\b\b\b\b\b\b\b\b\b\b\b\b\b\b\b\b\b\b\b\b\b\b\b\b\b\b\b\b\b\b\b\b\b\b\b\b\b\b\b\b\b\b\b\b\b\b\b\b\b\b\b\b\b\b\b\b\b\b\b\b\b\b\b\b\b\b\b\b\b\b\b\b\b\b\b\b\b\b\b\b\b\b\b\b\b\b\b\b\b\b\b\b\b\b\b\b\b\b\b\b\b\b\b\b\b\b\b\b\b\b\b\b\b\b\b\b\b\b\b\b\b\b\b\b\b\b\b\b\b\b\b\b\b\b\b\b\b\b\b\b\b\b\b\b\b\b\b\b\b\b\b\b\b\b\b\b\b\b\b\b\b\b\b\b\b\b\b\b\b\b\b\b\b\b\b\b\b\b\b\b\b\b\b\b\b\b\b\b\b\b\b\b\b\b\b\b\b\b\b\b\b\b\b\b\b\b\b\b\b\b\b\b\b\b\b\b\b\b\b\b\b\b\b\b\b\b\b\b\b\b\b\b\b\b\b\b\b\b\b\b\b\b\b\b\b\b\b\b\b\b\b\b\b\b\b\b\b\b\b\b\b\b\b\b\b\b\b\b\b\b\b\b\b\b\b\b\b\b\b\b\b\b\b\b\b\b\b\b\b\b\b\b\b\b\b\b\b\b\b\b\b\b\b\b\b\b\b\b\b\b\b\b\b\b\b\b\b\b\b\b\b\b\b\b\b\b\b\b\b\b\b\b\b\b\b\b\b\b\b\b\b\b\b\b\b\b\b\b\b\b\b\b\b\b\b\b\b\b\b\b\b\b\b\b\b\b\b\b\b\b\b\b\b\b\b\b\b\b\b\b\b\b\b\b\b\b\b\b\b\b\b\b\b\b\b\b\b\b\b\b\b\b\b\b\b\b\b\b\b\b\b\b\b\b\b\b\b\b\b\b\b\b\b\b\b\b\b\b\b\b\b\b\b\b\b\b\b\b\b\b\b\b\b\b\b\b\b\b\b\b\b\b\b\b\b\b\b\b\b\b\b\b\b\b\b\b\b\b\b\b\b\b\b\b\b\b\b\b\b\b\b\b\b\b\b\b\b\b\b\b\b\b\b\b\b\b\b\b\b\b\b\b\b\b\b\b\b\b\b\b\b\b\b\b\b\b\b\b\b\b\b\b\b\b\b\b\b\b\b\b\b\b\b\b\b\b\b\b\b\b\b\b\b\b\b\b\b\b\b\b\b\b\b\b\b\b\b\b\b\b\b\b\b\b\b\b\b\b\b\b\b\b\b\b\b\b\b\b\b\b\b\b\b\b\b\b\n",
      "Epoch 10/20\n",
      "63/63 [==============================] - 0s 7ms/step - loss: 0.1455 - accuracy: 0.9523 - val_loss: 1.0450 - val_accuracy: 0.8100\b\b\b\b\b\b\b\b\b\b\b\b\b\b\b\b\b\b\b\b\b\b\b\b\b\b\b\b\b\b\b\b\b\b\b\b\b\b\b\b\b\b\b\b\b\b\b\b\b\b\b\b\b\b\b\b\b\b\b\b\b\b\b\b\b\b\b\b\b\b\b\b\b\b\b\b\b\b\b\b\b\b\b\b\b\b\b\b\b\b\b\b\b\b\b\b\b\b\b\b\b\b\b\b\b\b\b\b\b\b\b\b\b\b\b\b\b\b\b\b\b\b\b\b\b\b\b\b\b\b\b\b\b\b\b\b\b\b\b\b\b\b\b\b\b\b\b\b\b\b\b\b\b\b\b\b\b\b\b\b\b\b\b\b\b\b\b\b\b\b\b\b\b\b\b\b\b\b\b\b\b\b\b\b\b\b\b\b\b\b\b\b\b\b\b\b\b\b\b\b\b\b\b\b\b\b\b\b\b\b\b\b\b\b\b\b\b\b\b\b\b\b\b\b\b\b\b\b\b\b\b\b\b\b\b\b\b\b\b\b\b\b\b\b\b\b\b\b\b\b\b\b\b\b\b\b\b\b\b\b\b\b\b\b\b\b\b\b\b\b\b\b\b\b\b\b\b\b\b\b\b\b\b\b\b\b\b\b\b\b\b\b\b\b\b\b\b\b\b\b\b\b\b\b\b\b\b\b\b\b\b\b\b\b\b\b\b\b\b\b\b\b\b\b\b\b\b\b\b\b\b\b\b\b\b\b\b\b\b\b\b\b\b\b\b\b\b\b\b\b\b\b\b\b\b\b\b\b\b\b\b\b\b\b\b\b\b\b\b\b\b\b\b\b\b\b\b\b\b\b\b\b\b\b\b\b\b\b\b\b\b\b\b\b\b\b\b\b\b\b\b\b\b\b\b\b\b\b\b\b\b\b\b\b\b\b\b\b\b\b\b\b\b\b\b\b\b\b\b\b\b\b\b\b\b\b\b\b\b\b\b\b\b\b\b\b\b\b\b\b\b\b\b\b\b\b\b\b\b\b\b\b\b\b\b\b\b\b\b\b\b\b\b\b\b\b\b\b\b\b\b\b\b\b\b\b\b\b\b\b\b\b\b\b\b\b\b\b\b\b\b\b\b\b\b\b\b\b\b\b\b\b\b\b\b\b\b\b\b\b\b\b\b\b\b\b\b\b\b\b\b\b\b\b\b\b\b\b\b\b\b\b\b\b\b\b\b\b\b\b\b\b\b\b\b\b\b\b\b\b\b\b\b\b\b\b\b\b\b\b\b\b\b\b\b\b\b\b\b\b\b\b\b\b\b\b\b\b\b\b\b\b\b\b\b\b\b\b\b\b\b\b\b\b\b\b\b\b\b\b\n",
      "Epoch 11/20\n",
      "63/63 [==============================] - 0s 7ms/step - loss: 0.1373 - accuracy: 0.9553 - val_loss: 1.1040 - val_accuracy: 0.8020\b\b\b\b\b\b\b\b\b\b\b\b\b\b\b\b\b\b\b\b\b\b\b\b\b\b\b\b\b\b\b\b\b\b\b\b\b\b\b\b\b\b\b\b\b\b\b\b\b\b\b\b\b\b\b\b\b\b\b\b\b\b\b\b\b\b\b\b\b\b\b\b\b\b\b\b\b\b\b\b\b\b\b\b\b\b\b\b\b\b\b\b\b\b\b\b\b\b\b\b\b\b\b\b\b\b\b\b\b\b\b\b\b\b\b\b\b\b\b\b\b\b\b\b\b\b\b\b\b\b\b\b\b\b\b\b\b\b\b\b\b\b\b\b\b\b\b\b\b\b\b\b\b\b\b\b\b\b\b\b\b\b\b\b\b\b\b\b\b\b\b\b\b\b\b\b\b\b\b\b\b\b\b\b\b\b\b\b\b\b\b\b\b\b\b\b\b\b\b\b\b\b\b\b\b\b\b\b\b\b\b\b\b\b\b\b\b\b\b\b\b\b\b\b\b\b\b\b\b\b\b\b\b\b\b\b\b\b\b\b\b\b\b\b\b\b\b\b\b\b\b\b\b\b\b\b\b\b\b\b\b\b\b\b\b\b\b\b\b\b\b\b\b\b\b\b\b\b\b\b\b\b\b\b\b\b\b\b\b\b\b\b\b\b\b\b\b\b\b\b\b\b\b\b\b\b\b\b\b\b\b\b\b\b\b\b\b\b\b\b\b\b\b\b\b\b\b\b\b\b\b\b\b\b\b\b\b\b\b\b\b\b\b\b\b\b\b\b\b\b\b\b\b\b\b\b\b\b\b\b\b\b\b\b\b\b\b\b\b\b\b\b\b\b\b\b\b\b\b\b\b\b\b\b\b\b\b\b\b\b\b\b\b\b\b\b\b\b\b\b\b\b\b\b\b\b\b\b\b\b\b\b\b\b\b\b\b\b\b\b\b\b\b\b\b\b\b\b\b\b\b\b\b\b\b\b\b\b\b\b\b\b\b\b\b\b\b\b\b\b\b\b\b\b\b\b\b\b\b\b\b\b\b\b\b\b\b\b\b\b\b\b\b\b\b\b\b\b\b\b\b\b\b\b\b\b\b\b\b\b\b\b\b\b\b\b\b\b\b\b\b\b\b\b\b\b\b\b\b\b\b\b\b\b\b\b\b\b\b\b\b\b\b\b\b\b\b\b\b\b\b\b\b\b\b\b\b\b\b\b\b\b\b\b\b\b\b\b\b\b\b\b\b\b\b\b\b\b\b\b\b\b\b\b\b\b\b\b\b\b\b\b\b\b\b\b\b\b\b\b\b\b\b\b\b\b\b\b\b\b\b\b\b\b\b\b\b\b\b\b\b\b\b\b\b\b\b\b\b\b\n",
      "Epoch 12/20\n",
      "63/63 [==============================] - 0s 7ms/step - loss: 0.1224 - accuracy: 0.9587 - val_loss: 1.1223 - val_accuracy: 0.8050\b\b\b\b\b\b\b\b\b\b\b\b\b\b\b\b\b\b\b\b\b\b\b\b\b\b\b\b\b\b\b\b\b\b\b\b\b\b\b\b\b\b\b\b\b\b\b\b\b\b\b\b\b\b\b\b\b\b\b\b\b\b\b\b\b\b\b\b\b\b\b\b\b\b\b\b\b\b\b\b\b\b\b\b\b\b\b\b\b\b\b\b\b\b\b\b\b\b\b\b\b\b\b\b\b\b\b\b\b\b\b\b\b\b\b\b\b\b\b\b\b\b\b\b\b\b\b\b\b\b\b\b\b\b\b\b\b\b\b\b\b\b\b\b\b\b\b\b\b\b\b\b\b\b\b\b\b\b\b\b\b\b\b\b\b\b\b\b\b\b\b\b\b\b\b\b\b\b\b\b\b\b\b\b\b\b\b\b\b\b\b\b\b\b\b\b\b\b\b\b\b\b\b\b\b\b\b\b\b\b\b\b\b\b\b\b\b\b\b\b\b\b\b\b\b\b\b\b\b\b\b\b\b\b\b\b\b\b\b\b\b\b\b\b\b\b\b\b\b\b\b\b\b\b\b\b\b\b\b\b\b\b\b\b\b\b\b\b\b\b\b\b\b\b\b\b\b\b\b\b\b\b\b\b\b\b\b\b\b\b\b\b\b\b\b\b\b\b\b\b\b\b\b\b\b\b\b\b\b\b\b\b\b\b\b\b\b\b\b\b\b\b\b\b\b\b\b\b\b\b\b\b\b\b\b\b\b\b\b\b\b\b\b\b\b\b\b\b\b\b\b\b\b\b\b\b\b\b\b\b\b\b\b\b\b\b\b\b\b\b\b\b\b\b\b\b\b\b\b\b\b\b\b\b\b\b\b\b\b\b\b\b\b\b\b\b\b\b\b\b\b\b\b\b\b\b\b\b\b\b\b\b\b\b\b\b\b\b\b\b\b\b\b\b\b\b\b\b\b\b\b\b\b\b\b\b\b\b\b\b\b\b\b\b\b\b\b\b\b\b\b\b\b\b\b\b\b\b\b\b\b\b\b\b\b\b\b\b\b\b\b\b\b\b\b\b\b\b\b\b\b\b\b\b\b\b\b\b\b\b\b\b\b\b\b\b\b\b\b\b\b\b\b\b\b\b\b\b\b\b\b\b\b\b\b\b\b\b\b\b\b\b\b\b\b\b\b\b\b\b\b\b\b\b\b\b\b\b\b\b\b\b\b\b\b\b\b\b\b\b\b\b\b\b\b\b\b\b\b\b\b\b\b\b\b\b\b\b\b\b\b\b\b\b\b\b\b\b\b\b\b\b\b\b\b\b\b\b\b\b\b\b\b\b\b\b\b\b\b\b\b\b\b\b\b\b\b\b\b\b\n",
      "Epoch 13/20\n",
      "63/63 [==============================] - 0s 7ms/step - loss: 0.1231 - accuracy: 0.9559 - val_loss: 1.1081 - val_accuracy: 0.8010\b\b\b\b\b\b\b\b\b\b\b\b\b\b\b\b\b\b\b\b\b\b\b\b\b\b\b\b\b\b\b\b\b\b\b\b\b\b\b\b\b\b\b\b\b\b\b\b\b\b\b\b\b\b\b\b\b\b\b\b\b\b\b\b\b\b\b\b\b\b\b\b\b\b\b\b\b\b\b\b\b\b\b\b\b\b\b\b\b\b\b\b\b\b\b\b\b\b\b\b\b\b\b\b\b\b\b\b\b\b\b\b\b\b\b\b\b\b\b\b\b\b\b\b\b\b\b\b\b\b\b\b\b\b\b\b\b\b\b\b\b\b\b\b\b\b\b\b\b\b\b\b\b\b\b\b\b\b\b\b\b\b\b\b\b\b\b\b\b\b\b\b\b\b\b\b\b\b\b\b\b\b\b\b\b\b\b\b\b\b\b\b\b\b\b\b\b\b\b\b\b\b\b\b\b\b\b\b\b\b\b\b\b\b\b\b\b\b\b\b\b\b\b\b\b\b\b\b\b\b\b\b\b\b\b\b\b\b\b\b\b\b\b\b\b\b\b\b\b\b\b\b\b\b\b\b\b\b\b\b\b\b\b\b\b\b\b\b\b\b\b\b\b\b\b\b\b\b\b\b\b\b\b\b\b\b\b\b\b\b\b\b\b\b\b\b\b\b\b\b\b\b\b\b\b\b\b\b\b\b\b\b\b\b\b\b\b\b\b\b\b\b\b\b\b\b\b\b\b\b\b\b\b\b\b\b\b\b\b\b\b\b\b\b\b\b\b\b\b\b\b\b\b\b\b\b\b\b\b\b\b\b\b\b\b\b\b\b\b\b\b\b\b\b\b\b\b\b\b\b\b\b\b\b\b\b\b\b\b\b\b\b\b\b\b\b\b\b\b\b\b\b\b\b\b\b\b\b\b\b\b\b\b\b\b\b\b\b\b\b\b\b\b\b\b\b\b\b\b\b\b\b\b\b\b\b\b\b\b\b\b\b\b\b\b\b\b\b\b\b\b\b\b\b\b\b\b\b\b\b\b\b\b\b\b\b\b\b\b\b\b\b\b\b\b\b\b\b\b\b\b\b\b\b\b\b\b\b\b\b\b\b\b\b\b\b\b\b\b\b\b\b\b\b\b\b\b\b\b\b\b\b\b\b\b\b\b\b\b\b\b\b\b\b\b\b\b\b\b\b\b\b\b\b\b\b\b\b\b\b\b\b\b\b\b\b\b\b\b\b\b\b\b\b\b\b\b\b\b\b\b\b\b\b\b\b\b\b\b\b\b\b\b\b\b\b\b\b\b\b\b\b\b\b\b\b\b\b\b\b\b\b\b\b\b\b\b\b\b\b\b\b\b\b\b\b\b\b\b\b\n",
      "Epoch 14/20\n",
      "63/63 [==============================] - 0s 8ms/step - loss: 0.1129 - accuracy: 0.9563 - val_loss: 1.1533 - val_accuracy: 0.7970\b\b\b\b\b\b\b\b\b\b\b\b\b\b\b\b\b\b\b\b\b\b\b\b\b\b\b\b\b\b\b\b\b\b\b\b\b\b\b\b\b\b\b\b\b\b\b\b\b\b\b\b\b\b\b\b\b\b\b\b\b\b\b\b\b\b\b\b\b\b\b\b\b\b\b\b\b\b\b\b\b\b\b\b\b\b\b\b\b\b\b\b\b\b\b\b\b\b\b\b\b\b\b\b\b\b\b\b\b\b\b\b\b\b\b\b\b\b\b\b\b\b\b\b\b\b\b\b\b\b\b\b\b\b\b\b\b\b\b\b\b\b\b\b\b\b\b\b\b\b\b\b\b\b\b\b\b\b\b\b\b\b\b\b\b\b\b\b\b\b\b\b\b\b\b\b\b\b\b\b\b\b\b\b\b\b\b\b\b\b\b\b\b\b\b\b\b\b\b\b\b\b\b\b\b\b\b\b\b\b\b\b\b\b\b\b\b\b\b\b\b\b\b\b\b\b\b\b\b\b\b\b\b\b\b\b\b\b\b\b\b\b\b\b\b\b\b\b\b\b\b\b\b\b\b\b\b\b\b\b\b\b\b\b\b\b\b\b\b\b\b\b\b\b\b\b\b\b\b\b\b\b\b\b\b\b\b\b\b\b\b\b\b\b\b\b\b\b\b\b\b\b\b\b\b\b\b\b\b\b\b\b\b\b\b\b\b\b\b\b\b\b\b\b\b\b\b\b\b\b\b\b\b\b\b\b\b\b\b\b\b\b\b\b\b\b\b\b\b\b\b\b\b\b\b\b\b\b\b\b\b\b\b\b\b\b\b\b\b\b\b\b\b\b\b\b\b\b\b\b\b\b\b\b\b\b\b\b\b\b\b\b\b\b\b\b\b\b\b\b\b\b\b\b\b\b\b\b\b\b\b\b\b\b\b\b\b\b\b\b\b\b\b\b\b\b\b\b\b\b\b\b\b\b\b\b\b\b\b\b\b\b\b\b\b\b\b\b\b\b\b\b\b\b\b\b\b\b\b\b\b\b\b\b\b\b\b\b\b\b\b\b\b\b\b\b\b\b\b\b\b\b\b\b\b\b\b\b\b\b\b\b\b\b\b\b\b\b\b\b\b\b\b\b\b\b\b\b\b\b\b\b\b\b\b\b\b\b\b\b\b\b\b\b\b\b\b\b\b\b\b\b\b\b\b\b\b\b\b\b\b\b\b\b\b\b\b\b\b\b\b\b\b\b\b\b\b\b\b\b\b\b\b\b\b\b\b\b\b\b\b\b\b\b\b\b\b\b\b\b\b\b\b\b\b\b\b\b\b\b\b\b\b\b\b\b\b\b\b\b\b\b\b\b\b\b\b\b\b\b\n",
      "Epoch 15/20\n",
      "63/63 [==============================] - 0s 7ms/step - loss: 0.1113 - accuracy: 0.9564 - val_loss: 1.2132 - val_accuracy: 0.7870\b\b\b\b\b\b\b\b\b\b\b\b\b\b\b\b\b\b\b\b\b\b\b\b\b\b\b\b\b\b\b\b\b\b\b\b\b\b\b\b\b\b\b\b\b\b\b\b\b\b\b\b\b\b\b\b\b\b\b\b\b\b\b\b\b\b\b\b\b\b\b\b\b\b\b\b\b\b\b\b\b\b\b\b\b\b\b\b\b\b\b\b\b\b\b\b\b\b\b\b\b\b\b\b\b\b\b\b\b\b\b\b\b\b\b\b\b\b\b\b\b\b\b\b\b\b\b\b\b\b\b\b\b\b\b\b\b\b\b\b\b\b\b\b\b\b\b\b\b\b\b\b\b\b\b\b\b\b\b\b\b\b\b\b\b\b\b\b\b\b\b\b\b\b\b\b\b\b\b\b\b\b\b\b\b\b\b\b\b\b\b\b\b\b\b\b\b\b\b\b\b\b\b\b\b\b\b\b\b\b\b\b\b\b\b\b\b\b\b\b\b\b\b\b\b\b\b\b\b\b\b\b\b\b\b\b\b\b\b\b\b\b\b\b\b\b\b\b\b\b\b\b\b\b\b\b\b\b\b\b\b\b\b\b\b\b\b\b\b\b\b\b\b\b\b\b\b\b\b\b\b\b\b\b\b\b\b\b\b\b\b\b\b\b\b\b\b\b\b\b\b\b\b\b\b\b\b\b\b\b\b\b\b\b\b\b\b\b\b\b\b\b\b\b\b\b\b\b\b\b\b\b\b\b\b\b\b\b\b\b\b\b\b\b\b\b\b\b\b\b\b\b\b\b\b\b\b\b\b\b\b\b\b\b\b\b\b\b\b\b\b\b\b\b\b\b\b\b\b\b\b\b\b\b\b\b\b\b\b\b\b\b\b\b\b\b\b\b\b\b\b\b\b\b\b\b\b\b\b\b\b\b\b\b\b\b\b\b\b\b\b\b\b\b\b\b\b\b\b\b\b\b\b\b\b\b\b\b\b\b\b\b\b\b\b\b\b\b\b\b\b\b\b\b\b\b\b\b\b\b\b\b\b\b\b\b\b\b\b\b\b\b\b\b\b\b\b\b\b\b\b\b\b\b\b\b\b\b\b\b\b\b\b\b\b\b\b\b\b\b\b\b\b\b\b\b\b\b\b\b\b\b\b\b\b\b\b\b\b\b\b\b\b\b\b\b\b\b\b\b\b\b\b\b\b\b\b\b\b\b\b\b\b\b\b\b\b\b\b\b\b\b\b\b\b\b\b\b\b\b\b\b\b\b\b\b\b\b\b\b\b\b\b\b\b\b\b\b\b\b\b\b\b\b\b\b\b\b\b\b\b\b\b\b\b\b\b\b\b\b\b\b\b\b\b\b\b\b\b\b\n",
      "Epoch 16/20\n",
      "63/63 [==============================] - 0s 8ms/step - loss: 0.1073 - accuracy: 0.9559 - val_loss: 1.2037 - val_accuracy: 0.7980\b\b\b\b\b\b\b\b\b\b\b\b\b\b\b\b\b\b\b\b\b\b\b\b\b\b\b\b\b\b\b\b\b\b\b\b\b\b\b\b\b\b\b\b\b\b\b\b\b\b\b\b\b\b\b\b\b\b\b\b\b\b\b\b\b\b\b\b\b\b\b\b\b\b\b\b\b\b\b\b\b\b\b\b\b\b\b\b\b\b\b\b\b\b\b\b\b\b\b\b\b\b\b\b\b\b\b\b\b\b\b\b\b\b\b\b\b\b\b\b\b\b\b\b\b\b\b\b\b\b\b\b\b\b\b\b\b\b\b\b\b\b\b\b\b\b\b\b\b\b\b\b\b\b\b\b\b\b\b\b\b\b\b\b\b\b\b\b\b\b\b\b\b\b\b\b\b\b\b\b\b\b\b\b\b\b\b\b\b\b\b\b\b\b\b\b\b\b\b\b\b\b\b\b\b\b\b\b\b\b\b\b\b\b\b\b\b\b\b\b\b\b\b\b\b\b\b\b\b\b\b\b\b\b\b\b\b\b\b\b\b\b\b\b\b\b\b\b\b\b\b\b\b\b\b\b\b\b\b\b\b\b\b\b\b\b\b\b\b\b\b\b\b\b\b\b\b\b\b\b\b\b\b\b\b\b\b\b\b\b\b\b\b\b\b\b\b\b\b\b\b\b\b\b\b\b\b\b\b\b\b\b\b\b\b\b\b\b\b\b\b\b\b\b\b\b\b\b\b\b\b\b\b\b\b\b\b\b\b\b\b\b\b\b\b\b\b\b\b\b\b\b\b\b\b\b\b\b\b\b\b\b\b\b\b\b\b\b\b\b\b\b\b\b\b\b\b\b\b\b\b\b\b\b\b\b\b\b\b\b\b\b\b\b\b\b\b\b\b\b\b\b\b\b\b\b\b\b\b\b\b\b\b\b\b\b\b\b\b\b\b\b\b\b\b\b\b\b\b\b\b\b\b\b\b\b\b\b\b\b\b\b\b\b\b\b\b\b\b\b\b\b\b\b\b\b\b\b\b\b\b\b\b\b\b\b\b\b\b\b\b\b\b\b\b\b\b\b\b\b\b\b\b\b\b\b\b\b\b\b\b\b\b\b\b\b\b\b\b\b\b\b\b\b\b\b\b\b\b\b\b\b\b\b\b\b\b\b\b\b\b\b\b\b\b\b\b\b\b\b\b\b\b\b\b\b\b\b\b\b\b\b\b\b\b\b\b\b\b\b\b\b\b\b\b\b\b\b\b\b\b\b\b\b\b\b\b\b\b\b\b\b\b\b\b\b\b\b\b\b\b\b\b\b\b\b\b\b\b\b\b\b\b\b\b\b\b\b\b\b\b\b\b\b\b\b\b\b\b\b\b\b\b\b\b\b\b\b\b\b\b\b\b\b\b\b\b\b\b\b\b\b\b\b\b\b\b\b\b\b\b\b\b\b\b\b\b\b\b\b\b\b\b\b\b\b\b\b\b\b\b\b\b\b\b\b\b\b\b\b\b\b\b\b\b\b\b\b\b\b\b\b\b\b\b\b\b\b\b\b\b\b\n",
      "Epoch 17/20\n",
      "63/63 [==============================] - 0s 8ms/step - loss: 0.1052 - accuracy: 0.9551 - val_loss: 1.2518 - val_accuracy: 0.7880\b\b\b\b\b\b\b\b\b\b\b\b\b\b\b\b\b\b\b\b\b\b\b\b\b\b\b\b\b\b\b\b\b\b\b\b\b\b\b\b\b\b\b\b\b\b\b\b\b\b\b\b\b\b\b\b\b\b\b\b\b\b\b\b\b\b\b\b\b\b\b\b\b\b\b\b\b\b\b\b\b\b\b\b\b\b\b\b\b\b\b\b\b\b\b\b\b\b\b\b\b\b\b\b\b\b\b\b\b\b\b\b\b\b\b\b\b\b\b\b\b\b\b\b\b\b\b\b\b\b\b\b\b\b\b\b\b\b\b\b\b\b\b\b\b\b\b\b\b\b\b\b\b\b\b\b\b\b\b\b\b\b\b\b\b\b\b\b\b\b\b\b\b\b\b\b\b\b\b\b\b\b\b\b\b\b\b\b\b\b\b\b\b\b\b\b\b\b\b\b\b\b\b\b\b\b\b\b\b\b\b\b\b\b\b\b\b\b\b\b\b\b\b\b\b\b\b\b\b\b\b\b\b\b\b\b\b\b\b\b\b\b\b\b\b\b\b\b\b\b\b\b\b\b\b\b\b\b\b\b\b\b\b\b\b\b\b\b\b\b\b\b\b\b\b\b\b\b\b\b\b\b\b\b\b\b\b\b\b\b\b\b\b\b\b\b\b\b\b\b\b\b\b\b\b\b\b\b\b\b\b\b\b\b\b\b\b\b\b\b\b\b\b\b\b\b\b\b\b\b\b\b\b\b\b\b\b\b\b\b\b\b\b\b\b\b\b\b\b\b\b\b\b\b\b\b\b\b\b\b\b\b\b\b\b\b\b\b\b\b\b\b\b\b\b\b\b\b\b\b\b\b\b\b\b\b\b\b\b\b\b\b\b\b\b\b\b\b\b\b\b\b\b\b\b\b\b\b\b\b\b\b\b\b\b\b\b\b\b\b\b\b\b\b\b\b\b\b\b\b\b\b\b\b\b\b\b\b\b\b\b\b\b\b\b\b\b\b\b\b\b\b\b\b\b\b\b\b\b\b\b\b\b\b\b\b\b\b\b\b\b\b\b\b\b\b\b\b\b\b\b\b\b\b\b\b\b\b\b\b\b\b\b\b\b\b\b\b\b\b\b\b\b\b\b\b\b\b\b\b\b\b\b\b\b\b\b\b\b\b\b\b\b\b\b\b\b\b\b\b\b\b\b\b\b\b\b\b\b\b\b\b\b\b\b\b\b\b\b\b\b\b\b\b\b\b\b\b\b\b\b\b\b\b\b\b\b\b\b\b\b\b\b\b\b\b\b\b\b\b\b\b\b\b\b\b\b\b\b\b\b\b\b\b\b\b\b\b\b\b\b\b\b\b\b\b\b\b\b\b\b\b\b\b\b\b\b\b\b\b\b\b\b\b\b\b\b\b\b\b\b\b\b\b\b\b\b\b\b\b\b\b\b\b\b\b\b\b\b\b\b\b\b\b\b\b\b\b\b\b\b\b\b\b\b\b\b\b\b\b\b\b\b\b\b\b\b\b\b\b\b\b\b\b\b\b\b\b\b\b\b\b\n",
      "Epoch 18/20\n",
      "63/63 [==============================] - 0s 7ms/step - loss: 0.1006 - accuracy: 0.9582 - val_loss: 1.2438 - val_accuracy: 0.8060\b\b\b\b\b\b\b\b\b\b\b\b\b\b\b\b\b\b\b\b\b\b\b\b\b\b\b\b\b\b\b\b\b\b\b\b\b\b\b\b\b\b\b\b\b\b\b\b\b\b\b\b\b\b\b\b\b\b\b\b\b\b\b\b\b\b\b\b\b\b\b\b\b\b\b\b\b\b\b\b\b\b\b\b\b\b\b\b\b\b\b\b\b\b\b\b\b\b\b\b\b\b\b\b\b\b\b\b\b\b\b\b\b\b\b\b\b\b\b\b\b\b\b\b\b\b\b\b\b\b\b\b\b\b\b\b\b\b\b\b\b\b\b\b\b\b\b\b\b\b\b\b\b\b\b\b\b\b\b\b\b\b\b\b\b\b\b\b\b\b\b\b\b\b\b\b\b\b\b\b\b\b\b\b\b\b\b\b\b\b\b\b\b\b\b\b\b\b\b\b\b\b\b\b\b\b\b\b\b\b\b\b\b\b\b\b\b\b\b\b\b\b\b\b\b\b\b\b\b\b\b\b\b\b\b\b\b\b\b\b\b\b\b\b\b\b\b\b\b\b\b\b\b\b\b\b\b\b\b\b\b\b\b\b\b\b\b\b\b\b\b\b\b\b\b\b\b\b\b\b\b\b\b\b\b\b\b\b\b\b\b\b\b\b\b\b\b\b\b\b\b\b\b\b\b\b\b\b\b\b\b\b\b\b\b\b\b\b\b\b\b\b\b\b\b\b\b\b\b\b\b\b\b\b\b\b\b\b\b\b\b\b\b\b\b\b\b\b\b\b\b\b\b\b\b\b\b\b\b\b\b\b\b\b\b\b\b\b\b\b\b\b\b\b\b\b\b\b\b\b\b\b\b\b\b\b\b\b\b\b\b\b\b\b\b\b\b\b\b\b\b\b\b\b\b\b\b\b\b\b\b\b\b\b\b\b\b\b\b\b\b\b\b\b\b\b\b\b\b\b\b\b\b\b\b\b\b\b\b\b\b\b\b\b\b\b\b\b\b\b\b\b\b\b\b\b\b\b\b\b\b\b\b\b\b\b\b\b\b\b\b\b\b\b\b\b\b\b\b\b\b\b\b\b\b\b\b\b\b\b\b\b\b\b\b\b\b\b\b\b\b\b\b\b\b\b\b\b\b\b\b\b\b\b\b\b\b\b\b\b\b\b\b\b\b\b\b\b\b\b\b\b\b\b\b\b\b\b\b\b\b\b\b\b\b\b\b\b\b\b\b\b\b\b\b\b\b\b\b\b\b\b\b\b\b\b\b\b\b\b\b\b\b\b\b\b\b\b\b\b\b\b\b\b\b\b\b\b\b\b\b\b\b\b\b\b\b\b\b\b\b\b\b\b\b\b\b\b\b\b\n",
      "Epoch 19/20\n",
      "63/63 [==============================] - 0s 8ms/step - loss: 0.0973 - accuracy: 0.9572 - val_loss: 1.3251 - val_accuracy: 0.8060\b\b\b\b\b\b\b\b\b\b\b\b\b\b\b\b\b\b\b\b\b\b\b\b\b\b\b\b\b\b\b\b\b\b\b\b\b\b\b\b\b\b\b\b\b\b\b\b\b\b\b\b\b\b\b\b\b\b\b\b\b\b\b\b\b\b\b\b\b\b\b\b\b\b\b\b\b\b\b\b\b\b\b\b\b\b\b\b\b\b\b\b\b\b\b\b\b\b\b\b\b\b\b\b\b\b\b\b\b\b\b\b\b\b\b\b\b\b\b\b\b\b\b\b\b\b\b\b\b\b\b\b\b\b\b\b\b\b\b\b\b\b\b\b\b\b\b\b\b\b\b\b\b\b\b\b\b\b\b\b\b\b\b\b\b\b\b\b\b\b\b\b\b\b\b\b\b\b\b\b\b\b\b\b\b\b\b\b\b\b\b\b\b\b\b\b\b\b\b\b\b\b\b\b\b\b\b\b\b\b\b\b\b\b\b\b\b\b\b\b\b\b\b\b\b\b\b\b\b\b\b\b\b\b\b\b\b\b\b\b\b\b\b\b\b\b\b\b\b\b\b\b\b\b\b\b\b\b\b\b\b\b\b\b\b\b\b\b\b\b\b\b\b\b\b\b\b\b\b\b\b\b\b\b\b\b\b\b\b\b\b\b\b\b\b\b\b\b\b\b\b\b\b\b\b\b\b\b\b\b\b\b\b\b\b\b\b\b\b\b\b\b\b\b\b\b\b\b\b\b\b\b\b\b\b\b\b\b\b\b\b\b\b\b\b\b\b\b\b\b\b\b\b\b\b\b\b\b\b\b\b\b\b\b\b\b\b\b\b\b\b\b\b\b\b\b\b\b\b\b\b\b\b\b\b\b\b\b\b\b\b\b\b\b\b\b\b\b\b\b\b\b\b\b\b\b\b\b\b\b\b\b\b\b\b\b\b\b\b\b\b\b\b\b\b\b\b\b\b\b\b\b\b\b\b\b\b\b\b\b\b\b\b\b\b\b\b\b\b\b\b\b\b\b\b\b\b\b\b\b\b\b\b\b\b\b\b\b\b\b\b\b\b\b\b\b\b\b\b\b\b\b\b\b\b\b\b\b\b\b\b\b\b\b\b\b\b\b\b\b\b\b\b\b\b\b\b\b\b\b\b\b\b\b\b\b\b\b\b\b\b\b\b\b\b\b\b\b\b\b\b\b\b\b\b\b\b\b\b\b\b\b\b\b\b\b\b\b\b\b\b\b\b\b\b\b\b\b\b\b\b\b\b\b\b\b\b\b\b\b\b\b\b\b\b\b\b\b\b\b\b\b\b\b\b\b\b\b\b\b\b\b\b\b\b\b\b\b\b\b\b\b\b\b\b\b\b\b\b\b\n",
      "Epoch 20/20\n",
      "63/63 [==============================] - 1s 8ms/step - loss: 0.0945 - accuracy: 0.9562 - val_loss: 1.3674 - val_accuracy: 0.7980\b\b\b\b\b\b\b\b\b\b\b\b\b\b\b\b\b\b\b\b\b\b\b\b\b\b\b\b\b\b\b\b\b\b\b\b\b\b\b\b\b\b\b\b\b\b\b\b\b\b\b\b\b\b\b\b\b\b\b\b\b\b\b\b\b\b\b\b\b\b\b\b\b\b\b\b\b\b\b\b\b\b\b\b\b\b\b\b\b\b\b\b\b\b\b\b\b\b\b\b\b\b\b\b\b\b\b\b\b\b\b\b\b\b\b\b\b\b\b\b\b\b\b\b\b\b\b\b\b\b\b\b\b\b\b\b\b\b\b\b\b\b\b\b\b\b\b\b\b\b\b\b\b\b\b\b\b\b\b\b\b\b\b\b\b\b\b\b\b\b\b\b\b\b\b\b\b\b\b\b\b\b\b\b\b\b\b\b\b\b\b\b\b\b\b\b\b\b\b\b\b\b\b\b\b\b\b\b\b\b\b\b\b\b\b\b\b\b\b\b\b\b\b\b\b\b\b\b\b\b\b\b\b\b\b\b\b\b\b\b\b\b\b\b\b\b\b\b\b\b\b\b\b\b\b\b\b\b\b\b\b\b\b\b\b\b\b\b\b\b\b\b\b\b\b\b\b\b\b\b\b\b\b\b\b\b\b\b\b\b\b\b\b\b\b\b\b\b\b\b\b\b\b\b\b\b\b\b\b\b\b\b\b\b\b\b\b\b\b\b\b\b\b\b\b\b\b\b\b\b\b\b\b\b\b\b\b\b\b\b\b\b\b\b\b\b\b\b\b\b\b\b\b\b\b\b\b\b\b\b\b\b\b\b\b\b\b\b\b\b\b\b\b\b\b\b\b\b\b\b\b\b\b\b\b\b\b\b\b\b\b\b\b\b\b\b\b\b\b\b\b\b\b\b\b\b\b\b\b\b\b\b\b\b\b\b\b\b\b\b\b\b\b\b\b\b\b\b\b\b\b\b\b\b\b\b\b\b\b\b\b\b\b\b\b\b\b\b\b\b\b\b\b\b\b\b\b\b\b\b\b\b\b\b\b\b\b\b\b\b\b\b\b\b\b\b\b\b\b\b\b\b\b\b\b\b\b\b\b\b\b\b\b\b\b\b\b\b\b\b\b\b\b\b\b\b\b\b\b\b\b\b\b\b\b\b\b\b\b\b\b\b\b\b\b\b\b\b\b\b\b\b\b\b\b\b\b\b\b\b\b\b\b\b\b\b\b\b\b\b\b\b\b\b\b\b\b\b\b\b\b\b\b\b\b\b\b\b\b\b\b\b\b\b\b\b\b\b\b\b\b\b\b\b\b\b\b\b\b\b\b\b\b\b\b\b\b\b\b\b\b\b\b\b\b\b\b\b\b\b\b\b\b\b\b\b\b\b\b\b\b\b\b\b\b\b\b\b\b\b\b\b\b\b\b\b\b\b\b\b\b\b\b\b\b\b\b\b\b\b\b\b\b\b\b\b\b\b\b\b\b\b\b\b\b\b\b\b\b\b\b\b\b\b\b\b\b\b\b\b\b\b\b\b\b\b\b\b\b\b\b\b\n",
      "71/71 [==============================] - 0s 1ms/step - loss: 1.7001 - accuracy: 0.7765\b\b\b\b\b\b\b\b\b\b\b\b\b\b\b\b\b\b\b\b\b\b\b\b\b\b\b\b\b\b\b\b\b\b\b\b\b\b\b\b\b\b\b\b\b\b\b\b\b\b\b\b\b\b\b\b\b\b\b\b\b\b\b\b\b\b\b\b\b\b\b\b\b\b\b\b\b\b\b\b\b\b\b\b\b\b\b\b\b\b\b\b\b\b\b\b\b\b\b\b\b\b\b\b\b\b\b\b\b\b\b\b\b\b\b\b\b\b\b\b\b\b\b\b\b\b\b\b\b\b\b\b\b\b\b\b\b\b\b\b\b\b\b\b\b\b\b\b\b\b\b\b\b\b\b\b\b\b\b\b\b\b\b\b\b\b\b\b\b\b\b\b\b\b\b\b\b\b\b\b\b\b\b\b\b\b\b\b\b\b\b\b\b\b\b\b\b\b\b\b\b\b\b\b\b\b\b\b\b\b\b\b\b\b\b\b\b\b\b\b\b\b\b\b\b\b\b\b\b\b\b\b\b\b\b\b\b\b\b\b\b\b\n",
      "[1.7001478672027588, 0.7764915227890015]\n"
     ]
    }
   ],
   "source": [
    "model = models.Sequential()\n",
    "model.add(layers.Dense(64, activation='relu', input_shape=(10000,)))\n",
    "model.add(layers.Dense(128, activation='relu'))\n",
    "model.add(layers.Dense(46, activation='softmax'))\n",
    "model.compile(optimizer='rmsprop',\n",
    "loss='categorical_crossentropy',\n",
    "metrics=['accuracy'])\n",
    "model.fit(partial_x_train,\n",
    "            partial_y_train,\n",
    "            epochs=20,\n",
    "            batch_size=128,\n",
    "            validation_data=(x_val, y_val)\n",
    "          )\n",
    "results = model.evaluate(x_test, one_hot_test_labels)\n",
    "\n",
    "print(results)"
   ],
   "metadata": {
    "collapsed": false,
    "pycharm": {
     "name": "#%%\n"
    }
   }
  },
  {
   "cell_type": "markdown",
   "source": [
    "The network now peaks at ~71% validation accuracy, an 8% absolute drop. This drop\n",
    "is mostly due to the fact that you’re trying to compress a lot of information (enough\n",
    "information to recover the separation hyperplanes of 46 classes) into an intermediate\n",
    "space that is too low-dimensional. The network is able to cram most of the necessary\n",
    "information into these eight-dimensional representations, but not all of it."
   ],
   "metadata": {
    "collapsed": false,
    "pycharm": {
     "name": "#%% md\n"
    }
   }
  },
  {
   "cell_type": "markdown",
   "source": [
    "## Prediction house prices : a regression example\n",
    "This consists of predicting a **continuous**\n",
    "value instead of a discrete label: for instance, predicting the temperature tomorrow,\n",
    "given meteorological data; or predicting the time that a software project will take to\n",
    "complete, given its specifications."
   ],
   "metadata": {
    "collapsed": false,
    "pycharm": {
     "name": "#%% md\n"
    }
   }
  },
  {
   "cell_type": "code",
   "execution_count": 14,
   "outputs": [
    {
     "name": "stdout",
     "output_type": "stream",
     "text": [
      "(404, 13)\n",
      "(102, 13)\n",
      "[15.2 42.3 50.  21.1 17.7 18.5 11.3 15.6 15.6 14.4 12.1 17.9 23.1 19.9\n",
      " 15.7  8.8 50.  22.5 24.1 27.5 10.9 30.8 32.9 24.  18.5 13.3 22.9 34.7\n",
      " 16.6 17.5 22.3 16.1 14.9 23.1 34.9 25.  13.9 13.1 20.4 20.  15.2 24.7\n",
      " 22.2 16.7 12.7 15.6 18.4 21.  30.1 15.1 18.7  9.6 31.5 24.8 19.1 22.\n",
      " 14.5 11.  32.  29.4 20.3 24.4 14.6 19.5 14.1 14.3 15.6 10.5  6.3 19.3\n",
      " 19.3 13.4 36.4 17.8 13.5 16.5  8.3 14.3 16.  13.4 28.6 43.5 20.2 22.\n",
      " 23.  20.7 12.5 48.5 14.6 13.4 23.7 50.  21.7 39.8 38.7 22.2 34.9 22.5\n",
      " 31.1 28.7 46.  41.7 21.  26.6 15.  24.4 13.3 21.2 11.7 21.7 19.4 50.\n",
      " 22.8 19.7 24.7 36.2 14.2 18.9 18.3 20.6 24.6 18.2  8.7 44.  10.4 13.2\n",
      " 21.2 37.  30.7 22.9 20.  19.3 31.7 32.  23.1 18.8 10.9 50.  19.6  5.\n",
      " 14.4 19.8 13.8 19.6 23.9 24.5 25.  19.9 17.2 24.6 13.5 26.6 21.4 11.9\n",
      " 22.6 19.6  8.5 23.7 23.1 22.4 20.5 23.6 18.4 35.2 23.1 27.9 20.6 23.7\n",
      " 28.  13.6 27.1 23.6 20.6 18.2 21.7 17.1  8.4 25.3 13.8 22.2 18.4 20.7\n",
      " 31.6 30.5 20.3  8.8 19.2 19.4 23.1 23.  14.8 48.8 22.6 33.4 21.1 13.6\n",
      " 32.2 13.1 23.4 18.9 23.9 11.8 23.3 22.8 19.6 16.7 13.4 22.2 20.4 21.8\n",
      " 26.4 14.9 24.1 23.8 12.3 29.1 21.  19.5 23.3 23.8 17.8 11.5 21.7 19.9\n",
      " 25.  33.4 28.5 21.4 24.3 27.5 33.1 16.2 23.3 48.3 22.9 22.8 13.1 12.7\n",
      " 22.6 15.  15.3 10.5 24.  18.5 21.7 19.5 33.2 23.2  5.  19.1 12.7 22.3\n",
      " 10.2 13.9 16.3 17.  20.1 29.9 17.2 37.3 45.4 17.8 23.2 29.  22.  18.\n",
      " 17.4 34.6 20.1 25.  15.6 24.8 28.2 21.2 21.4 23.8 31.  26.2 17.4 37.9\n",
      " 17.5 20.   8.3 23.9  8.4 13.8  7.2 11.7 17.1 21.6 50.  16.1 20.4 20.6\n",
      " 21.4 20.6 36.5  8.5 24.8 10.8 21.9 17.3 18.9 36.2 14.9 18.2 33.3 21.8\n",
      " 19.7 31.6 24.8 19.4 22.8  7.5 44.8 16.8 18.7 50.  50.  19.5 20.1 50.\n",
      " 17.2 20.8 19.3 41.3 20.4 20.5 13.8 16.5 23.9 20.6 31.5 23.3 16.8 14.\n",
      " 33.8 36.1 12.8 18.3 18.7 19.1 29.  30.1 50.  50.  22.  11.9 37.6 50.\n",
      " 22.7 20.8 23.5 27.9 50.  19.3 23.9 22.6 15.2 21.7 19.2 43.8 20.3 33.2\n",
      " 19.9 22.5 32.7 22.  17.1 19.  15.  16.1 25.1 23.7 28.7 37.2 22.6 16.4\n",
      " 25.  29.8 22.1 17.4 18.1 30.3 17.5 24.7 12.6 26.5 28.7 13.3 10.4 24.4\n",
      " 23.  20.  17.8  7.  11.8 24.4 13.8 19.4 25.2 19.4 19.4 29.1]\n"
     ]
    }
   ],
   "source": [
    "from tensorflow.keras.datasets import boston_housing\n",
    "(btrain_data,btrain_targets),(btest_data, btest_targets) = boston_housing.load_data()\n",
    "print(btrain_data.shape)\n",
    "print(btest_data.shape)\n",
    "\n",
    "# The targets are the median values of owner-occupied homes, in thousands of dollars:\n",
    "print(btrain_targets)"
   ],
   "metadata": {
    "collapsed": false,
    "pycharm": {
     "name": "#%%\n"
    }
   }
  },
  {
   "cell_type": "markdown",
   "source": [
    "It would be problematic to feed into a neural network values that all take wildly differ-ent ranges\n",
    "A practice **normalization** for each feature in the input data (column in the input data matrix)\n",
    "You divide by the mean of the feature than divide by the standard deviation\n",
    "So it is centered around 0 and has a unit standard deviation"
   ],
   "metadata": {
    "collapsed": false,
    "pycharm": {
     "name": "#%% md\n"
    }
   }
  },
  {
   "cell_type": "code",
   "execution_count": 15,
   "outputs": [],
   "source": [
    "b_mean = btrain_data.mean(axis=0)\n",
    "btrain_data -= b_mean\n",
    "b_std = btrain_data.std(axis=0)\n",
    "\n",
    "btrain_data /= b_std\n",
    "\n",
    "btest_data -= b_mean\n",
    "btest_data /= b_std"
   ],
   "metadata": {
    "collapsed": false,
    "pycharm": {
     "name": "#%%\n"
    }
   }
  },
  {
   "cell_type": "markdown",
   "source": [
    "**normalizing the test data are computed using the training data no any result\n",
    "from the test data should be computed**\n",
    "\n",
    "## Building your Network"
   ],
   "metadata": {
    "collapsed": false
   }
  },
  {
   "cell_type": "code",
   "execution_count": 16,
   "outputs": [],
   "source": [
    "def build_model():\n",
    "    # mse -> mean squared method\n",
    "    my_model = models.Sequential()\n",
    "    my_model.add(layers.Dense(64,activation='relu',input_shape=(btrain_data.shape[1],)))\n",
    "    my_model.add(layers.Dense(64,activation='relu'))\n",
    "    my_model.add(layers.Dense(1))\n",
    "    my_model.compile(optimizer='rmsprop',loss='mse',metrics=['mae'])\n",
    "    return my_model\n"
   ],
   "metadata": {
    "collapsed": false,
    "pycharm": {
     "name": "#%%\n"
    }
   }
  },
  {
   "cell_type": "markdown",
   "source": [
    "## Validation with K-fold approach\n",
    "since we have few data validation set is very small\n",
    "SO\n",
    "validation score might change depending on which data you choose the validation\n",
    "scores might have a high variance with regard to the validation split. This would pre-\n",
    "vent you from reliably evaluating your model.\n",
    "\n",
    "### K-fold cross validation\n",
    "* split data into `K` partitions typically (`K = 4` or `K = 5`)\n",
    "* instantiating `K` identical models\n",
    "* training each one on K – 1 partitions while evaluating on the remaining partition"
   ],
   "metadata": {
    "collapsed": false,
    "pycharm": {
     "name": "#%% md\n"
    }
   }
  },
  {
   "cell_type": "code",
   "execution_count": 17,
   "outputs": [
    {
     "name": "stdout",
     "output_type": "stream",
     "text": [
      "processing fold # 0\n",
      "processing fold # 1\n",
      "processing fold # 2\n",
      "processing fold # 3\n",
      "[{'history': <tensorflow.python.keras.callbacks.History object at 0x7effb00bf5b0>, 'model': <tensorflow.python.keras.engine.sequential.Sequential object at 0x7effed003ca0>, 'evaluate': [5.86143159866333, 1.8309224843978882]}, {'history': <tensorflow.python.keras.callbacks.History object at 0x7eff703451f0>, 'model': <tensorflow.python.keras.engine.sequential.Sequential object at 0x7eff8c033790>, 'evaluate': [10.28377628326416, 2.3416907787323]}, {'history': <tensorflow.python.keras.callbacks.History object at 0x7eff701f52e0>, 'model': <tensorflow.python.keras.engine.sequential.Sequential object at 0x7eff8c065f70>, 'evaluate': [17.804061889648438, 2.764087438583374]}, {'history': <tensorflow.python.keras.callbacks.History object at 0x7effb01570a0>, 'model': <tensorflow.python.keras.engine.sequential.Sequential object at 0x7eff70151b80>, 'evaluate': [13.241730690002441, 2.5487253665924072]}]\n",
      "4\n"
     ]
    }
   ],
   "source": [
    "import util.functions as fn\n",
    "\n",
    "obj = fn.kfold_validation(\n",
    "     k=4,\n",
    "     num_epochs=100,\n",
    "     train_data=btrain_data,\n",
    "     train_targets=btrain_targets,\n",
    "     build_fn=build_model\n",
    " )\n",
    "print(obj)\n",
    "print(len(obj))"
   ],
   "metadata": {
    "collapsed": false,
    "pycharm": {
     "name": "#%%\n"
    }
   }
  },
  {
   "cell_type": "code",
   "execution_count": 18,
   "outputs": [
    {
     "data": {
      "text/plain": "2.3713565170764923"
     },
     "execution_count": 18,
     "metadata": {},
     "output_type": "execute_result"
    }
   ],
   "source": [
    "scores  = []\n",
    "# getting all the scores\n",
    "for i in obj:\n",
    "    # print(i)\n",
    "    val_mse , val_mae = i['evaluate']\n",
    "    scores.append(val_mae)\n",
    "\n",
    "np.mean(scores)"
   ],
   "metadata": {
    "collapsed": false,
    "pycharm": {
     "name": "#%%\n"
    }
   }
  },
  {
   "cell_type": "code",
   "execution_count": 29,
   "outputs": [
    {
     "name": "stdout",
     "output_type": "stream",
     "text": [
      "processing fold # 0\n",
      "processing fold # 1\n",
      "processing fold # 2\n",
      "processing fold # 3\n",
      "[{'history': <tensorflow.python.keras.callbacks.History object at 0x7eff6a852f40>, 'model': <tensorflow.python.keras.engine.sequential.Sequential object at 0x7eff69f3abb0>}, {'history': <tensorflow.python.keras.callbacks.History object at 0x7eff69c3c220>, 'model': <tensorflow.python.keras.engine.sequential.Sequential object at 0x7eff69e29c70>}, {'history': <tensorflow.python.keras.callbacks.History object at 0x7eff69cf6a90>, 'model': <tensorflow.python.keras.engine.sequential.Sequential object at 0x7eff69c57be0>}, {'history': <tensorflow.python.keras.callbacks.History object at 0x7eff6920a1c0>, 'model': <tensorflow.python.keras.engine.sequential.Sequential object at 0x7eff69c78d90>}]\n",
      "4\n"
     ]
    }
   ],
   "source": [
    "obj = fn.kfold_validation(\n",
    "     k=4,\n",
    "     num_epochs=500,\n",
    "     train_data=btrain_data,\n",
    "     train_targets=btrain_targets,\n",
    "     build_fn=build_model,\n",
    "     validation=True\n",
    " )\n",
    "print(obj)\n",
    "print(len(obj))\n"
   ],
   "metadata": {
    "collapsed": false,
    "pycharm": {
     "name": "#%%\n"
    }
   }
  },
  {
   "cell_type": "code",
   "execution_count": 36,
   "outputs": [
    {
     "name": "stdout",
     "output_type": "stream",
     "text": [
      "[[4.293904781341553, 3.5620412826538086, 2.825232744216919, 2.5087950229644775, 2.568340301513672, 2.390486478805542, 2.656550407409668, 2.228912830352783, 2.206637144088745, 2.5727033615112305, 2.364309549331665, 2.331333637237549, 2.1959357261657715, 2.097020387649536, 2.050922393798828, 2.0931668281555176, 2.0709195137023926, 1.998624324798584, 2.107146978378296, 2.208810567855835, 1.9581243991851807, 2.270348310470581, 2.1862332820892334, 2.1487784385681152, 2.054692268371582, 2.063251495361328, 2.0386321544647217, 2.01470947265625, 2.0197865962982178, 2.0136568546295166, 2.1009089946746826, 2.004210948944092, 1.9723371267318726, 2.377991199493408, 1.9068931341171265, 2.087489366531372, 2.2265429496765137, 2.124685764312744, 2.170149803161621, 2.041146993637085, 2.4320876598358154, 2.087857723236084, 1.9576711654663086, 1.9305156469345093, 1.820319414138794, 2.11519455909729, 1.9313533306121826, 2.108499050140381, 1.859194278717041, 1.9002504348754883, 2.001121759414673, 2.002794027328491, 1.9558982849121094, 2.1509673595428467, 2.031090021133423, 1.8881068229675293, 2.047992467880249, 1.902204155921936, 2.0617096424102783, 1.9271187782287598, 2.1637415885925293, 1.9590308666229248, 2.2134132385253906, 1.9018888473510742, 1.752564549446106, 2.198213577270508, 2.2425241470336914, 1.8028978109359741, 1.89223051071167, 2.2319204807281494, 2.178081512451172, 1.9613075256347656, 1.8320904970169067, 2.041090488433838, 1.9913113117218018, 1.928540825843811, 2.0853874683380127, 2.283400058746338, 1.8994935750961304, 2.1640782356262207, 1.995524525642395, 2.2186355590820312, 2.613008737564087, 2.3429338932037354, 2.319835662841797, 1.8661878108978271, 2.023097038269043, 1.9186125993728638, 2.235325574874878, 2.027463436126709, 2.0963387489318848, 1.9961224794387817, 1.9287678003311157, 2.271101951599121, 2.389345645904541, 2.090571403503418, 2.2368407249450684, 2.041066884994507, 1.9811615943908691, 1.972519874572754, 1.9985650777816772, 2.2158162593841553, 2.0584359169006348, 2.1177358627319336, 2.168515205383301, 2.053450584411621, 2.198599100112915, 2.1619927883148193, 2.078407049179077, 2.116304397583008, 2.219139814376831, 2.109001636505127, 2.1219868659973145, 2.11523699760437, 2.150216579437256, 2.0784313678741455, 2.010899305343628, 2.5999574661254883, 2.1950149536132812, 2.1570210456848145, 2.108534097671509, 2.2550408840179443, 2.1573832035064697, 2.2500476837158203, 2.2292299270629883, 2.237079381942749, 2.302661657333374, 2.152350664138794, 2.1813037395477295, 2.2420458793640137, 2.0994927883148193, 2.261245012283325, 2.255911111831665, 2.0204429626464844, 2.096799612045288, 2.2317569255828857, 2.137495517730713, 2.1861517429351807, 2.206568717956543, 2.057677984237671, 2.081099033355713, 2.013333797454834, 2.106062889099121, 2.1056244373321533, 2.214414596557617, 2.1209323406219482, 2.555978298187256, 2.2415108680725098, 2.286850690841675, 2.083022117614746, 2.2494847774505615, 2.1545486450195312, 2.1906898021698, 2.018848419189453, 2.103891134262085, 2.1647088527679443, 2.321892023086548, 2.3303489685058594, 2.2834479808807373, 2.1857337951660156, 2.137347936630249, 2.2515342235565186, 2.0538642406463623, 2.094477653503418, 2.0546634197235107, 2.2066028118133545, 2.259329080581665, 2.169511556625366, 2.2593376636505127, 2.174346446990967, 2.2742831707000732, 2.0645952224731445, 2.2727742195129395, 2.0494303703308105, 2.1487224102020264, 2.1990468502044678, 2.219252109527588, 2.301722764968872, 2.2361600399017334, 2.25008225440979, 2.395023822784424, 2.1519529819488525, 2.121793031692505, 2.335069417953491, 2.1442952156066895, 2.2533164024353027, 2.237330436706543, 2.3428850173950195, 2.18564772605896, 2.235550880432129, 2.2754664421081543, 2.237537145614624, 2.1299469470977783, 2.266935348510742, 2.1666436195373535, 2.207852602005005, 2.179746150970459, 2.3272972106933594, 2.220062494277954, 2.3660049438476562, 2.357494354248047, 2.1374423503875732, 2.2761754989624023, 2.0788190364837646, 2.2294435501098633, 2.207350254058838, 2.2903740406036377, 2.176931381225586, 2.2048275470733643, 2.2594141960144043, 2.154433012008667, 2.188551902770996, 2.2230448722839355, 2.2143006324768066, 2.249478340148926, 2.201491355895996, 2.300920248031616, 2.266535520553589, 2.19907283782959, 2.375136375427246, 2.3157706260681152, 2.2556138038635254, 2.3863577842712402, 2.313206195831299, 2.4891347885131836, 2.260183572769165, 2.3401007652282715, 2.2046444416046143, 2.636176586151123, 2.2974789142608643, 2.288808584213257, 2.2262704372406006, 2.1618027687072754, 2.369178295135498, 2.196201801300049, 2.4602596759796143, 2.244666576385498, 2.4222612380981445, 2.6007087230682373, 2.202528476715088, 2.331871509552002, 2.2900242805480957, 2.4469449520111084, 2.502120018005371, 2.3201828002929688, 2.2637674808502197, 2.2882206439971924, 2.478471040725708, 2.347015380859375, 2.273472309112549, 2.35509991645813, 2.3746511936187744, 2.3086276054382324, 2.4516029357910156, 2.4546256065368652, 2.3668200969696045, 2.356684684753418, 2.3915181159973145, 2.431743860244751, 2.589876413345337, 2.4049696922302246, 2.4362406730651855, 2.339299201965332, 2.468289613723755, 2.3579978942871094, 2.3749351501464844, 2.31154465675354, 2.592189073562622, 2.4151771068573, 2.4874162673950195, 2.3751747608184814, 2.406545877456665, 2.497124195098877, 2.413527488708496, 2.228588819503784, 2.4348843097686768, 2.5020084381103516, 2.5113143920898438, 2.4564146995544434, 2.476229190826416, 2.4447128772735596, 2.4714362621307373, 2.4396162033081055, 2.309319257736206, 2.56494140625, 2.593881130218506, 2.4098167419433594, 2.5030176639556885, 2.4621875286102295, 2.30869722366333, 2.513291120529175, 2.3126885890960693, 2.6139414310455322, 2.4152708053588867, 2.3371148109436035, 2.5320160388946533, 2.4751460552215576, 2.3659398555755615, 2.4884703159332275, 2.521245241165161, 2.4143447875976562, 2.703134298324585, 2.7755186557769775, 2.555314540863037, 2.5537924766540527, 2.500849962234497, 2.61489200592041, 2.3956785202026367, 2.460625410079956, 2.413620710372925, 2.5231575965881348, 2.4822580814361572, 2.246453285217285, 2.4016075134277344, 2.723586320877075, 2.393352508544922, 2.3550238609313965, 2.396456003189087, 2.349440336227417, 2.4069905281066895, 2.4265711307525635, 2.4812021255493164, 2.400050640106201, 2.409090280532837, 2.591792583465576, 2.6417160034179688, 2.541065216064453, 2.5886478424072266, 2.432481288909912, 2.585218667984009, 2.4089670181274414, 2.3773374557495117, 2.5441322326660156, 2.6387083530426025, 2.5127623081207275, 2.5021467208862305, 2.3766274452209473, 2.5079076290130615, 2.6293842792510986, 2.612316131591797, 2.501511573791504, 2.5603413581848145, 2.6866700649261475, 2.445361852645874, 2.5613198280334473, 2.5070102214813232, 2.6055595874786377, 2.502396583557129, 2.462310552597046, 2.4809391498565674, 2.4210562705993652, 2.443566083908081, 2.46981143951416, 2.583463430404663, 2.535485029220581, 2.6373019218444824, 2.519507884979248, 2.7481117248535156, 2.496436595916748, 2.5562493801116943, 2.585761308670044, 2.6898298263549805, 2.492692470550537, 2.584611415863037, 2.5561747550964355, 2.600907325744629, 2.582321882247925, 2.6668496131896973, 2.511810064315796, 2.822460889816284, 2.6148521900177, 2.6710169315338135, 2.504340648651123, 2.5047621726989746, 2.597730875015259, 2.3510167598724365, 2.566784620285034, 2.612138509750366, 2.5680131912231445, 2.5173206329345703, 2.548502206802368, 2.6731743812561035, 2.6173887252807617, 2.9215750694274902, 2.706312417984009, 2.5799074172973633, 2.507070779800415, 2.596872568130493, 2.588686466217041, 2.6457509994506836, 2.6732704639434814, 2.581989288330078, 2.5336036682128906, 2.5666518211364746, 2.557687997817993, 2.540283203125, 2.6246044635772705, 2.5207526683807373, 2.607633352279663, 2.479891061782837, 2.578383445739746, 2.6596455574035645, 2.569916009902954, 2.645590305328369, 2.7054738998413086, 2.5006723403930664, 2.489880323410034, 2.67706298828125, 2.5033652782440186, 2.5694241523742676, 2.5546300411224365, 2.5536699295043945, 2.6254220008850098, 2.4697556495666504, 2.7013354301452637, 2.483802556991577, 2.847217559814453, 2.6526126861572266, 2.648557424545288, 2.4439661502838135, 2.6272175312042236, 2.6976683139801025, 2.5397682189941406, 2.6154725551605225, 2.6169626712799072, 2.629495859146118, 2.7084014415740967, 2.536853790283203, 2.5574331283569336, 2.5515666007995605, 2.6389825344085693, 2.5505192279815674, 2.5635509490966797, 2.6019763946533203, 2.58031964302063, 2.594893455505371, 2.6897923946380615, 2.59658145904541, 2.584346294403076, 2.51387095451355, 2.5237233638763428, 2.4546430110931396, 2.6192049980163574, 2.58191180229187, 2.525156259536743, 2.595954418182373, 2.6936352252960205, 2.662675619125366, 2.560584306716919, 2.567899465560913, 2.4655022621154785, 2.6510891914367676, 2.707226037979126, 2.534224033355713, 2.487421989440918, 2.560086965560913, 2.590765953063965, 2.5781984329223633, 2.6261281967163086, 2.67629075050354, 2.625248432159424, 2.5717105865478516, 2.54494571685791, 2.4747204780578613, 2.785083770751953, 2.548790693283081, 2.5334136486053467, 2.5254034996032715, 2.6807281970977783, 2.534886121749878, 2.600820779800415, 2.623704433441162, 2.589265823364258, 2.5666117668151855, 2.532787561416626, 2.474592924118042, 2.635544538497925, 2.3807761669158936, 2.442084312438965, 2.5744214057922363, 2.5016207695007324, 2.5565786361694336, 2.5594658851623535, 2.5719332695007324, 2.617321729660034, 2.4831490516662598, 2.729518175125122, 2.537386655807495, 2.603924036026001, 2.5253939628601074, 2.6226046085357666, 2.5787627696990967, 2.5751848220825195, 2.704907178878784, 2.565239429473877, 2.5415072441101074, 2.496609926223755, 2.604969024658203, 2.6552419662475586, 2.554276943206787], [4.355997085571289, 3.3689403533935547, 3.307624340057373, 2.891794443130493, 3.149721384048462, 2.979975938796997, 2.8430018424987793, 2.7773730754852295, 2.7122128009796143, 2.834653377532959, 2.6310348510742188, 2.7577810287475586, 2.656923294067383, 2.5530104637145996, 2.6242666244506836, 2.5293102264404297, 2.5691030025482178, 2.5031299591064453, 2.4757637977600098, 2.450953960418701, 2.6018664836883545, 2.6038358211517334, 2.541041612625122, 2.5535402297973633, 2.4630520343780518, 2.4985511302948, 2.4073874950408936, 2.4465954303741455, 2.809286594390869, 2.6412835121154785, 2.496891975402832, 2.8304672241210938, 2.3647959232330322, 2.466947317123413, 2.452542781829834, 2.3758745193481445, 2.7309088706970215, 3.037351608276367, 2.4803555011749268, 2.881532669067383, 2.929753065109253, 2.7851665019989014, 2.9331982135772705, 2.684755563735962, 2.6450870037078857, 2.7455344200134277, 2.5561916828155518, 2.3222925662994385, 2.232222080230713, 2.3383901119232178, 2.337944269180298, 2.653961181640625, 2.677330493927002, 2.3885765075683594, 2.5443272590637207, 2.4352807998657227, 2.826817512512207, 2.20320725440979, 2.53716778755188, 2.4132118225097656, 2.353689670562744, 2.3608999252319336, 2.466460704803467, 2.457115888595581, 2.5396039485931396, 2.7832024097442627, 2.3685977458953857, 2.312492847442627, 2.6547231674194336, 2.507444381713867, 2.350444793701172, 2.4515435695648193, 2.460106134414673, 2.3766722679138184, 2.3792731761932373, 2.3332712650299072, 2.3640499114990234, 2.4135854244232178, 2.4901185035705566, 2.318572759628296, 2.4512150287628174, 2.445948600769043, 2.220815420150757, 2.5142858028411865, 2.706869602203369, 2.4488685131073, 2.7490134239196777, 2.4832475185394287, 2.455014228820801, 2.53874135017395, 2.542794704437256, 2.2773518562316895, 2.4340980052948, 2.7053539752960205, 2.617149829864502, 2.608917474746704, 2.5672898292541504, 2.621906280517578, 2.5162532329559326, 2.6102373600006104, 2.6025760173797607, 2.6088926792144775, 2.6227786540985107, 2.557081699371338, 2.6108827590942383, 2.596792697906494, 2.6651113033294678, 2.2641208171844482, 2.4303805828094482, 2.660954475402832, 2.420076847076416, 2.7677383422851562, 2.6450469493865967, 2.765948534011841, 2.4431447982788086, 2.603090763092041, 2.505356550216675, 2.456376314163208, 2.735304355621338, 2.2637224197387695, 2.473003387451172, 2.4365413188934326, 2.7324414253234863, 2.5918655395507812, 2.55439829826355, 2.5150017738342285, 2.7107150554656982, 2.7358932495117188, 2.6237282752990723, 2.883192539215088, 2.659775733947754, 2.528963565826416, 2.614469051361084, 2.7328221797943115, 2.943488359451294, 2.569892406463623, 2.5862302780151367, 2.6122944355010986, 2.5798287391662598, 2.7661867141723633, 2.5532033443450928, 3.1001155376434326, 3.2270822525024414, 2.581411600112915, 2.980471134185791, 2.9740657806396484, 2.988450050354004, 2.562375545501709, 2.5435731410980225, 2.5806140899658203, 2.3870911598205566, 2.4997410774230957, 2.644214391708374, 2.7285821437835693, 2.7691752910614014, 2.915351390838623, 2.864675998687744, 2.8179261684417725, 2.7749011516571045, 3.0587542057037354, 2.6475863456726074, 2.664285182952881, 2.9613559246063232, 2.4958744049072266, 2.9838995933532715, 2.616675615310669, 2.7651965618133545, 2.718487024307251, 2.6821112632751465, 2.585550546646118, 2.8494150638580322, 2.6483154296875, 2.8954527378082275, 2.76269793510437, 2.6468687057495117, 2.9098904132843018, 2.7028892040252686, 2.7816052436828613, 2.651463270187378, 2.422603130340576, 2.772338628768921, 2.838310956954956, 2.9568428993225098, 3.0267462730407715, 2.9032669067382812, 2.985389232635498, 2.8922617435455322, 2.8407535552978516, 2.7395200729370117, 3.00580096244812, 2.6894478797912598, 2.666074514389038, 2.817203998565674, 2.6931450366973877, 2.696530818939209, 2.5828588008880615, 3.058744192123413, 2.739271640777588, 2.933245897293091, 2.784194231033325, 2.9544708728790283, 2.7824153900146484, 2.8227992057800293, 2.780724048614502, 2.8134543895721436, 3.198704481124878, 2.7615103721618652, 3.0169692039489746, 2.527430534362793, 2.7988638877868652, 3.0500385761260986, 2.7988100051879883, 2.917221784591675, 2.7769885063171387, 2.7376270294189453, 2.8918051719665527, 3.446155309677124, 2.821035146713257, 2.773331642150879, 2.799617290496826, 2.85589337348938, 2.845655679702759, 3.012953996658325, 2.8075311183929443, 3.0898470878601074, 2.91412091255188, 3.1461634635925293, 2.7490293979644775, 2.6756591796875, 2.947000026702881, 3.013751983642578, 2.9124019145965576, 2.8480939865112305, 2.8302061557769775, 3.0494892597198486, 2.828077793121338, 2.647084951400757, 3.040210723876953, 2.9116039276123047, 2.942735195159912, 2.7675318717956543, 2.969132900238037, 3.0245463848114014, 2.8875293731689453, 2.7595043182373047, 2.707587718963623, 2.7709081172943115, 3.169461727142334, 2.942516326904297, 2.997784376144409, 2.7639620304107666, 2.784557580947876, 2.8503365516662598, 3.028522491455078, 2.858886957168579, 3.0701904296875, 2.812769889831543, 2.9650933742523193, 2.625425100326538, 2.8038229942321777, 3.056781053543091, 2.7631232738494873, 2.860290288925171, 2.7467167377471924, 2.832758903503418, 2.7905805110931396, 2.8018720149993896, 2.8818306922912598, 2.9186410903930664, 2.9758007526397705, 2.909398078918457, 2.781810998916626, 2.8984861373901367, 2.731217861175537, 2.531550168991089, 2.9647648334503174, 2.666516065597534, 2.7194406986236572, 2.8092687129974365, 2.714514970779419, 3.0025441646575928, 2.9039885997772217, 2.879115343093872, 3.273273468017578, 3.114515781402588, 2.7286415100097656, 2.9509263038635254, 2.7357447147369385, 2.7722673416137695, 2.8607029914855957, 2.935556173324585, 2.9351162910461426, 3.0166175365448, 3.032226800918579, 2.7269251346588135, 2.755599021911621, 3.1070914268493652, 2.7344439029693604, 2.792609214782715, 3.1944820880889893, 3.069974660873413, 2.8064606189727783, 2.927229166030884, 2.9732301235198975, 3.0456936359405518, 2.8862719535827637, 3.028364419937134, 3.0891711711883545, 2.8488216400146484, 2.6109580993652344, 2.7336368560791016, 2.6726484298706055, 2.958897113800049, 2.6868069171905518, 2.945213794708252, 2.700291156768799, 2.670210361480713, 2.570726156234741, 2.906151294708252, 2.516753911972046, 2.985769510269165, 2.721391439437866, 2.718506097793579, 2.8268511295318604, 3.048060417175293, 3.306553602218628, 2.7028777599334717, 2.8187637329101562, 2.6239659786224365, 2.65730881690979, 2.65282940864563, 2.6766116619110107, 2.6558282375335693, 2.7821896076202393, 2.698636770248413, 2.7758660316467285, 2.7829411029815674, 2.8261752128601074, 2.685858964920044, 3.031919240951538, 2.7363924980163574, 2.5922980308532715, 2.86948561668396, 2.726360559463501, 2.7741541862487793, 2.898942708969116, 2.774495840072632, 2.718679666519165, 2.680881977081299, 2.6927366256713867, 2.826812982559204, 2.579251527786255, 2.9595346450805664, 3.2827067375183105, 2.862990379333496, 2.7411322593688965, 2.715888261795044, 2.984041452407837, 2.7691922187805176, 2.6532909870147705, 2.9374680519104004, 2.7552330493927, 2.9999465942382812, 2.751824378967285, 2.849375009536743, 2.7159245014190674, 2.625720977783203, 2.5746119022369385, 2.8686389923095703, 2.948925256729126, 3.164395809173584, 2.7271065711975098, 2.5818822383880615, 3.0382163524627686, 2.787792921066284, 3.0243821144104004, 2.6405563354492188, 2.807692527770996, 2.719805955886841, 2.5564658641815186, 2.854461908340454, 2.502089023590088, 2.67914080619812, 2.4350881576538086, 2.741666793823242, 2.78495717048645, 2.708655595779419, 2.8235223293304443, 2.5892140865325928, 2.890240430831909, 3.1236116886138916, 2.877779006958008, 2.7861080169677734, 2.784024715423584, 2.769198179244995, 2.64331316947937, 2.943338632583618, 2.6877601146698, 2.5864269733428955, 2.817660093307495, 2.864957094192505, 2.796414613723755, 3.059462547302246, 2.69697642326355, 2.631728172302246, 2.834421396255493, 2.8338937759399414, 2.7748422622680664, 2.872614860534668, 2.5191147327423096, 2.8077213764190674, 2.5601649284362793, 2.7399120330810547, 3.0428097248077393, 2.751832962036133, 2.6279103755950928, 2.8744797706604004, 2.8784453868865967, 2.6454877853393555, 2.6537041664123535, 2.720475673675537, 3.1911020278930664, 2.8790814876556396, 2.8651578426361084, 2.4583702087402344, 2.6696314811706543, 2.8289833068847656, 2.665738582611084, 2.8694424629211426, 2.689951181411743, 2.5081799030303955, 2.633035898208618, 2.77929425239563, 2.6732513904571533, 2.7689476013183594, 2.605119466781616, 2.670142650604248, 2.7581257820129395, 2.6538474559783936, 2.6241605281829834, 2.388911247253418, 2.658334255218506, 2.534919261932373, 2.6119303703308105, 2.856499195098877, 2.695040225982666, 2.7679648399353027, 2.7768466472625732, 2.735633373260498, 2.8231379985809326, 2.689577341079712, 2.7645342350006104, 3.0094854831695557, 2.63751482963562, 2.6681511402130127, 2.799684762954712, 2.6597423553466797, 2.696155309677124, 2.788116216659546, 2.636000633239746, 2.784903049468994, 2.852921485900879, 2.8507745265960693, 2.7401390075683594, 2.692234992980957, 2.6915640830993652, 2.7818751335144043, 2.5133934020996094, 2.6106808185577393, 2.471742868423462, 2.7298121452331543, 2.5895566940307617, 2.922746419906616, 2.815150260925293, 2.800899028778076, 2.8588707447052, 2.906613826751709, 2.6717522144317627, 2.899812936782837, 2.9225406646728516, 2.853541374206543, 2.7576427459716797, 2.716216802597046, 2.7908971309661865, 2.7906503677368164, 2.7928454875946045, 2.85909366607666, 2.6557605266571045, 2.799724817276001, 2.6388964653015137, 2.806011438369751, 2.7282798290252686, 2.652642250061035, 2.7473316192626953, 2.85905385017395, 2.704484462738037, 2.8000736236572266, 2.5782830715179443, 2.6047046184539795, 2.7375433444976807], [4.0082831382751465, 3.410975933074951, 2.918816566467285, 2.68100643157959, 2.6479759216308594, 2.729102373123169, 2.704991102218628, 2.822648763656616, 2.716567039489746, 2.723081111907959, 2.9048516750335693, 2.7206227779388428, 2.901207685470581, 2.759869337081909, 2.7829113006591797, 2.5536110401153564, 2.465445041656494, 2.6248726844787598, 2.8017473220825195, 2.6936638355255127, 2.6842334270477295, 2.5513861179351807, 2.50984525680542, 2.595351457595825, 2.4907965660095215, 2.6199281215667725, 2.5103752613067627, 2.6421239376068115, 2.4594523906707764, 2.302962303161621, 2.677185297012329, 2.5027434825897217, 2.5796453952789307, 2.4524285793304443, 2.4420440196990967, 2.772982358932495, 2.538999080657959, 2.483522415161133, 2.602262496948242, 2.612180709838867, 2.5524392127990723, 2.6602625846862793, 2.559309482574463, 2.659001111984253, 2.5159964561462402, 2.5773544311523438, 2.5105226039886475, 2.5690605640411377, 3.0286309719085693, 2.606207847595215, 2.495802879333496, 2.518831968307495, 2.6747326850891113, 2.6374340057373047, 2.639784336090088, 2.437635898590088, 2.806445837020874, 2.800905466079712, 2.7099978923797607, 2.6443278789520264, 2.5449302196502686, 2.6614367961883545, 2.691751718521118, 2.748539924621582, 2.7142748832702637, 2.699155569076538, 2.6527698040008545, 2.56021785736084, 2.606981039047241, 2.7881932258605957, 2.7330243587493896, 2.6224851608276367, 2.4734480381011963, 2.6429646015167236, 2.8383939266204834, 2.6885390281677246, 2.6581013202667236, 2.9615323543548584, 2.638573408126831, 2.8090598583221436, 2.703153610229492, 2.7901642322540283, 2.8221120834350586, 2.7446255683898926, 2.7416582107543945, 2.719965934753418, 2.6588168144226074, 2.632819414138794, 2.880056142807007, 2.7681756019592285, 2.9627530574798584, 2.777928113937378, 2.75388503074646, 2.6793832778930664, 3.0246264934539795, 2.731253147125244, 2.7316672801971436, 2.8274121284484863, 2.7829668521881104, 2.738389492034912, 2.860037088394165, 2.653461456298828, 2.9197089672088623, 2.6994292736053467, 2.6798317432403564, 2.846709966659546, 2.9299609661102295, 2.799204111099243, 2.850681781768799, 2.8961663246154785, 2.8934340476989746, 2.698969841003418, 2.7871222496032715, 2.8148958683013916, 2.9102866649627686, 2.9721271991729736, 2.8660686016082764, 2.8887205123901367, 2.9046027660369873, 2.858023166656494, 2.755591630935669, 2.781344175338745, 2.8686060905456543, 2.9167096614837646, 2.983386754989624, 3.063434600830078, 2.8879823684692383, 3.0115773677825928, 2.936941623687744, 2.9504120349884033, 2.8764119148254395, 2.7760159969329834, 2.9296748638153076, 2.7644271850585938, 2.8164865970611572, 2.7371861934661865, 2.9288747310638428, 2.9533848762512207, 2.7112505435943604, 3.0948665142059326, 3.0033974647521973, 2.7863879203796387, 2.8499257564544678, 3.005153179168701, 2.88871169090271, 2.697831153869629, 2.8428127765655518, 2.828162431716919, 2.921867847442627, 3.127207040786743, 3.146800994873047, 2.983166456222534, 2.9968605041503906, 2.8065128326416016, 2.934283494949341, 3.006037712097168, 3.086768388748169, 3.1281402111053467, 2.901737689971924, 2.9548327922821045, 3.157538890838623, 2.9602267742156982, 3.065858840942383, 2.8626697063446045, 3.1338119506835938, 2.91479754447937, 2.918689489364624, 3.1818530559539795, 3.276689291000366, 3.0943565368652344, 2.9279658794403076, 2.857172966003418, 3.116211175918579, 2.987577438354492, 3.3110756874084473, 3.1422877311706543, 2.9892828464508057, 2.8375675678253174, 2.8162028789520264, 3.3182170391082764, 3.0170629024505615, 2.9521710872650146, 3.0400612354278564, 3.023581027984619, 2.976616621017456, 2.9810144901275635, 2.946748971939087, 2.9331560134887695, 3.0886716842651367, 2.95928692817688, 2.9903571605682373, 2.8836307525634766, 2.9120142459869385, 2.839033365249634, 2.840289354324341, 3.1579349040985107, 2.907057762145996, 2.9223504066467285, 3.1730401515960693, 3.108860969543457, 3.031390905380249, 3.000852108001709, 2.9758405685424805, 3.0235862731933594, 2.9893598556518555, 2.8703269958496094, 3.0954551696777344, 2.897465705871582, 2.9426167011260986, 3.019526720046997, 2.9463601112365723, 2.8145201206207275, 2.9062390327453613, 2.8952243328094482, 2.8265345096588135, 2.869265079498291, 2.84090256690979, 3.03448486328125, 3.1102476119995117, 2.9976353645324707, 2.9283196926116943, 3.114377975463867, 2.9165148735046387, 2.976130485534668, 3.0340330600738525, 3.103445529937744, 3.0028040409088135, 3.1053266525268555, 2.9389519691467285, 3.1228339672088623, 2.9130148887634277, 2.835810899734497, 2.857145309448242, 2.9974617958068848, 3.019158363342285, 2.8323328495025635, 3.1287245750427246, 2.8373992443084717, 2.977543830871582, 3.238680124282837, 3.1319775581359863, 2.900907039642334, 3.2560760974884033, 2.9660651683807373, 3.0807645320892334, 2.9331438541412354, 3.015362501144409, 2.9263663291931152, 2.957097053527832, 2.965855598449707, 2.9799768924713135, 2.9039134979248047, 2.960803270339966, 2.8957316875457764, 2.9889698028564453, 2.9705631732940674, 2.8808810710906982, 2.974555492401123, 2.9021177291870117, 2.934757947921753, 2.925997018814087, 2.9213972091674805, 3.0881431102752686, 2.9946296215057373, 3.028590202331543, 2.9113941192626953, 2.980804681777954, 2.860187530517578, 2.8792665004730225, 2.7664623260498047, 2.900505542755127, 2.9469354152679443, 3.020411729812622, 2.857065439224243, 2.9215340614318848, 2.966477870941162, 2.928330898284912, 3.044938087463379, 2.9726452827453613, 2.7826054096221924, 2.8484714031219482, 2.8660342693328857, 2.9427735805511475, 2.959636926651001, 2.899380922317505, 3.0253055095672607, 2.8991544246673584, 2.9564175605773926, 3.0154709815979004, 3.0112147331237793, 2.9846506118774414, 3.1069750785827637, 2.997457981109619, 3.0003912448883057, 2.921215295791626, 2.862623691558838, 2.903000593185425, 3.104200839996338, 3.0842604637145996, 2.9610750675201416, 2.996257781982422, 2.932915210723877, 2.7118871212005615, 2.9451403617858887, 2.867297410964966, 2.917057752609253, 2.9071216583251953, 3.0329558849334717, 2.933856725692749, 3.0861616134643555, 2.942194938659668, 2.9870026111602783, 2.89571213722229, 2.979832172393799, 2.9783663749694824, 2.764292001724243, 2.792362928390503, 2.8749241828918457, 2.797572135925293, 3.147057294845581, 3.011502504348755, 2.903424024581909, 2.7700791358947754, 2.8916120529174805, 2.8810417652130127, 2.9995899200439453, 2.8834171295166016, 2.9871644973754883, 2.848163366317749, 2.850985050201416, 2.8170948028564453, 2.7109806537628174, 2.792271137237549, 2.820894479751587, 2.8749661445617676, 2.8643975257873535, 2.849984645843506, 2.7051546573638916, 2.6614954471588135, 2.867366313934326, 2.849661350250244, 2.828298807144165, 2.8366503715515137, 2.8891854286193848, 2.7446415424346924, 2.8124988079071045, 2.9044711589813232, 2.6891708374023438, 2.8233208656311035, 2.8297128677368164, 2.8698008060455322, 2.7732088565826416, 2.8358380794525146, 2.859762668609619, 2.854901075363159, 2.7783596515655518, 2.8912463188171387, 2.8117661476135254, 2.6763317584991455, 2.714279890060425, 2.762103319168091, 2.726290464401245, 2.7151801586151123, 2.7675697803497314, 2.7311220169067383, 2.8699398040771484, 2.760396718978882, 2.8579905033111572, 2.8215882778167725, 2.6948037147521973, 2.8105504512786865, 2.816415309906006, 2.849053382873535, 2.833657741546631, 2.7439639568328857, 2.7576160430908203, 2.6868908405303955, 2.823944330215454, 2.7712299823760986, 2.758817434310913, 2.7194619178771973, 2.906261444091797, 2.726823568344116, 3.0027427673339844, 2.922694444656372, 2.823310375213623, 2.968726634979248, 2.775580406188965, 2.813321590423584, 2.7646687030792236, 2.7909531593322754, 2.73783802986145, 2.7169575691223145, 2.857236385345459, 2.737276554107666, 2.7743234634399414, 2.780413866043091, 2.9000279903411865, 2.7653019428253174, 2.727567195892334, 2.7829413414001465, 2.9430956840515137, 2.780383348464966, 2.798224449157715, 2.8637747764587402, 2.9012646675109863, 2.815052032470703, 2.8508799076080322, 2.8319995403289795, 2.6192166805267334, 2.806950092315674, 2.8630712032318115, 2.7505977153778076, 2.7217960357666016, 2.809424638748169, 2.716015100479126, 2.7349421977996826, 2.784782886505127, 2.7494125366210938, 2.6316518783569336, 2.7985877990722656, 2.851710557937622, 2.745858907699585, 2.641430139541626, 2.6834604740142822, 2.7661526203155518, 2.786928176879883, 2.962655544281006, 2.8471875190734863, 2.7580859661102295, 2.7445709705352783, 2.846392869949341, 2.98576283454895, 2.9915318489074707, 2.7847414016723633, 2.7594752311706543, 2.7709686756134033, 2.826319932937622, 2.8004140853881836, 2.8355252742767334, 2.8057167530059814, 3.070408821105957, 2.7487599849700928, 2.848814010620117, 2.780902624130249, 2.635188579559326, 2.814218282699585, 2.9512102603912354, 2.9721646308898926, 2.863384485244751, 2.8093433380126953, 2.7316529750823975, 2.648869037628174, 2.7231297492980957, 2.8081836700439453, 2.7327418327331543, 2.7734179496765137, 2.8227334022521973, 2.7281723022460938, 2.7303457260131836, 2.8221640586853027, 2.793503522872925, 2.7565507888793945, 2.8185019493103027, 2.8199803829193115, 2.723405599594116, 2.730053663253784, 2.6310830116271973, 2.7364425659179688, 2.753220319747925, 2.6926608085632324, 2.6978986263275146, 2.712134599685669, 2.7400412559509277, 2.726442337036133, 2.7773184776306152, 2.850768804550171, 2.7646191120147705, 2.8444268703460693, 2.7376325130462646, 2.6796791553497314, 2.7840099334716797, 2.78777813911438, 2.8606998920440674, 2.8548378944396973, 2.7760469913482666, 2.6915621757507324, 2.7833919525146484, 2.781954526901245, 2.7767043113708496, 2.6282336711883545, 2.7581844329833984, 2.7704596519470215, 2.747236490249634, 2.8358800411224365, 2.864436388015747, 2.705981492996216, 2.767780065536499, 2.9050700664520264, 2.865443468093872], [5.119076728820801, 3.517827033996582, 3.159864664077759, 3.112398862838745, 3.111053705215454, 2.9032435417175293, 3.036520481109619, 2.928170919418335, 2.6651782989501953, 2.800429582595825, 2.794126033782959, 2.9481990337371826, 2.4844717979431152, 2.612645149230957, 2.599674701690674, 2.8537518978118896, 2.8321847915649414, 2.592863082885742, 2.4138970375061035, 2.655531406402588, 2.4174461364746094, 2.719815731048584, 2.5118472576141357, 2.495784282684326, 2.437065601348877, 2.4442193508148193, 2.296139717102051, 2.2928805351257324, 2.268075704574585, 2.2465054988861084, 2.4940686225891113, 2.6165363788604736, 2.5400924682617188, 2.451852321624756, 2.223933696746826, 2.4057958126068115, 2.4285547733306885, 2.4541499614715576, 2.2652359008789062, 2.3208060264587402, 2.5925397872924805, 2.1207170486450195, 2.4459686279296875, 2.6978232860565186, 2.277135133743286, 2.3561410903930664, 2.3746767044067383, 2.3726236820220947, 2.395665168762207, 2.362762689590454, 2.470310688018799, 2.3836543560028076, 2.2185232639312744, 2.179527759552002, 2.250947952270508, 2.1563358306884766, 2.2419686317443848, 2.4082701206207275, 2.2960078716278076, 2.3481974601745605, 2.608966112136841, 2.2285804748535156, 2.2773468494415283, 2.263080596923828, 2.157245635986328, 2.314786195755005, 2.282987594604492, 2.1307320594787598, 2.213779926300049, 2.2365217208862305, 2.4374618530273438, 2.2175588607788086, 2.2704548835754395, 2.08223032951355, 2.208620548248291, 2.353343963623047, 2.4125657081604004, 2.1144659519195557, 2.135955572128296, 2.265265941619873, 2.289066791534424, 2.1039927005767822, 2.4155542850494385, 2.463444471359253, 2.178617477416992, 2.3077096939086914, 2.256580114364624, 2.163712739944458, 2.2709929943084717, 2.1703011989593506, 2.1371266841888428, 2.1565895080566406, 2.1541526317596436, 2.111762285232544, 2.299769878387451, 2.1976571083068848, 2.21112322807312, 2.1807806491851807, 2.1773977279663086, 2.3231165409088135, 2.2893118858337402, 2.3186888694763184, 2.3633878231048584, 2.2653517723083496, 2.120556592941284, 2.181292772293091, 2.2449026107788086, 2.274523973464966, 2.3944995403289795, 2.2294247150421143, 2.122328281402588, 2.240034580230713, 2.2372052669525146, 2.1442670822143555, 2.2425599098205566, 2.4493584632873535, 2.2184531688690186, 2.128617763519287, 2.206122636795044, 2.3328566551208496, 2.2883167266845703, 2.1936817169189453, 2.0555295944213867, 2.0827395915985107, 2.0843939781188965, 2.2797532081604004, 2.131913661956787, 2.167024612426758, 2.14778733253479, 2.3301985263824463, 1.9964826107025146, 2.2682762145996094, 2.287574052810669, 2.1672325134277344, 2.4099388122558594, 2.2161688804626465, 2.158018112182617, 2.1812479496002197, 2.1183884143829346, 2.251102924346924, 2.188976526260376, 2.199228525161743, 2.0510201454162598, 2.3450913429260254, 2.1537275314331055, 2.009596824645996, 2.1891074180603027, 2.082796812057495, 2.084233283996582, 2.159613847732544, 2.2679131031036377, 2.1680400371551514, 2.2562150955200195, 2.147012710571289, 2.1670291423797607, 2.103868007659912, 2.2773587703704834, 2.170208692550659, 2.1952342987060547, 2.2712996006011963, 2.6184208393096924, 2.684326410293579, 2.0620646476745605, 2.3040642738342285, 2.3559629917144775, 2.252700090408325, 2.5173046588897705, 2.2369682788848877, 2.238337516784668, 2.2309272289276123, 2.229506731033325, 2.2975471019744873, 2.321295976638794, 2.5199763774871826, 2.8431479930877686, 2.2863852977752686, 2.2811129093170166, 2.2887210845947266, 2.7197649478912354, 2.1128456592559814, 2.2515766620635986, 2.1920385360717773, 2.142019271850586, 2.7063677310943604, 2.1445038318634033, 2.395035743713379, 2.238048791885376, 2.316535711288452, 2.2032430171966553, 2.1363816261291504, 2.449955701828003, 2.239320993423462, 2.2670745849609375, 2.2661478519439697, 2.292468309402466, 2.526000738143921, 2.2159392833709717, 2.3016812801361084, 2.315338134765625, 2.5416109561920166, 2.2365756034851074, 2.191197156906128, 2.238865852355957, 2.3193414211273193, 2.6133904457092285, 2.2114408016204834, 2.286465883255005, 2.2171502113342285, 2.118358850479126, 2.239954710006714, 2.2129366397857666, 2.351191520690918, 2.329753875732422, 2.241560459136963, 2.487097978591919, 2.585148334503174, 2.192086696624756, 2.6078827381134033, 2.3077075481414795, 2.2567672729492188, 2.269601583480835, 2.5571470260620117, 2.3942089080810547, 2.3694586753845215, 2.2780680656433105, 2.3262524604797363, 2.540548086166382, 2.3096554279327393, 2.3054378032684326, 2.2648305892944336, 2.342651844024658, 2.2955985069274902, 2.213895559310913, 2.3702216148376465, 2.386084794998169, 2.499774932861328, 2.2766008377075195, 2.147289514541626, 2.275784969329834, 2.351923942565918, 2.308403968811035, 2.621417760848999, 2.393953561782837, 2.304022789001465, 2.310397148132324, 2.2131292819976807, 2.75541090965271, 2.3379743099212646, 2.443726062774658, 2.417433500289917, 2.480628490447998, 2.563385248184204, 2.3518548011779785, 2.2472455501556396, 2.4790008068084717, 2.412458896636963, 2.3370306491851807, 2.3886752128601074, 2.4106414318084717, 2.2554571628570557, 2.310706615447998, 2.310882806777954, 2.6146352291107178, 2.427668809890747, 2.701556444168091, 2.361844062805176, 2.4245004653930664, 2.4423773288726807, 2.533975124359131, 2.4006803035736084, 2.4891629219055176, 2.8075947761535645, 2.3667995929718018, 2.4633090496063232, 2.5873589515686035, 2.6779656410217285, 2.276515483856201, 2.5064215660095215, 2.4149012565612793, 2.294194221496582, 2.330824851989746, 2.2920665740966797, 2.4303882122039795, 2.6782069206237793, 2.3547825813293457, 2.5316250324249268, 2.4338605403900146, 2.424492359161377, 2.4467098712921143, 2.4750499725341797, 2.5048980712890625, 2.416187286376953, 2.3179996013641357, 2.307795286178589, 2.400273561477661, 2.466902256011963, 2.5914814472198486, 2.3491573333740234, 2.385862112045288, 2.52992582321167, 2.3855881690979004, 2.4795241355895996, 2.6973378658294678, 2.5293045043945312, 2.3487930297851562, 2.5086541175842285, 2.4244930744171143, 2.562828779220581, 2.477092981338501, 2.4775257110595703, 2.4665746688842773, 2.4756546020507812, 2.3300743103027344, 2.5692100524902344, 2.361358880996704, 2.5067906379699707, 2.551391363143921, 2.3596744537353516, 2.4496772289276123, 2.4334423542022705, 2.6000401973724365, 2.289522647857666, 2.385953187942505, 2.6505446434020996, 2.392210006713867, 2.5069334506988525, 2.5402698516845703, 2.3454296588897705, 2.5837173461914062, 2.547830820083618, 2.699033260345459, 2.355557441711426, 2.7798843383789062, 2.4753289222717285, 2.4977216720581055, 2.581104278564453, 2.665172576904297, 2.582632541656494, 2.3847708702087402, 2.5099987983703613, 2.5009443759918213, 2.48888897895813, 2.769167423248291, 2.3905959129333496, 2.5972235202789307, 2.6303813457489014, 2.625472068786621, 2.4820220470428467, 2.547128915786743, 2.477569818496704, 2.496378183364868, 2.3780713081359863, 2.6785154342651367, 2.683624029159546, 2.5371813774108887, 2.614243268966675, 2.634039878845215, 2.704822540283203, 2.660625457763672, 2.619974374771118, 2.5673422813415527, 2.543957471847534, 2.6527981758117676, 2.6950008869171143, 2.5747570991516113, 2.5319628715515137, 2.860501766204834, 2.7628090381622314, 2.5362279415130615, 2.7462236881256104, 3.094399929046631, 2.514930248260498, 2.5538699626922607, 2.5681378841400146, 2.7404751777648926, 2.520420551300049, 2.617671251296997, 2.6553220748901367, 2.5585334300994873, 2.549602746963501, 2.4805426597595215, 2.530559778213501, 2.7898776531219482, 2.49060320854187, 2.5587406158447266, 2.5078957080841064, 2.7259678840637207, 2.5701394081115723, 2.7192018032073975, 2.5737757682800293, 2.630586862564087, 2.5107672214508057, 2.531787395477295, 2.723950147628784, 2.7186312675476074, 2.563612222671509, 2.629926919937134, 2.6436855792999268, 2.5143158435821533, 2.949491262435913, 2.915010690689087, 2.5807456970214844, 2.7331817150115967, 2.688079833984375, 2.622190237045288, 2.613657236099243, 2.5542004108428955, 2.7343413829803467, 2.613861083984375, 2.6072261333465576, 2.631561517715454, 2.5220627784729004, 2.637338876724243, 2.8951528072357178, 2.6223793029785156, 2.610088586807251, 2.655696153640747, 2.6504244804382324, 2.6986806392669678, 2.7929039001464844, 2.557253122329712, 2.7264153957366943, 2.804457664489746, 2.610663890838623, 2.815098762512207, 2.6699516773223877, 2.8387036323547363, 2.6491472721099854, 2.5864484310150146, 2.6794791221618652, 2.5230350494384766, 2.9522106647491455, 2.6173365116119385, 2.549037218093872, 2.402101516723633, 2.7298195362091064, 2.7744572162628174, 2.7110490798950195, 2.7633137702941895, 2.7564563751220703, 2.7060039043426514, 2.513678789138794, 2.7332584857940674, 2.6270992755889893, 2.709728956222534, 3.0670571327209473, 2.850008249282837, 2.738811731338501, 2.7616398334503174, 2.7285256385803223, 2.6936452388763428, 2.814948081970215, 2.5323448181152344, 2.630683422088623, 2.6277146339416504, 2.5995147228240967, 2.6799724102020264, 2.8927714824676514, 2.7639315128326416, 2.7738187313079834, 2.6183671951293945, 2.6974735260009766, 2.6437318325042725, 3.1083872318267822, 2.5902438163757324, 2.4473254680633545, 2.6957011222839355, 2.567631483078003, 2.5278801918029785, 2.788604497909546, 2.4743568897247314, 2.623563528060913, 2.823575258255005, 2.673790693283081, 2.787597417831421, 2.5386085510253906, 2.4930615425109863, 2.5702924728393555, 2.568647861480713, 2.537952423095703, 2.530470371246338, 2.611574172973633, 2.899404287338257, 2.525028705596924, 2.554062843322754, 2.5542752742767334, 2.5216948986053467, 2.6447246074676514, 2.7495040893554688, 2.757882595062256, 2.5775530338287354, 2.600029945373535, 2.5739617347717285, 2.525400400161743, 2.569199323654175, 2.5717527866363525, 2.6507046222686768, 2.57255482673645, 2.592930555343628, 2.674656867980957]]\n",
      "[4.444315433502197, 3.464946150779724, 3.052884578704834, 2.7984986901283264, 2.869272828102112, 2.7507020831108093, 2.8102659583091736, 2.689276397228241, 2.575148820877075, 2.7327168583869934, 2.673580527305603, 2.689484119415283, 2.5596346259117126, 2.5056363344192505, 2.5144437551498413, 2.5074599981307983, 2.4844130873680115, 2.429872512817383, 2.449638783931732, 2.502239942550659, 2.4154176115989685, 2.5363464951515198, 2.437241852283478, 2.4483636021614075, 2.361401617527008, 2.40648752450943, 2.313133656978607, 2.349077343940735, 2.389150321483612, 2.301102042198181, 2.4422637224197388, 2.488489508628845, 2.3642177283763885, 2.4373048543930054, 2.256353408098221, 2.410535514354706, 2.4812514185905457, 2.5249274373054504, 2.379500925540924, 2.463916599750519, 2.6267049312591553, 2.413500964641571, 2.4740368723869324, 2.4930239021778107, 2.3146345019340515, 2.448556125164032, 2.34318608045578, 2.343118965625763, 2.3789281249046326, 2.3019027709960938, 2.3262948989868164, 2.3898103833198547, 2.3816211819648743, 2.339126408100128, 2.366537392139435, 2.229339838027954, 2.4808061122894287, 2.3286467492580414, 2.4012207984924316, 2.333213984966278, 2.4178318977355957, 2.302487015724182, 2.412243127822876, 2.3426563143730164, 2.2909222543239594, 2.4988394379615784, 2.386719822883606, 2.20158514380455, 2.3419286608695984, 2.4410199522972107, 2.4247531294822693, 2.3132237792015076, 2.259024888277054, 2.2857394218444824, 2.3543997406959534, 2.3259237706661224, 2.38002610206604, 2.4432459473609924, 2.2910352647304535, 2.3892441987991333, 2.359739989042282, 2.389685273170471, 2.517872631549835, 2.516322433948517, 2.486745238304138, 2.335682988166809, 2.421876847743988, 2.299598067998886, 2.4603472352027893, 2.3761703968048096, 2.4347532987594604, 2.3019979894161224, 2.3177258670330048, 2.441900372505188, 2.5827229619026184, 2.4070997834205627, 2.4367302656173706, 2.417791485786438, 2.364444851875305, 2.4110658168792725, 2.437622517347336, 2.449214816093445, 2.4910778403282166, 2.409899652004242, 2.394946575164795, 2.419561505317688, 2.5096434950828552, 2.374960422515869, 2.438492238521576, 2.475712478160858, 2.4137447476387024, 2.4539361000061035, 2.4478403329849243, 2.4600871205329895, 2.4365519881248474, 2.5257519483566284, 2.4001944065093994, 2.51841801404953, 2.5102611780166626, 2.402905821800232, 2.40636146068573, 2.416652023792267, 2.4534900784492493, 2.4603406190872192, 2.4628522396087646, 2.523817241191864, 2.5083181858062744, 2.516711473464966, 2.472440242767334, 2.601462244987488, 2.408040761947632, 2.4586251974105835, 2.5219072699546814, 2.421231210231781, 2.5666783452033997, 2.4387511014938354, 2.4526546597480774, 2.48326975107193, 2.4040091037750244, 2.5424585342407227, 2.4566690921783447, 2.524766445159912, 2.5585227608680725, 2.5093201398849487, 2.559331238269806, 2.4506065249443054, 2.6440871357917786, 2.428711414337158, 2.4591312408447266, 2.4876142740249634, 2.5128225088119507, 2.451374053955078, 2.521994948387146, 2.4252390265464783, 2.493594765663147, 2.547491490840912, 2.637673795223236, 2.6116560101509094, 2.538830280303955, 2.617655098438263, 2.640223503112793, 2.640093147754669, 2.5357859134674072, 2.4392715096473694, 2.6320844888687134, 2.4976940155029297, 2.6151299476623535, 2.576704978942871, 2.6141189336776733, 2.521295189857483, 2.5702927112579346, 2.4669076800346375, 2.651433527469635, 2.579920530319214, 2.7374536991119385, 2.634402573108673, 2.5481342673301697, 2.5524041652679443, 2.6058977842330933, 2.525937020778656, 2.609000504016876, 2.53361839056015, 2.5651791095733643, 2.7729411125183105, 2.5421706438064575, 2.653688967227936, 2.5785974860191345, 2.608332574367523, 2.554270625114441, 2.58425509929657, 2.6013067960739136, 2.50664085149765, 2.531559944152832, 2.5163154006004333, 2.4989830255508423, 2.6186617612838745, 2.59037184715271, 2.572650134563446, 2.660421669483185, 2.7001677751541138, 2.644982933998108, 2.5279767513275146, 2.5784202814102173, 2.5506176948547363, 2.6614120602607727, 2.621955633163452, 2.6084513664245605, 2.5771291255950928, 2.4483084082603455, 2.579439878463745, 2.590942084789276, 2.5382683873176575, 2.5940648913383484, 2.532018482685089, 2.575184464454651, 2.6369274854660034, 2.6950162053108215, 2.6824845671653748, 2.597589910030365, 2.6072890758514404, 2.592396318912506, 2.6931986212730408, 2.6775088906288147, 2.616581618785858, 2.7227707505226135, 2.6510006189346313, 2.757404088973999, 2.5921639800071716, 2.639056384563446, 2.6580358743667603, 2.6395568251609802, 2.5675204396247864, 2.5202344059944153, 2.6417669653892517, 2.662733554840088, 2.655111312866211, 2.5742692351341248, 2.611790180206299, 2.6914103627204895, 2.6839669346809387, 2.6349462270736694, 2.6953704953193665, 2.7803802490234375, 2.6649343371391296, 2.6177121996879578, 2.5294070839881897, 2.7074755430221558, 2.7280683517456055, 2.6725887060165405, 2.6636364459991455, 2.644916832447052, 2.656626880168915, 2.617905557155609, 2.6557756662368774, 2.6953707933425903, 2.7050081491470337, 2.59684157371521, 2.679960548877716, 2.592482030391693, 2.645978629589081, 2.67461359500885, 2.607910990715027, 2.7255919575691223, 2.659326195716858, 2.7302258610725403, 2.609688460826874, 2.6296804547309875, 2.694146156311035, 2.68676495552063, 2.657589912414551, 2.6685603260993958, 2.7357217669487, 2.6957054138183594, 2.61627995967865, 2.5672580003738403, 2.761023163795471, 2.5933427214622498, 2.6955286860466003, 2.66330748796463, 2.5668859481811523, 2.6566383242607117, 2.633381426334381, 2.672973334789276, 2.805109143257141, 2.7334051728248596, 2.7198632955551147, 2.6734395027160645, 2.654918074607849, 2.6741589307785034, 2.663916230201721, 2.734598994255066, 2.692741811275482, 2.7365041375160217, 2.68892103433609, 2.596382200717926, 2.654285252094269, 2.769179880619049, 2.638435482978821, 2.6878005266189575, 2.8016820549964905, 2.716541349887848, 2.73050856590271, 2.7779932022094727, 2.7507473826408386, 2.7038941383361816, 2.7032084465026855, 2.7437177896499634, 2.770158588886261, 2.6800991892814636, 2.6470665335655212, 2.6663910150527954, 2.6543909311294556, 2.6077842116355896, 2.65936416387558, 2.7521313428878784, 2.5911815762519836, 2.5922471284866333, 2.5504451990127563, 2.6257102489471436, 2.6260610222816467, 2.75597083568573, 2.5988850593566895, 2.568647265434265, 2.6945245265960693, 2.7282761931419373, 2.8636982440948486, 2.666907489299774, 2.6850014328956604, 2.622081995010376, 2.6603358387947083, 2.644481122493744, 2.5301218032836914, 2.69302898645401, 2.6792803406715393, 2.6460217237472534, 2.6808786392211914, 2.6686814427375793, 2.6554675102233887, 2.590377390384674, 2.7554001212120056, 2.6471274495124817, 2.617456793785095, 2.790493369102478, 2.6128759384155273, 2.6693347692489624, 2.7122082710266113, 2.7274996638298035, 2.598067283630371, 2.628410577774048, 2.6202396154403687, 2.6535120606422424, 2.543524444103241, 2.7359248995780945, 2.8523892164230347, 2.6976394653320312, 2.6927592754364014, 2.6901705861091614, 2.8121854662895203, 2.6506465077400208, 2.635948657989502, 2.713168740272522, 2.678827702999115, 2.7151543498039246, 2.699751615524292, 2.677857220172882, 2.6796836256980896, 2.707235336303711, 2.715565264225006, 2.6845663189888, 2.8031033873558044, 2.9210495948791504, 2.682367265224457, 2.622286558151245, 2.736193537712097, 2.7174907326698303, 2.6633588671684265, 2.6279757618904114, 2.7247743606567383, 2.654395639896393, 2.5955516695976257, 2.6507421731948853, 2.6530211567878723, 2.7033076882362366, 2.7125023007392883, 2.7323535680770874, 2.6740176677703857, 2.7276052236557007, 2.6915286779403687, 2.677605986595154, 2.7186089754104614, 2.804605543613434, 2.6770933866500854, 2.6421141624450684, 2.7329657673835754, 2.6956984996795654, 2.630383014678955, 2.7445709705352783, 2.6880565881729126, 2.6184195280075073, 2.7436524033546448, 2.785323143005371, 2.7449753880500793, 2.7857359051704407, 2.707217752933502, 2.7057917714118958, 2.7125039100646973, 2.6732566356658936, 2.759281635284424, 2.7054601907730103, 2.578745424747467, 2.700215756893158, 2.6247422099113464, 2.688317656517029, 2.7823785543441772, 2.7212430834770203, 2.6094541549682617, 2.778083920478821, 2.7415663599967957, 2.6855345964431763, 2.6305565237998962, 2.6758835315704346, 2.8667240738868713, 2.742291569709778, 2.68318110704422, 2.6434730291366577, 2.683807909488678, 2.7907541394233704, 2.7035987973213196, 2.7151278853416443, 2.6697707176208496, 2.60369211435318, 2.745539665222168, 2.7364861369132996, 2.703949213027954, 2.6340275406837463, 2.672326922416687, 2.7263402342796326, 2.723019063472748, 2.7004804015159607, 2.6825032830238342, 2.6060888171195984, 2.674266219139099, 2.6590356826782227, 2.6674388647079468, 2.718071758747101, 2.748310089111328, 2.7814566493034363, 2.782386064529419, 2.7575055360794067, 2.7457368969917297, 2.664517045021057, 2.7405561208724976, 2.7244813442230225, 2.631388008594513, 2.6478678584098816, 2.673007071018219, 2.675974667072296, 2.747464656829834, 2.7265870571136475, 2.7041139602661133, 2.712670683860779, 2.728902280330658, 2.6990007162094116, 2.7854371666908264, 2.7218857407569885, 2.6027714610099792, 2.6852608919143677, 2.5593778491020203, 2.638932943344116, 2.6371134519577026, 2.6244126558303833, 2.633680820465088, 2.761930525302887, 2.698898494243622, 2.711931586265564, 2.662347674369812, 2.7214971780776978, 2.5968599915504456, 2.688742995262146, 2.693136751651764, 2.641327917575836, 2.6774513721466064, 2.740716278553009, 2.6871397495269775, 2.7042182087898254, 2.651579201221466, 2.7004672288894653, 2.655315935611725, 2.733776867389679, 2.6747193336486816, 2.658600687980652, 2.6663142442703247, 2.643062114715576, 2.681218922138214, 2.7073431611061096, 2.670545220375061, 2.6633424162864685, 2.630896747112274, 2.689486801624298, 2.707980155944824]\n"
     ]
    }
   ],
   "source": [
    "scores2 = []\n",
    "for i in obj:\n",
    "    scores2.append(i['history'].history['val_mae'])\n",
    "\n",
    "print(scores2)\n",
    "\n",
    "average_mae_history = [np.mean([x[i] for x in scores2]) for i in range(500)]\n",
    "\n",
    "print(average_mae_history)"
   ],
   "metadata": {
    "collapsed": false,
    "pycharm": {
     "name": "#%%\n"
    }
   }
  },
  {
   "cell_type": "code",
   "execution_count": 38,
   "outputs": [
    {
     "data": {
      "text/plain": "<Figure size 432x288 with 1 Axes>",
      "image/png": "[encoded data removed]"
     },
     "metadata": {
      "needs_background": "light"
     },
     "output_type": "display_data"
    },
    {
     "data": {
      "text/plain": "<Figure size 432x288 with 1 Axes>",
      "image/png": "[encoded data removed]"
     },
     "metadata": {
      "needs_background": "light"
     },
     "output_type": "display_data"
    }
   ],
   "source": [
    "import matplotlib.pyplot as plt\n",
    "plt.plot(range(1,len(average_mae_history) + 1),average_mae_history)\n",
    "plt.xlabel('Epochs')\n",
    "plt.ylabel('Validation MAE')\n",
    "plt.show()\n",
    "\n",
    "\n",
    "# lets make it smoother # Todo check me later and transform into file\n",
    "def smooth_curve(points, factor=0.9):\n",
    "    smoothed_points = []\n",
    "    for point in points:\n",
    "        if smoothed_points:\n",
    "            previous = smoothed_points[-1]\n",
    "            smoothed_points.append(previous * factor + point * (1 - factor))\n",
    "        else:\n",
    "            smoothed_points.append(point)\n",
    "    return smoothed_points\n",
    "\n",
    "smooth_mae_history = smooth_curve(average_mae_history[10:])\n",
    "plt.plot(range(1, len(smooth_mae_history) + 1), smooth_mae_history)\n",
    "plt.xlabel('Epochs')\n",
    "plt.ylabel('Validation MAE')\n",
    "plt.show()"
   ],
   "metadata": {
    "collapsed": false,
    "pycharm": {
     "name": "#%%\n"
    }
   }
  },
  {
   "cell_type": "code",
   "execution_count": 44,
   "outputs": [
    {
     "name": "stdout",
     "output_type": "stream",
     "text": [
      "processing fold # 0\n",
      "processing fold # 1\n",
      "processing fold # 2\n",
      "processing fold # 3\n",
      "[{'history': <tensorflow.python.keras.callbacks.History object at 0x7eff3a7df0d0>, 'model': <tensorflow.python.keras.engine.sequential.Sequential object at 0x7eff69d0e310>, 'evaluate': [7.7820587158203125, 1.879712700843811]}, {'history': <tensorflow.python.keras.callbacks.History object at 0x7eff3a6ba130>, 'model': <tensorflow.python.keras.engine.sequential.Sequential object at 0x7eff3a6e1130>, 'evaluate': [10.861577987670898, 2.333094596862793]}, {'history': <tensorflow.python.keras.callbacks.History object at 0x7eff3a5721f0>, 'model': <tensorflow.python.keras.engine.sequential.Sequential object at 0x7eff3a59c8e0>, 'evaluate': [13.563711166381836, 2.4666569232940674]}, {'history': <tensorflow.python.keras.callbacks.History object at 0x7eff3a42d3a0>, 'model': <tensorflow.python.keras.engine.sequential.Sequential object at 0x7eff3a456160>, 'evaluate': [12.734179496765137, 2.652944326400757]}]\n"
     ]
    }
   ],
   "source": [
    "obj = fn.kfold_validation(\n",
    "     k=4,\n",
    "     num_epochs=80,\n",
    "     train_data=btrain_data,\n",
    "     train_targets=btrain_targets,\n",
    "     build_fn=build_model\n",
    " )\n",
    "print(obj)"
   ],
   "metadata": {
    "collapsed": false,
    "pycharm": {
     "name": "#%%\n"
    }
   }
  },
  {
   "cell_type": "code",
   "execution_count": 43,
   "outputs": [
    {
     "data": {
      "text/plain": "2.5329996943473816"
     },
     "execution_count": 43,
     "metadata": {},
     "output_type": "execute_result"
    }
   ],
   "source": [
    "scores  = []\n",
    "# getting all the scores\n",
    "for i in obj:\n",
    "    # print(i)\n",
    "    val_mse , val_mae = i['evaluate']\n",
    "    scores.append(val_mae)\n",
    "\n",
    "np.mean(scores)\n"
   ],
   "metadata": {
    "collapsed": false,
    "pycharm": {
     "name": "#%%\n"
    }
   }
  }
 ],
 "metadata": {
  "kernelspec": {
   "display_name": "Python 3",
   "language": "python",
   "name": "python3"
  },
  "language_info": {
   "codemirror_mode": {
    "name": "ipython",
    "version": 2
   },
   "file_extension": ".py",
   "mimetype": "text/x-python",
   "name": "python",
   "nbconvert_exporter": "python",
   "pygments_lexer": "ipython2",
   "version": "2.7.6"
  }
 },
 "nbformat": 4,
 "nbformat_minor": 0
}