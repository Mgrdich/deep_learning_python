{
 "cells": [
  {
   "cell_type": "markdown",
   "metadata": {
    "collapsed": true,
    "pycharm": {
     "name": "#%% md\n"
    }
   },
   "source": [
    "# Introduction to Neural Network\n",
    "\n",
    "## Anatomy of neural network\n",
    "\n",
    "training neural network involve around the following\n",
    "* Layers that are combined into a **network** ( or **model** )\n",
    "* The **input** data and corresponding **targets**\n",
    "* the **loss function** which defines feedback signal used for learning\n",
    "* the **optimizer** which determines how learning proceeds\n",
    "\n",
    "\n",
    "Different layers are appropriate for different tensor formats and\n",
    "different types of data processing.\n",
    "* Vector data in `2D` tensors of shape `(samples, features)` -> `Dense` layers\n",
    "* Sequence data in `3D` tensors of shape `(samples, timesteps ,features)` -> `recurrent` layers\n",
    "* Image data stored in `4D` tensors is usually processed by `convolution` layers\n",
    "\n",
    "You can think of layers as the Lego bricks of deep learning\n",
    "\n",
    "building models is like clipping together compatible layers to form  usefull\n",
    "data transformation pipelines."
   ]
  },
  {
   "cell_type": "code",
   "execution_count": null,
   "outputs": [],
   "source": [
    "from tensorflow.keras import layers\n",
    "layer = layers.Dense(32, input_shape=(784,))\n"
   ],
   "metadata": {
    "collapsed": false,
    "pycharm": {
     "name": "#%%\n"
    }
   }
  }
 ],
 "metadata": {
  "kernelspec": {
   "display_name": "Python 3",
   "language": "python",
   "name": "python3"
  },
  "language_info": {
   "codemirror_mode": {
    "name": "ipython",
    "version": 2
   },
   "file_extension": ".py",
   "mimetype": "text/x-python",
   "name": "python",
   "nbconvert_exporter": "python",
   "pygments_lexer": "ipython2",
   "version": "2.7.6"
  }
 },
 "nbformat": 4,
 "nbformat_minor": 0
}