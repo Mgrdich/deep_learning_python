{
 "cells": [
  {
   "cell_type": "markdown",
   "metadata": {
    "collapsed": true,
    "pycharm": {
     "name": "#%% md\n"
    }
   },
   "source": [
    "# Introduction to Neural Network\n",
    "\n",
    "## Anatomy of neural network\n",
    "\n",
    "training neural network involve around the following\n",
    "* Layers that are combined into a **network** ( or **model** )\n",
    "* The **input** data and corresponding **targets**\n",
    "* the **loss function** which defines feedback signal used for learning\n",
    "* the **optimizer** which determines how learning proceeds\n",
    "\n",
    "\n",
    "Different layers are appropriate for different tensor formats and\n",
    "different types of data processing.\n",
    "* Vector data in `2D` tensors of shape `(samples, features)` -> `Dense` layers\n",
    "* Sequence data in `3D` tensors of shape `(samples, timesteps ,features)` -> `recurrent` layers\n",
    "* Image data stored in `4D` tensors is usually processed by `convolution` layers\n",
    "\n",
    "You can think of layers as the Lego bricks of deep learning\n",
    "\n",
    "building models is like clipping together compatible layers to form  useful\n",
    "data transformation pipelines."
   ]
  },
  {
   "cell_type": "code",
   "execution_count": 2,
   "outputs": [
    {
     "data": {
      "text/plain": "<tensorflow.python.keras.layers.core.Dense at 0x7f7f595f1790>"
     },
     "execution_count": 2,
     "metadata": {},
     "output_type": "execute_result"
    }
   ],
   "source": [
    "from tensorflow.keras import layers\n",
    "layer = layers.Dense(32, input_shape=(784,))\n",
    "layer"
   ],
   "metadata": {
    "collapsed": false,
    "pycharm": {
     "name": "#%%\n"
    }
   }
  },
  {
   "cell_type": "markdown",
   "source": [
    "## Models of networks layers\n",
    "Model is directed an acyclic graph of layers most common one is a linear stack of layers\n",
    "mapping sing;e input to single output.\n",
    "Others include:\n",
    "* Two branch networks\n",
    "* Multi-head networks\n",
    "* Inception blocks\n",
    "\n",
    "The topology of a network defines the hypothesis space, by choosing the network\n",
    "topology you constrain your space of possibilities.\n",
    "\n",
    "#### Loss function and optimizers keys to configuring the learning process.\n",
    "once the architecture is defined , you have to choose two things\n",
    "* Loss function\n",
    "* Optimizer Determines how the network will update based in the loss function\n",
    "It implements specific variant of stochastic gradient descent (`SGD`).\n",
    "\n",
    "\n",
    "A neural network that has multiple outputs may have multiple loss functions (one per\n",
    "output). But the gradient-descent process must be based on a single scalar loss value;\n",
    "so, for multiloss networks, all losses are combined (via averaging) into a single scalar\n",
    "quantity."
   ],
   "metadata": {
    "collapsed": false,
    "pycharm": {
     "name": "#%% md\n"
    }
   }
  },
  {
   "cell_type": "markdown",
   "source": [
    "## Introduction to Keras"
   ],
   "metadata": {
    "collapsed": false,
    "pycharm": {
     "name": "#%% md\n"
    }
   }
  },
  {
   "cell_type": "code",
   "execution_count": 7,
   "outputs": [],
   "source": [
    "# class based structure\n",
    "from tensorflow.keras import models , layers\n",
    "model = models.Sequential()\n",
    "model.add(layers.Dense(32,activation='relu',input_shape=(784,)))\n",
    "model.add(layers.Dense(10,activation='softmax'))\n",
    "\n",
    "# parameter will go into the fit function"
   ],
   "metadata": {
    "collapsed": false,
    "pycharm": {
     "name": "#%%\n"
    }
   }
  },
  {
   "cell_type": "code",
   "execution_count": 8,
   "outputs": [],
   "source": [
    "# here is the functional way\n",
    "\n",
    "input_tensor = layers.Input(shape=(784,))\n",
    "x = layers.Dense(32, activation='relu')(input_tensor)\n",
    "output_tensor = layers.Dense(32, activation='softmax')(x)\n",
    "model1 = models.Model(inputs=input_tensor, outputs=output_tensor)"
   ],
   "metadata": {
    "collapsed": false,
    "pycharm": {
     "name": "#%%\n"
    }
   }
  },
  {
   "cell_type": "code",
   "execution_count": 10,
   "outputs": [],
   "source": [
    "from tensorflow.keras import optimizers\n",
    "model1.compile(\n",
    "    optimizer = optimizers.RMSprop(learning_rate=0.001),\n",
    "    loss='mse',\n",
    "    metrics=['accuracy']\n",
    ")"
   ],
   "metadata": {
    "collapsed": false,
    "pycharm": {
     "name": "#%%\n"
    }
   }
  },
  {
   "cell_type": "code",
   "execution_count": 11,
   "outputs": [
    {
     "ename": "NameError",
     "evalue": "name 'target_tensor' is not defined",
     "output_type": "error",
     "traceback": [
      "\u001B[0;31m---------------------------------------------------------------------------\u001B[0m",
      "\u001B[0;31mNameError\u001B[0m                                 Traceback (most recent call last)",
      "\u001B[0;32m/tmp/ipykernel_275648/228141312.py\u001B[0m in \u001B[0;36m<module>\u001B[0;34m\u001B[0m\n\u001B[0;32m----> 1\u001B[0;31m \u001B[0mmodel\u001B[0m\u001B[0;34m.\u001B[0m\u001B[0mfit\u001B[0m\u001B[0;34m(\u001B[0m\u001B[0minput_tensor\u001B[0m\u001B[0;34m,\u001B[0m \u001B[0mtarget_tensor\u001B[0m\u001B[0;34m,\u001B[0m \u001B[0mbatch_size\u001B[0m\u001B[0;34m=\u001B[0m\u001B[0;36m128\u001B[0m\u001B[0;34m,\u001B[0m \u001B[0mepochs\u001B[0m\u001B[0;34m=\u001B[0m\u001B[0;36m10\u001B[0m\u001B[0;34m)\u001B[0m\u001B[0;34m\u001B[0m\u001B[0;34m\u001B[0m\u001B[0m\n\u001B[0m\u001B[1;32m      2\u001B[0m \u001B[0;34m\u001B[0m\u001B[0m\n",
      "\u001B[0;31mNameError\u001B[0m: name 'target_tensor' is not defined"
     ]
    }
   ],
   "source": [
    "# model.fit(input_tensor, target_tensor, batch_size=128, epochs=10)\n"
   ],
   "metadata": {
    "collapsed": false,
    "pycharm": {
     "name": "#%%\n"
    }
   }
  }
 ],
 "metadata": {
  "kernelspec": {
   "display_name": "Python 3",
   "language": "python",
   "name": "python3"
  },
  "language_info": {
   "codemirror_mode": {
    "name": "ipython",
    "version": 2
   },
   "file_extension": ".py",
   "mimetype": "text/x-python",
   "name": "python",
   "nbconvert_exporter": "python",
   "pygments_lexer": "ipython2",
   "version": "2.7.6"
  }
 },
 "nbformat": 4,
 "nbformat_minor": 0
}